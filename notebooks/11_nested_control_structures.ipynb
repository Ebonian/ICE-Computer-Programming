{
  "nbformat": 4,
  "nbformat_minor": 0,
  "metadata": {
    "colab": {
      "name": "09_nested_control_structures.ipynb",
      "provenance": [],
      "collapsed_sections": []
    },
    "kernelspec": {
      "name": "python3",
      "display_name": "Python 3"
    },
    "language_info": {
      "name": "python"
    }
  },
  "cells": [
    {
      "cell_type": "markdown",
      "metadata": {
        "id": "TN7W1beetqcZ"
      },
      "source": [
        "# **Nested Control Structures**\n",
        "\n",
        "\n",
        "\n"
      ]
    },
    {
      "cell_type": "markdown",
      "metadata": {
        "id": "8B_ymZkauD1_"
      },
      "source": [
        "## Topics\n",
        "* Nested while loops\n",
        "* Nested for loops\n",
        "* Breaking out of inner loops\n",
        "* Nested lists\n",
        "* Nexted lists as matrices\n",
        "* List comprehension\n"
      ]
    },
    {
      "cell_type": "markdown",
      "metadata": {
        "id": "gIh2cmRggzdN"
      },
      "source": [
        "##Exercise 9-1.1: Write a program to accept an integer ```N``` to display the multiplicaiton table from base 2 to ```N```, where the multiplier (column) is running from 1 to 5.  The picture below shows the expected result when the input is 10.  Please use 4 character-space for each table cell with the number in the cell being right-justified.  Feel free to use the function ```left_pad``` provided below, but otherwise use only the ``while`` structure(s) (NOT ```for```).\n",
        "\n",
        "<img src=\"https://drive.google.com/uc?id=10WPsO9WN4beWfm5zEs5NDSzcY5B9QKKF&export=download\" width=\"200px\" /> \n"
      ]
    },
    {
      "cell_type": "code",
      "metadata": {
        "id": "7ZSKuBoYg6TK"
      },
      "source": [
        "def left_pad(n, k):\n",
        "    # convert n to a string of length k by adding space to the left\n",
        "    # left_pad(12, 4) ได้ \"  12\"\n",
        "    return (\" \"*k +str(n))[-k:]\n",
        "\n",
        "N = int(input())"
      ],
      "execution_count": null,
      "outputs": []
    },
    {
      "cell_type": "markdown",
      "metadata": {
        "id": "tz02ZkYx3Bs2"
      },
      "source": [
        "##Exercise 9-1.2: Write a program to implement the flowchart below using only the ``while`` structure(s) (NOT ```for```):\n",
        "<img src=\"https://drive.google.com/uc?id=1o6TlPIyuznMNZ4mCuTW1v6l5oVYFXAIn&export=download\" width=\"800px\" /> \n"
      ]
    },
    {
      "cell_type": "code",
      "metadata": {
        "id": "tSF8yD6q3JAQ"
      },
      "source": [
        "N = int(input())\n",
        "\n",
        "\n",
        "print(prime)"
      ],
      "execution_count": null,
      "outputs": []
    },
    {
      "cell_type": "markdown",
      "metadata": {
        "id": "SkkkF0-T_Kq_"
      },
      "source": [
        "##Exercise 9-2.1: Write a program to read in school names to show all possible match-ups (one match per line) ordered alphabetically as shown in the following example.\n",
        "\n",
        "Input: ```BCC, AC, DS, SK``` \\\\\n",
        "Output: \n",
        "```AC vs BCC``` \\\\\n",
        "```AC vs DS``` \\\\\n",
        "```AC vs SK``` \\\\\n",
        "```BCC vs DS``` \\\\\n",
        "```BCC vs SK``` \\\\\n",
        "```DS vs SK``` "
      ]
    },
    {
      "cell_type": "code",
      "metadata": {
        "id": "wCHvFF0D_cj_"
      },
      "source": [
        "schools = input().split()"
      ],
      "execution_count": null,
      "outputs": []
    },
    {
      "cell_type": "markdown",
      "metadata": {
        "id": "1-3SUFjyA9h5"
      },
      "source": [
        "##Exercise 9-2.2: Redo Exercise 9-2.1 for the multiplication table but now using only the ```for``` loop only (not ```while```)."
      ]
    },
    {
      "cell_type": "code",
      "metadata": {
        "id": "SfleVgujBSNS"
      },
      "source": [
        "def left_pad(n, k):\n",
        "    # Convert n to a string of size k by appending the spaces to the right\n",
        "    # left_pad(12, 4) = \"  12\"\n",
        "    return (\" \"*k +str(n))[-k:]\n",
        "\n",
        "N = int(input())"
      ],
      "execution_count": null,
      "outputs": []
    },
    {
      "cell_type": "markdown",
      "metadata": {
        "id": "ZGNEmHo9CiOR"
      },
      "source": [
        "##Exercise 9-2.3: Repeat Exercise 9-1.2  but now using only the ``for`` structure(s) (NOT ```while```)."
      ]
    },
    {
      "cell_type": "code",
      "metadata": {
        "id": "oLmuC-iTCo7_"
      },
      "source": [
        ""
      ],
      "execution_count": null,
      "outputs": []
    },
    {
      "cell_type": "markdown",
      "metadata": {
        "id": "9dm7DaemHSQ7"
      },
      "source": [
        "##Exercise 9-2.4: Write the function ```print_month(m, y)``` with the inputs being the month number and year (AD) that displays the calendar of the month in year with the first/last days of week being Sunday and Saturday. Feel free to use the given functions ```days_in_month```, ```day_of_week```. Example below shows the expected output of ```print_month(8, 2019)```:\n",
        "\n",
        "<img src=\"https://drive.google.com/uc?id=1pqQkUqZ1SUIjc_XRz9rdYL3qm406on0P&export=download\" width=\"400px\" /> \n"
      ]
    },
    {
      "cell_type": "code",
      "metadata": {
        "id": "0YcVIQJVJKZK"
      },
      "source": [
        "def days_in_month(m, y):\n",
        "    if m == 2:\n",
        "        if y%400 or y%4==0 and y%100 != 0:\n",
        "            return 29\n",
        "        else:\n",
        "            return 28\n",
        "    elif m in [4,6,9,11]:\n",
        "        return 30\n",
        "    else:\n",
        "        return 31\n",
        "#-----------------------------------------\n",
        "def day_of_week(d, m, y):\n",
        "    # 0 -> Sunday, 1 -> Monday, ...\n",
        "    if m < 3 :\n",
        "        m += 12\n",
        "        y -= 1\n",
        "    c = y // 100\n",
        "    k = y % 100\n",
        "    w = (d+26*(m+1)//10+k+k//4+c//4+5*c)%7\n",
        "    return (w-1) % 7   \n",
        "#-----------------------------------------\n",
        "def print_month(m, y):\n",
        "    print(\" SU MO TU WE TH FR SA\")"
      ],
      "execution_count": null,
      "outputs": []
    },
    {
      "cell_type": "markdown",
      "metadata": {
        "id": "Mj7fne0XKE9W"
      },
      "source": [
        "##Exercise 9-3.1: The given function ```count_digit(x, d)``` accepts ```x``` to be a list of integers and ```d``` to be a integer digit between 0-9.  The function will return all appearance of digit ```d``` in the list, e.g. ```count_digit([333, 23, 4], 3) = 3```, because there are 3 appearance of 4 in ```[333, 23, 4]```.  Please separate the ```while``` loop out as a function and implement it, so that ```count_digit``` still works the same."
      ]
    },
    {
      "cell_type": "code",
      "metadata": {
        "id": "jiyJXVmOKJqI"
      },
      "source": [
        "def count_digit(x, d):\n",
        "    c = 0\n",
        "    for n in x:\n",
        "        while n > 0:\n",
        "            if n%10 == d:\n",
        "                c += 1\n",
        "            n //= 10\n",
        "    return c"
      ],
      "execution_count": null,
      "outputs": []
    },
    {
      "cell_type": "markdown",
      "metadata": {
        "id": "fiHBXf8ONg2G"
      },
      "source": [
        "##Exercise 9-3.2: Write the function ```longest_suffix(words)``` accepting ```words``` as a list of strings that returns the longest common suffix in all strings in the list, e.g., ```longest_suffix([\"programming\", \"scramming\", \"Diagramming\"])``` will return ```\"ramming\"```."
      ]
    },
    {
      "cell_type": "code",
      "metadata": {
        "id": "09UK34_vOBxj"
      },
      "source": [
        "def longest_suffix(words):"
      ],
      "execution_count": null,
      "outputs": []
    },
    {
      "cell_type": "markdown",
      "metadata": {
        "id": "phMDw58RSTAP"
      },
      "source": [
        "##Exercise 9-4.1: Write the function ```to_buckets(d)``` accepting ```d``` as a list of integers that returns a list of size 10, where the k-th item will be the list of all integers in ```d``` whose the least significant digit is ```k```, e.g., \n",
        "\n",
        "```to_buckets([33,21,143,33,11]) = [[], [21, 11], [], [33, 143, 33], [], [], [], [], [], []]```."
      ]
    },
    {
      "cell_type": "code",
      "metadata": {
        "id": "Vah4AYHaSVVQ"
      },
      "source": [
        "def to_buckets(d):"
      ],
      "execution_count": null,
      "outputs": []
    },
    {
      "cell_type": "markdown",
      "metadata": {
        "id": "DkVFyc-uTlIl"
      },
      "source": [
        "##Exercise 9-4.2: Write the function ```read_points()``` that returns the list of all 2D floating coordinates in the form ```[[x0,y0], [x1,y1], ...]```,  from the inputs in the form ```x0:y0, x1:y1, ...```, e.g., ```1.0:2.4, 3:5, 6:9.0```."
      ]
    },
    {
      "cell_type": "code",
      "metadata": {
        "id": "pf8KweL2UDPc"
      },
      "source": [
        "# input: 2:3, 4:4\n",
        "# return: [[2.0, 3.0], [4.0, 4.0]]\n",
        "\n",
        "def read_points():"
      ],
      "execution_count": null,
      "outputs": []
    },
    {
      "cell_type": "markdown",
      "metadata": {
        "id": "1u7AEsdjUS_o"
      },
      "source": [
        "##Exercise 9-4.3: Write the function ```all_closest_pairs(points)``` accepting ```points``` to be a list of all 2D flating coordinates that returns the list of all point pairs with the minimum distances in term of the index pairs of points in the input list ```points```, e.g.,\n",
        "\n",
        "```all_closest_pairs([[30,30], [30,31], [31,30], [30,32]]) = [[0, 1], [0, 2], [1, 3]]```."
      ]
    },
    {
      "cell_type": "code",
      "metadata": {
        "id": "49dX7jjNU33e"
      },
      "source": [
        "def all_closest_pairs(points):"
      ],
      "execution_count": null,
      "outputs": []
    },
    {
      "cell_type": "markdown",
      "metadata": {
        "id": "xpd1auudVmKN"
      },
      "source": [
        "##Exercise 9-4.4:  Write a function ```to_dict(like_list)``` accepting the list of the form ```[[u1,u2], [u3,u4], ...]``` containing the list of who likes whom in a social media platform. The function has to create a dictionary in the form \n",
        "```{user:``` list of all users the key user likes ```}```, e.g., \n",
        "\n",
        "```to_dict([['A', 'B'], ['A', 'C'], ['C', 'B']]) = {'A': ['B', 'C'], 'C': ['B']}```."
      ]
    },
    {
      "cell_type": "code",
      "metadata": {
        "id": "zHKMkROZWdDL"
      },
      "source": [
        "def to_dict(like_list):"
      ],
      "execution_count": null,
      "outputs": []
    },
    {
      "cell_type": "markdown",
      "metadata": {
        "id": "Csq_S2yvW69D"
      },
      "source": [
        "##Exercise 9-5.1: Write the function ```sum_all(M)``` accepting ```M``` as a nested list as a matrix, that returns the sum of all elements in the matrix."
      ]
    },
    {
      "cell_type": "code",
      "metadata": {
        "id": "ZiynCVN0XQOi"
      },
      "source": [
        "def sum_all(M):"
      ],
      "execution_count": null,
      "outputs": []
    },
    {
      "cell_type": "markdown",
      "metadata": {
        "id": "5pd_s3UpXTo6"
      },
      "source": [
        "##Exercise 9-5.2: Write the function ```sum_row(M)``` accepting ```M``` as a nested list as a matrix, that returns the list with the ```k```-th element being the sum of all matrix elements in the ```k```-th row."
      ]
    },
    {
      "cell_type": "code",
      "metadata": {
        "id": "-yskHlzEX0xo"
      },
      "source": [
        "def sum_row(M):"
      ],
      "execution_count": null,
      "outputs": []
    },
    {
      "cell_type": "markdown",
      "metadata": {
        "id": "mR0A76QRX3DY"
      },
      "source": [
        "##Exercise 9-5.3: Write the function ```sum_col(M)``` accepting ```M``` as a nested list as a matrix, that returns the list with the ```k```-th element being the sum of all matrix elements in the ```k```-th column."
      ]
    },
    {
      "cell_type": "code",
      "metadata": {
        "id": "UvJIeFamX7bS"
      },
      "source": [
        "def sum_col(M):"
      ],
      "execution_count": null,
      "outputs": []
    },
    {
      "cell_type": "markdown",
      "metadata": {
        "id": "deMwnjajYBp_"
      },
      "source": [
        ""
      ]
    },
    {
      "cell_type": "markdown",
      "metadata": {
        "id": "L_0B1DMCYLj0"
      },
      "source": [
        "##Exercise 9-5.4: Write the function ```identity(n)``` accepting an integer```n```, that returns a nested list representing the ```n``` by ```n``` identity matrix with 1 in all diagonal elements and zero otherwise. "
      ]
    },
    {
      "cell_type": "code",
      "metadata": {
        "id": "aa3nMhZwYwEE"
      },
      "source": [
        "def identity(n):"
      ],
      "execution_count": null,
      "outputs": []
    },
    {
      "cell_type": "markdown",
      "metadata": {
        "id": "rAAy-zRvYyBy"
      },
      "source": [
        "##Exercise 9-5.5: Write the function ```transpose(M)``` accepting ```M``` as a nested list as a matrix, that returns the nested list representing the transpose (matrix) of ```M```."
      ]
    },
    {
      "cell_type": "code",
      "metadata": {
        "id": "3LoSpYw8ZENI"
      },
      "source": [
        "def transpose(M):"
      ],
      "execution_count": null,
      "outputs": []
    },
    {
      "cell_type": "markdown",
      "metadata": {
        "id": "1dobEMy_ZPtF"
      },
      "source": [
        "##Exercise 9-6.1: Write the following functions all accepting two lists of real numbers of the same size.  You must use list comprehension to implement all functions.\n",
        "\n",
        "* ```add``: returns the addition of the two input lists as vectors.\n",
        "\n",
        "* ```dot```: returns the dot product of the two input lists as vectors.\n"
      ]
    },
    {
      "cell_type": "code",
      "metadata": {
        "id": "3AvunXx7eEXs"
      },
      "source": [
        "def add(u,v):\n",
        "\n",
        "def dot(u,v):"
      ],
      "execution_count": null,
      "outputs": []
    },
    {
      "cell_type": "markdown",
      "metadata": {
        "id": "jXaWT7lNe_uj"
      },
      "source": [
        "##Exercise 9-6.2: Write the following functions all accepting one list of integers. You must use list comprehension to implement all functions.\n",
        "\n",
        "* ```to_list_of_strings(x)``: returns the list with all elements of the input list converted to strings, e.g., returning ```['1', '2', '3']``` for the input ```[1,2,3]```.\n",
        "\n",
        "* ```get_positive(x)```: returns the list consisting only of positive elements in the input list (retaining their order), e.g., returning ```[1,9,3]``` for the input ```[0,1,0,-2,9,3,-4] ```.\n",
        "\n",
        "* ```get_peak_indexes(x)```: returns the indinces of the input list with all elements in the input list, each of which is larger than the prior and subsequent elements in the input list, e.g., returning ```[2,5,8]``` for the input ```[0,1,9,3,4,99,3,4,6,0,9]```."
      ]
    },
    {
      "cell_type": "code",
      "metadata": {
        "id": "0mJ7RZ8dgXds"
      },
      "source": [
        "def to_list_of_strings(x):\n",
        "  \n",
        "def get_positive(x):\n",
        "\n",
        "def get_peak_indexes(x):"
      ],
      "execution_count": null,
      "outputs": []
    },
    {
      "cell_type": "markdown",
      "metadata": {
        "id": "I71xKDm4her1"
      },
      "source": [
        "##Exercise 9-6.3: Redo Exercise 9-5.1 to 9-5.4 again but now using list comprehension."
      ]
    },
    {
      "cell_type": "code",
      "metadata": {
        "id": "2g1n1Zv9htWH"
      },
      "source": [
        "def sum_all(M):\n",
        "\n",
        "def sum_row(M):\n",
        "\n",
        "def sum_col(M):\n",
        "\n",
        "def identity(n):"
      ],
      "execution_count": null,
      "outputs": []
    },
    {
      "cell_type": "markdown",
      "metadata": {
        "id": "-kFtgIWTiD0H"
      },
      "source": [
        "##Exercise 9-6.4: Use list comprehension to write a function accepting an input in the form ```Bank=Stock value, ...```, e.g., ```SCB=132.0, BBL=176.5, KBANK=172.0```, that returns individual lines each containing the bank code and its stock value, sorted alphabetically based on the bank codes."
      ]
    },
    {
      "cell_type": "code",
      "metadata": {
        "id": "E6HabSFCjFGm"
      },
      "source": [
        ""
      ],
      "execution_count": null,
      "outputs": []
    },
    {
      "cell_type": "markdown",
      "metadata": {
        "id": "Wme2QX03jHw8"
      },
      "source": [
        "##Exercise 9-6.5: Use list comprehension to write a function accepting an input in the form ```Bank=Stock value, ...```, e.g., ```SCB=132.0, BBL=176.5, KBANK=172.0```, that returns individual lines each containing the bank code and its stock value, sorted from the most to least valuable stocks. (Feel free to assume every input is such that none of its stock values are equal."
      ]
    },
    {
      "cell_type": "code",
      "metadata": {
        "id": "_ELb7IfVjJ0o"
      },
      "source": [
        ""
      ],
      "execution_count": null,
      "outputs": []
    }
  ]
}
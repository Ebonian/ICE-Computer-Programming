{
  "cells": [
    {
      "cell_type": "markdown",
      "metadata": {
        "id": "6xOXtkvzF6aU"
      },
      "source": [
        "# Week 2\n",
        "# `https://bit.ly/2190101-02_StrList`"
      ]
    },
    {
      "cell_type": "markdown",
      "metadata": {
        "id": "Q2cavZ60okRI"
      },
      "source": [
        "# Review"
      ]
    },
    {
      "cell_type": "markdown",
      "metadata": {
        "id": "6uyESxzEDcfQ"
      },
      "source": [
        "## expression, `math` function, `input()`, conversion"
      ]
    },
    {
      "cell_type": "code",
      "execution_count": 1,
      "metadata": {
        "colab": {
          "base_uri": "https://localhost:8080/"
        },
        "id": "YSgJP6b24RjH",
        "outputId": "023cae1d-5685-46e6-898b-ddbd5ec32298"
      },
      "outputs": [
        {
          "name": "stdout",
          "output_type": "stream",
          "text": [
            "1035\n"
          ]
        }
      ],
      "source": [
        "print(23 * 45)"
      ]
    },
    {
      "cell_type": "code",
      "execution_count": null,
      "metadata": {
        "id": "4-CXPyTBopah"
      },
      "outputs": [],
      "source": [
        "x = input()\n",
        "n = int(input())\n",
        "z = float(input())\n",
        "\n",
        "# expression\n",
        "# math function\n",
        "import math\n",
        "\n",
        "# operator +, -, *, /, //, %, **, ()\n",
        "# precedence of operators (order)"
      ]
    },
    {
      "cell_type": "code",
      "execution_count": null,
      "metadata": {
        "colab": {
          "base_uri": "https://localhost:8080/"
        },
        "id": "z9XJj9pcKphH",
        "outputId": "d7567d3a-b9f7-4615-ab7f-0447eb49b31d"
      },
      "outputs": [
        {
          "name": "stdout",
          "output_type": "stream",
          "text": [
            "enter degree: 30\n",
            "0.49999999999999994\n"
          ]
        }
      ],
      "source": [
        "import math\n",
        "\n",
        "degree = int(input('enter degree: '))\n",
        "radian = math.radians(degree)\n",
        "sine_of_x = math.sin(radian)\n",
        "print(sine_of_x)\n"
      ]
    },
    {
      "cell_type": "code",
      "execution_count": null,
      "metadata": {
        "id": "Fcj717i6fK3K"
      },
      "outputs": [],
      "source": [
        "# conversion\n",
        "# str -> numbers\n",
        "an_int = int('234')\n",
        "a_float = float('2.34e2')\n",
        "another_int = int(float('12.345e6'))\n",
        "\n",
        "# numbers -> str\n",
        "s1 = str(87)\n",
        "s2 = str(0.9755)\n",
        "s3 = str(3.321e-4)"
      ]
    },
    {
      "cell_type": "markdown",
      "metadata": {
        "id": "gkCOdMyDXg_d"
      },
      "source": [
        "## get many inputs at once"
      ]
    },
    {
      "cell_type": "code",
      "execution_count": null,
      "metadata": {
        "id": "piEQm-awXpvA"
      },
      "outputs": [],
      "source": [
        "# get two strings\n",
        "a, b = input().split()\n",
        "print(a, b)"
      ]
    },
    {
      "cell_type": "code",
      "execution_count": null,
      "metadata": {
        "id": "37HlC_poMXQL"
      },
      "outputs": [],
      "source": [
        "# get inputs with delimeter\n",
        "hour, min, sec  = input().split('-')\n",
        "print(hour, min, sec)"
      ]
    },
    {
      "cell_type": "code",
      "execution_count": null,
      "metadata": {
        "id": "i6vj9BQa6hxN"
      },
      "outputs": [],
      "source": [
        "# get integer numbers in one line\n",
        "a, b, c = input().split()\n",
        "a, b, c = int(a), int(b), int(c)\n",
        "\n",
        "# better\n",
        "c, d, e = [int(e) for e in input().split()]\n",
        "print(c + d + e)"
      ]
    },
    {
      "cell_type": "code",
      "execution_count": null,
      "metadata": {
        "id": "GZaItN1v6l37"
      },
      "outputs": [],
      "source": [
        "# get floating-point numbers\n",
        "x, y = [float(e) for e in input().split()]\n",
        "print(x + y)"
      ]
    },
    {
      "cell_type": "code",
      "execution_count": null,
      "metadata": {
        "id": "VpR5Q4nSMBsL"
      },
      "outputs": [],
      "source": [
        "# quadratic root\n",
        "# ax^2 + bx + c = 0\n",
        "a, b, c = [float(e) for e in input().split()]\n",
        "r1 = (-b + (b**2 - 4*a*c)**0.5) / (2*a)\n",
        "r2 = -b - b**2 - 4*a*c**0.5 / 2*a\n",
        "\n"
      ]
    },
    {
      "cell_type": "markdown",
      "metadata": {
        "id": "KNoFhqfr4sNZ"
      },
      "source": [
        "## **Programing Tip:** Divide and conquer\n",
        "* break complex expression into smaller expressions\n",
        "* break complex task into smaller subtasks"
      ]
    },
    {
      "cell_type": "code",
      "execution_count": null,
      "metadata": {
        "id": "PjDeWla8444K"
      },
      "outputs": [],
      "source": [
        "# better\n",
        "t = (b**2 - 4*a*c)**0.5\n",
        "bottom = 2*a\n",
        "rt1 = (-b + t)/bottom\n",
        "rt2 = (-b - t)/bottom"
      ]
    },
    {
      "cell_type": "markdown",
      "metadata": {
        "id": "q-cC7pIWZjua"
      },
      "source": [
        "## **Exercise:** extract digit from a number"
      ]
    },
    {
      "cell_type": "code",
      "execution_count": null,
      "metadata": {
        "colab": {
          "base_uri": "https://localhost:8080/"
        },
        "id": "Ua351W9_h8Vh",
        "outputId": "d5f0a3f7-f099-4fb1-f6c4-c2027ff6f10a"
      },
      "outputs": [
        {
          "name": "stdout",
          "output_type": "stream",
          "text": [
            "678\n",
            "6\n",
            "123456\n",
            "6\n",
            "2\n",
            "4\n"
          ]
        }
      ],
      "source": [
        "a = 12345678\n",
        "# want to extract hundreds from a\n",
        "# 12345|6|78\n",
        "#    A  ^ B\n",
        "# remove A, B\n",
        "a = a % 1000\n",
        "print(a)\n",
        "a = a // 100\n",
        "print(a)\n",
        "\n",
        "a = 12345678\n",
        "a = a // 100\n",
        "print(a)\n",
        "print(a%10)\n",
        "# want to extract millions from a\n",
        "# 1|2|345678\n",
        "#   ^\n",
        "a = 12345678\n",
        "print(a % 10000000 // 1000000)\n",
        "print(a // 10000 % 10)"
      ]
    },
    {
      "cell_type": "markdown",
      "metadata": {
        "id": "bJXbWhs_xl0P"
      },
      "source": [
        "# [`Share your code`](https://colab.research.google.com/drive/1su0bWuNuSwOQ25izAQbjglV0J2ZvaM5A?usp=sharing)"
      ]
    },
    {
      "cell_type": "markdown",
      "metadata": {
        "id": "gGNGvFgw_33O"
      },
      "source": [
        "# Topic 2: Basic str and list operations"
      ]
    },
    {
      "cell_type": "markdown",
      "metadata": {
        "id": "opkwyYgrA6hi"
      },
      "source": [
        "## `str` (string)\n",
        "* `str` creation\n",
        "* `len(s)`\n",
        "* `str` operators\n",
        "\n"
      ]
    },
    {
      "cell_type": "markdown",
      "metadata": {
        "id": "kv7Z0cEUgkDM"
      },
      "source": [
        "### `string creation`"
      ]
    },
    {
      "cell_type": "code",
      "execution_count": null,
      "metadata": {
        "colab": {
          "base_uri": "https://localhost:8080/"
        },
        "id": "akWj9v8NO8jE",
        "outputId": "420fa05a-eed7-4ffb-9b28-3f025ba0884a"
      },
      "outputs": [
        {
          "name": "stdout",
          "output_type": "stream",
          "text": [
            "16 : this is a string\n",
            "9 : 12345\\c67\n",
            "11 : 12   345\t67\n"
          ]
        }
      ],
      "source": [
        "# string creation\n",
        "#.             1\n",
        "#.   01234567890123456789\n",
        "# create string\n",
        "s = \"this is a string\"\n",
        "t = '12345\\\\c67'\n",
        "u = '12   345\\t67'\n",
        "print(len(s), ':', s)\n",
        "print(len(t), ':', t)\n",
        "print(len(u), ':', u)\n"
      ]
    },
    {
      "cell_type": "markdown",
      "metadata": {
        "id": "qRG_PjyOgx9R"
      },
      "source": [
        "### `str` operators `+, *`"
      ]
    },
    {
      "cell_type": "code",
      "execution_count": null,
      "metadata": {
        "id": "-cZ5lTXVhLhg"
      },
      "outputs": [],
      "source": [
        "# + operator\n",
        "# concatenate\n",
        "s1 = 'string1'\n",
        "s2 = 'string2'\n",
        "s3 = s1 + s2"
      ]
    },
    {
      "cell_type": "code",
      "execution_count": null,
      "metadata": {
        "colab": {
          "base_uri": "https://localhost:8080/"
        },
        "id": "2HOCmvJicGQ7",
        "outputId": "5a39e860-7a94-4d5f-fcf0-942b0d1e6386"
      },
      "outputs": [
        {
          "data": {
            "text/plain": [
              "('string1', 'string2', 'string1string2')"
            ]
          },
          "execution_count": 23,
          "metadata": {},
          "output_type": "execute_result"
        }
      ],
      "source": [
        "s1, s2, s3"
      ]
    },
    {
      "cell_type": "code",
      "execution_count": null,
      "metadata": {
        "colab": {
          "base_uri": "https://localhost:8080/",
          "height": 35
        },
        "id": "R3Z_wKPuhnzM",
        "outputId": "9aacc6bd-033f-414e-be6a-304f4d967903"
      },
      "outputs": [
        {
          "data": {
            "application/vnd.google.colaboratory.intrinsic+json": {
              "type": "string"
            },
            "text/plain": [
              "'a-ba-ba-b'"
            ]
          },
          "execution_count": 24,
          "metadata": {},
          "output_type": "execute_result"
        }
      ],
      "source": [
        "# * operator\n",
        "# str * integer_number\n",
        "s = 'a-b'\n",
        "t = 3*s\n",
        "t"
      ]
    },
    {
      "cell_type": "code",
      "execution_count": null,
      "metadata": {
        "id": "gcCxiO3Ziq84"
      },
      "outputs": [],
      "source": [
        "# try multiply with 0, or negative "
      ]
    },
    {
      "cell_type": "markdown",
      "metadata": {
        "id": "_DFZlCuSi1ee"
      },
      "source": [
        "## `list`\n",
        "* `list` creation\n",
        "* `len(d)`\n",
        "* `list` operators"
      ]
    },
    {
      "cell_type": "markdown",
      "metadata": {
        "id": "V3RLbAv-jdAF"
      },
      "source": [
        "### `list` creation"
      ]
    },
    {
      "cell_type": "code",
      "execution_count": null,
      "metadata": {
        "colab": {
          "base_uri": "https://localhost:8080/"
        },
        "id": "S77WZ2XIBBJF",
        "outputId": "f7afe16a-60c0-4f9e-b2b0-ae96da0ab9f5"
      },
      "outputs": [
        {
          "name": "stdout",
          "output_type": "stream",
          "text": [
            "0 : []\n",
            "4 : [1, 3, 30, -4]\n",
            "3 : [3.4, -4.2, 4.5e+20]\n",
            "5 : ['mon', 'tue', 'wed', 'thu', 'fri']\n",
            "12 : [3.4, -4.2, 4.5e+20, 1, 3, 30, -4, 'mon', 'tue', 'wed', 'thu', 'fri']\n"
          ]
        }
      ],
      "source": [
        "# list creation\n",
        "empty_list = []\n",
        "list_of_int = [1, 3, 30, -4]\n",
        "list_of_float = [3.4, -4.2, 4.5e20]\n",
        "weekdays = ['mon', 'tue', 'wed', 'thu', 'fri']\n",
        "combination_list = list_of_float + list_of_int + weekdays\n",
        "print(len(empty_list), ':', empty_list)\n",
        "print(len(list_of_int), ':', list_of_int)\n",
        "print(len(list_of_float), ':', list_of_float)\n",
        "print(len(weekdays), ':', weekdays)\n",
        "print(len(combination_list), ':', combination_list)\n"
      ]
    },
    {
      "cell_type": "markdown",
      "metadata": {
        "id": "pwlMY45-jn7U"
      },
      "source": [
        "### `list` operator `+, *`"
      ]
    },
    {
      "cell_type": "code",
      "execution_count": null,
      "metadata": {
        "colab": {
          "base_uri": "https://localhost:8080/"
        },
        "id": "GLljvzL2QpHJ",
        "outputId": "ad59d42a-af87-4fbf-a2b9-1ca10c73fe59"
      },
      "outputs": [
        {
          "name": "stdout",
          "output_type": "stream",
          "text": [
            "[2, 3, 5, 6] [5, 6, 2, 3]\n"
          ]
        }
      ],
      "source": [
        "# list operator\n",
        "x = [2, 3]\n",
        "y = [5, 6]\n",
        "print(x + y, y + x)"
      ]
    },
    {
      "cell_type": "code",
      "execution_count": null,
      "metadata": {
        "colab": {
          "base_uri": "https://localhost:8080/"
        },
        "id": "WWLa3Vn5fEmE",
        "outputId": "f73b4849-b62f-4b2e-e345-a8c8fb7d31cf"
      },
      "outputs": [
        {
          "name": "stdout",
          "output_type": "stream",
          "text": [
            "[2, 3, 2, 3] [2, 3, 2, 3, 2, 3]\n"
          ]
        }
      ],
      "source": [
        "# * operator\n",
        "x = [2, 3]\n",
        "print(2*x, x*3)"
      ]
    },
    {
      "cell_type": "markdown",
      "metadata": {
        "id": "ShGcwPeUfYGk"
      },
      "source": [
        "#### What is the result when multply a list or str with 0 or negative number?"
      ]
    },
    {
      "cell_type": "code",
      "execution_count": null,
      "metadata": {
        "id": "ypb6GK0efl22"
      },
      "outputs": [],
      "source": [
        "# try it"
      ]
    },
    {
      "cell_type": "markdown",
      "metadata": {
        "id": "AZ__1H_1lGQ_"
      },
      "source": [
        "### **Exercise 2-1**: Create variable x, which is a list of integer. x has 300 slots. The first 100 slots store 0, the second 100 slots store 1, the rest store 2."
      ]
    },
    {
      "cell_type": "code",
      "execution_count": null,
      "metadata": {
        "id": "wTaZyFfPlX6X"
      },
      "outputs": [],
      "source": [
        "x = 100*[0] + 100*[1] + 100*[2]"
      ]
    },
    {
      "cell_type": "markdown",
      "metadata": {
        "id": "jyxIf3ipRgnA"
      },
      "source": [
        "## `list` from `str`, `str` from `list`(of `str`)"
      ]
    },
    {
      "cell_type": "code",
      "execution_count": null,
      "metadata": {
        "id": "gKyPQ16wQfW2"
      },
      "outputs": [],
      "source": [
        "s = 'abcde  x\\\\l xxx'\n",
        "list_from_str = list(s)\n",
        "print(s)\n",
        "print(list_from_str)"
      ]
    },
    {
      "cell_type": "code",
      "execution_count": null,
      "metadata": {
        "id": "d1GykLzaRrvn"
      },
      "outputs": [],
      "source": [
        "s = 'Today is 16 Aug 2022.'\n",
        "x = list(s)\n",
        "print(x)\n",
        "print(s.split())"
      ]
    },
    {
      "cell_type": "code",
      "execution_count": null,
      "metadata": {
        "id": "5k7ZA2VvgHQr"
      },
      "outputs": [],
      "source": [
        "student_id = '6431234521'\n",
        "x = list(student_id)\n",
        "print(x)"
      ]
    },
    {
      "cell_type": "code",
      "execution_count": null,
      "metadata": {
        "id": "3o-CX3JJSaNw"
      },
      "outputs": [],
      "source": [
        "weekdays = ['mon', 'tue', 'wed', 'thu', 'fri']\n",
        "str_from_list = '*-*'.join(weekdays) \n",
        "print(str_from_list)"
      ]
    },
    {
      "cell_type": "markdown",
      "metadata": {
        "id": "pHS1eMCo1G6B"
      },
      "source": [
        "## access elements in `str` and `list`\n",
        "\n",
        "`n` is length of a `str` or `list`\n",
        "* `0 --> n-1` left to right\n",
        "* `-1 --> -n` right to left"
      ]
    },
    {
      "cell_type": "code",
      "execution_count": null,
      "metadata": {
        "id": "nENksa4O1PA_"
      },
      "outputs": [],
      "source": [
        "s = 'abcdefghij' \n",
        "# --> 0, 1, 2, ..., n-1\n",
        "#     -n, -n+1, -n+2, ..., -2, -1 <--\n",
        "print(s[0])\n",
        "print(s[2])\n",
        "print(len(s))\n",
        "print(s[-1])\n",
        "print(s[-8])\n",
        "print(s[-9])\n",
        "print(s[-10])\n",
        "print(s[-11])"
      ]
    },
    {
      "cell_type": "code",
      "execution_count": null,
      "metadata": {
        "id": "QTwmPclQ1TZF"
      },
      "outputs": [],
      "source": [
        "d = [1, 3, 30, -4]\n",
        "print(len(d), ':', d)\n",
        "print(d[0])\n",
        "print(d[2])\n",
        "print(d[-1])\n",
        "print(d)"
      ]
    },
    {
      "cell_type": "markdown",
      "metadata": {
        "id": "x8f6bL8atnii"
      },
      "source": [
        "## changing 1 element inside a `str` or `list`"
      ]
    },
    {
      "cell_type": "code",
      "execution_count": null,
      "metadata": {
        "id": "Lleh2fxKivHL"
      },
      "outputs": [],
      "source": [
        "s = '12345'\n",
        "s[0] = '0' # ERROR, str cannot be modified"
      ]
    },
    {
      "cell_type": "code",
      "execution_count": null,
      "metadata": {
        "id": "5nNMq_Sdtx8u"
      },
      "outputs": [],
      "source": [
        "s = '12345'\n",
        "t = list(s)\n",
        "print(t)\n",
        "t[3] = \"xx\"\n",
        "t[0] = 99\n",
        "print(t)\n",
        "print(t[-1])\n",
        "t[-1] = int(t[-1])\n",
        "print(t)"
      ]
    },
    {
      "cell_type": "markdown",
      "metadata": {
        "id": "h327YNDqmZIf"
      },
      "source": [
        "### **Exercise 2-2**: \n",
        "1. Read a string from input and store it in `s`.\n",
        "2. Create a variable `t` (t must be a string) that store the left most character and the rightmost character of s\n",
        "3. Store the middle character of `s` in variable `u`. If `s = \"01234\"` the middle character is `\"2\"`. If `s = \"012345\"`, the middle character is `\"2\"`."
      ]
    },
    {
      "cell_type": "code",
      "execution_count": 27,
      "metadata": {
        "id": "n5DW5aCRo1L8"
      },
      "outputs": [
        {
          "name": "stdout",
          "output_type": "stream",
          "text": [
            "04 1\n"
          ]
        }
      ],
      "source": [
        "import math\n",
        "\n",
        "s = input()\n",
        "t = s[0] + s[-1]\n",
        "middleIdx = len(s) // 2\n",
        "u = s[middleIdx]\n",
        "\n",
        "print(t, u)"
      ]
    },
    {
      "cell_type": "markdown",
      "metadata": {
        "id": "P_UldpYa1UGq"
      },
      "source": [
        "## slicing `x[start:stop:step]`\n",
        "\n",
        "* positive step \n",
        "** `start` must be left of `stop`\n",
        "\n",
        "* negative step \n",
        "** `start` must be right of `stop`\n",
        "\n",
        "otherwise, empty result"
      ]
    },
    {
      "cell_type": "code",
      "execution_count": null,
      "metadata": {
        "id": "VxxFgGpBZv2J"
      },
      "outputs": [],
      "source": [
        "#----0.        1.        2.        3----'\n",
        "#----0123456789012345678901234567890----'\n",
        "x = 'abcdefghijklmnopqrstuvwxyz'\n",
        "#x[0:len(x):1], x[0:len(x)], x[:len(x)], x[0:], x[:]\n",
        "#x[5:], x[5:len(x):1]\n",
        "#x[:5], x[0:5:1]\n",
        "#x[5::2]\n",
        "x[1::2]"
      ]
    },
    {
      "cell_type": "code",
      "execution_count": null,
      "metadata": {
        "id": "l0E_rQxQbVRk"
      },
      "outputs": [],
      "source": [
        "# reverse a string\n",
        "print(x[::-1]) \n",
        "print(x[-1:-len(x):-1])\n",
        "# how to correct the second one?"
      ]
    },
    {
      "cell_type": "code",
      "execution_count": null,
      "metadata": {
        "id": "QskaBOIIrE0u"
      },
      "outputs": [],
      "source": [
        "# only first 2 characters\n",
        "# only last 2 characters\n",
        "x[:2], x[-2:]"
      ]
    },
    {
      "cell_type": "code",
      "execution_count": null,
      "metadata": {
        "id": "2mPurrH-ce4k"
      },
      "outputs": [],
      "source": [
        "# remove first 2 characters or remove last 2 characters\n",
        "x[2:], x[:-2]"
      ]
    },
    {
      "cell_type": "markdown",
      "metadata": {
        "id": "VnJZhFPFhTAL"
      },
      "source": [
        "### Use list slicing to modify list content\n"
      ]
    },
    {
      "cell_type": "code",
      "execution_count": 47,
      "metadata": {
        "id": "4nGXG3WWwGv3"
      },
      "outputs": [
        {
          "name": "stdout",
          "output_type": "stream",
          "text": [
            "['1', '2', '3', '4', '5', '6', '7', '8', '9', '0']\n",
            "['1', '2', '3']\n",
            "[0, 0, 0, '4', '5', '6', '7', '8', '9', '0']\n"
          ]
        }
      ],
      "source": [
        "x = list('1234567890')\n",
        "print(x)\n",
        "#x[:3] = 0\n",
        "#x[:3] = [0]\n",
        "print(x[:3])\n",
        "x[:3] = 3*[0]\n",
        "print(x)"
      ]
    },
    {
      "cell_type": "markdown",
      "metadata": {
        "id": "G6uDu_O8jVxi"
      },
      "source": [
        "### **Exercise 2-3:** How can we change the last character of a string to a new character?\n",
        "\n",
        "Example: `abcde` ==> `abcd*`"
      ]
    },
    {
      "cell_type": "code",
      "execution_count": null,
      "metadata": {
        "id": "1ukl63jyVK2e"
      },
      "outputs": [],
      "source": [
        "s = 'abcde' # => abcd*\n",
        "\n"
      ]
    },
    {
      "cell_type": "markdown",
      "metadata": {
        "id": "rvNsdI_jRyZa"
      },
      "source": [
        "### **Exercise 2-4:** `v1` and `v2` are given lists, each with 3 slots. Each of them represents a vector. \n",
        "\n",
        "Show the dot product of `v1` and `v2`."
      ]
    },
    {
      "cell_type": "code",
      "execution_count": null,
      "metadata": {
        "id": "4rPJhngikPFc"
      },
      "outputs": [],
      "source": [
        "v1 = [2,3,4]\n",
        "v2 = [4,5,6]\n"
      ]
    },
    {
      "cell_type": "markdown",
      "metadata": {
        "id": "4GFFwWuXrxyN"
      },
      "source": [
        "### **Exercise 2-5:** Break a string `s` into 2 parts, first half and second half."
      ]
    },
    {
      "cell_type": "code",
      "execution_count": null,
      "metadata": {
        "id": "Q64leMUKd5MY"
      },
      "outputs": [],
      "source": [
        "s = '1234abcd' # first -> '1234', second -> 'abcd'\n"
      ]
    },
    {
      "cell_type": "markdown",
      "metadata": {
        "id": "AmsiXdiuw_QE"
      },
      "source": [
        "### **Exercise 2-6:** Using list slicing to remove element(s) from a list"
      ]
    },
    {
      "cell_type": "code",
      "execution_count": 65,
      "metadata": {
        "id": "odtnwsELxOkr"
      },
      "outputs": [
        {
          "name": "stdout",
          "output_type": "stream",
          "text": [
            "['1', '2', '3', '4', '5', '6', '7'] 1813226459520\n",
            "['2', '3', '4', '5', '6', '7'] 1813226459520\n"
          ]
        }
      ],
      "source": [
        "x = list('1234567')\n",
        "print(x, id(x))\n",
        "# use list slicing to remove 1 or more elements\n",
        "x[0:1] = []\n",
        "\n",
        "print(x, id(x))"
      ]
    },
    {
      "cell_type": "markdown",
      "metadata": {
        "id": "a7JqMoUpx2Lo"
      },
      "source": [
        "### **Exercise 2-7:** Change odd locations to zeros."
      ]
    },
    {
      "cell_type": "code",
      "execution_count": 56,
      "metadata": {
        "id": "sfu83siZhiKf"
      },
      "outputs": [
        {
          "name": "stdout",
          "output_type": "stream",
          "text": [
            "['1', 0, '3', 0, '5', 0, '7', 0, '9', 0]\n"
          ]
        }
      ],
      "source": [
        "x = list('1234567890') # => 1,0,3,0,5,0,7,0,9,0\n",
        "# use list slicing to change odd locations to zeros\n",
        "\n",
        "x[1::2] = 5 * [0]\n",
        "\n",
        "print(x)"
      ]
    },
    {
      "cell_type": "markdown",
      "metadata": {
        "id": "K8lI26t_0C0c"
      },
      "source": [
        "### **Exercise 2-8:** Merge two lists"
      ]
    },
    {
      "cell_type": "code",
      "execution_count": 67,
      "metadata": {
        "id": "Nf-YPfF_iDRi"
      },
      "outputs": [
        {
          "name": "stdout",
          "output_type": "stream",
          "text": [
            "['1', '2', '3', '4', '5'] ['a', 'b', 'c', 'd', 'e']\n"
          ]
        },
        {
          "data": {
            "text/plain": [
              "['1', 'a', '2', 'b', '3', 'c', '4', 'd', '5', 'e']"
            ]
          },
          "execution_count": 67,
          "metadata": {},
          "output_type": "execute_result"
        }
      ],
      "source": [
        "x = list('12345')\n",
        "y = list('abcde')\n",
        "print(x, y)\n",
        "# use list slicing to merge x and y \n",
        "# 1, a, 2, b, 3, c, 4, d, 5, e\n",
        "z = len(x)*2*[0]\n",
        "z[::2] = x\n",
        "z[1::2] = y\n",
        "print(z)\n"
      ]
    },
    {
      "cell_type": "markdown",
      "metadata": {
        "id": "cIOJsCLf4c7Z"
      },
      "source": [
        "## **Example:** using `list` to convert numbers to `str`"
      ]
    },
    {
      "cell_type": "code",
      "execution_count": null,
      "metadata": {
        "id": "K4xJXUcN4mJa"
      },
      "outputs": [],
      "source": [
        "# convert number to word\n",
        "number_text = ['zero', 'one', 'two', 'three', 'four', \\\n",
        "               'five', 'six', 'seven', 'eight', 'nine']\n",
        "print(number_text[7])\n",
        "\n",
        "month = ['January', 'February', 'March', 'April', 'May', 'June', \\\n",
        "         'July', 'August', 'September', 'October', 'November', 'December']\n",
        "n = 3\n",
        "offset = 1  # starting number\n",
        "print(month[n - offset])"
      ]
    },
    {
      "cell_type": "markdown",
      "metadata": {
        "id": "y4EzEZa44_5I"
      },
      "source": [
        "## Convert a string to list using `s.split(), s.split(separator)`"
      ]
    },
    {
      "cell_type": "code",
      "execution_count": null,
      "metadata": {
        "id": "0UYVS5LX1-ZO"
      },
      "outputs": [],
      "source": [
        "x = 'ab:de'\n",
        "#x = 'ab::de: fg'\n",
        "#x = input('> ')\n",
        "print(list(x))\n",
        "print(x.split())\n",
        "print(x.split(':'))"
      ]
    },
    {
      "cell_type": "markdown",
      "metadata": {
        "id": "nrrcPdJY2t4T"
      },
      "source": [
        "### **Exercise 2-9:** \n",
        "1. get keyboard input in format `day/month/year`\n",
        "2. show result in format `month-name day, year`\n",
        "\n",
        "For example, `16/8/2022` should be displayed as `August 16, 2022`"
      ]
    },
    {
      "cell_type": "code",
      "execution_count": null,
      "metadata": {
        "id": "-BxqFsA15EN9"
      },
      "outputs": [],
      "source": [
        "# 26/8/2563 --> d:26, m:8, y:2563\n",
        "# d/m/y --> m/d/y\n",
        "x = input('enter d/m/y: ')\n"
      ]
    },
    {
      "cell_type": "markdown",
      "metadata": {
        "id": "bY0f89PsFOfR"
      },
      "source": [
        "## Advance `str` output"
      ]
    },
    {
      "cell_type": "code",
      "execution_count": null,
      "metadata": {
        "colab": {
          "base_uri": "https://localhost:8080/"
        },
        "id": "Pqweocpy5PAT",
        "outputId": "d6469d9a-454b-4ed8-e403-ab04eaece31d"
      },
      "outputs": [
        {
          "name": "stdout",
          "output_type": "stream",
          "text": [
            "1 0001\n"
          ]
        }
      ],
      "source": [
        "# 9 -> 009\n",
        "# 10 -> 010\n",
        "# 123 -> 123\n",
        "n = 3\n",
        "number = 1\n",
        "s = str(number)\n",
        "t = '0'*n + s\n",
        "print(s, t)\n",
        "# how to print only 3 digits?"
      ]
    },
    {
      "cell_type": "code",
      "execution_count": null,
      "metadata": {
        "colab": {
          "base_uri": "https://localhost:8080/"
        },
        "id": "V4i7lghzFiKL",
        "outputId": "348341fb-7043-4884-c1e4-5c2e32088f9d"
      },
      "outputs": [
        {
          "name": "stdout",
          "output_type": "stream",
          "text": [
            "---------1---------2---------3---------4---------5\n",
            "Chapter 1 3429\n",
            "Chapter 1.....................................3429\n",
            "5295456\n",
            "00000000005295456\n",
            "0005295456\n",
            "0005295456\n",
            "             5295456\n"
          ]
        }
      ],
      "source": [
        "import random\n",
        "\n",
        "ruler = '---------1---------2---------3---------4---------5' \n",
        "line_len = len(ruler)\n",
        "print(ruler)\n",
        "\n",
        "topics = ['Preface', 'Introduction', 'Chapter 1', 'Expression, Variable', 'How to use String, List', 'Summary']\n",
        "\n",
        "n = random.randint(0, len(topics) - 1) # random integer x, 0 <= x <= len(topics) - 1\n",
        "topic = topics[n]\n",
        "\n",
        "page = random.randint(1,10000)\n",
        "\n",
        "print(topic, page)\n",
        "\n",
        "dots_len = line_len - len(topic) - len(str(page))\n",
        "dots = '.' * dots_len\n",
        "\n",
        "print(topic + dots + str(page))\n",
        "\n",
        "page = 5295456\n",
        "print(page)\n",
        "text = '0'*10 + str(page)\n",
        "print(text)\n",
        "print(text[-10:])\n",
        "\n",
        "n_zeros = 10 - len(str(page))\n",
        "text = n_zeros * '0' + str(page)\n",
        "print(text)\n",
        "\n",
        "text = ' '*20 + str(page)\n",
        "print(text[-20:])"
      ]
    },
    {
      "cell_type": "markdown",
      "metadata": {
        "id": "10dqeBlc7FHR"
      },
      "source": [
        "## Functions (How to call a function?)\n",
        "\n",
        "\n",
        "```\n",
        "def function_name(parameters):\n",
        "  statement 1\n",
        "  statement 2\n",
        "   ...\n",
        "  statement n\n",
        "```\n"
      ]
    },
    {
      "cell_type": "code",
      "execution_count": null,
      "metadata": {
        "colab": {
          "base_uri": "https://localhost:8080/"
        },
        "id": "HBSuejMs7xND",
        "outputId": "9ce10fba-3c32-4202-ccc7-47e268c7676f"
      },
      "outputs": [
        {
          "name": "stdout",
          "output_type": "stream",
          "text": [
            "hello\n",
            "function f()\n",
            "function f()\n"
          ]
        }
      ],
      "source": [
        "def main():\n",
        "    print('hello')\n",
        "    f()\n",
        "    f()\n",
        "\n",
        "def f():\n",
        "    print('function f()')\n",
        "\n",
        "\n",
        "main()\n",
        "\n"
      ]
    },
    {
      "cell_type": "code",
      "execution_count": null,
      "metadata": {
        "colab": {
          "base_uri": "https://localhost:8080/"
        },
        "id": "ANpriqVwgzMC",
        "outputId": "595e399f-82cb-4b5b-c3f3-35a5b72fb10b"
      },
      "outputs": [
        {
          "name": "stdout",
          "output_type": "stream",
          "text": [
            "20\n",
            "3\n",
            "473\n"
          ]
        }
      ],
      "source": [
        "x = int(input())\n",
        "y = int(input())\n",
        "z = x**2 + y**3 + 2*(x+y)\n",
        "print(z)"
      ]
    },
    {
      "cell_type": "code",
      "execution_count": null,
      "metadata": {
        "id": "Z-jKG3cQhDnk"
      },
      "outputs": [],
      "source": [
        "def fz(x, y):\n",
        "    z = x**2 + y**3 + 2*(x+y)\n",
        "    return z\n",
        "\n",
        "def main():\n",
        "    x = int(input())\n",
        "    y = int(input())\n",
        "    z = fz(x, y)\n",
        "    print(z)\n",
        "\n",
        "main()"
      ]
    },
    {
      "cell_type": "code",
      "execution_count": null,
      "metadata": {
        "colab": {
          "base_uri": "https://localhost:8080/"
        },
        "id": "rvMyYqUxfxSf",
        "outputId": "65b34e8d-7ae7-4aaf-e817-823dd6b0621d"
      },
      "outputs": [
        {
          "name": "stdout",
          "output_type": "stream",
          "text": [
            "129.67470942124882 129.67470942124882\n"
          ]
        }
      ],
      "source": [
        "import math\n",
        "print(3.1**4.3, math.pow(3.1, 4.3))"
      ]
    },
    {
      "cell_type": "markdown",
      "metadata": {
        "id": "o8s8zJN2Bikw"
      },
      "source": [
        "## Grader `02_StrList`\n"
      ]
    },
    {
      "cell_type": "markdown",
      "metadata": {
        "id": "bhx2-pDCZtAp"
      },
      "source": [
        "### CitizenID"
      ]
    },
    {
      "cell_type": "code",
      "execution_count": null,
      "metadata": {
        "id": "ePwHW55HEBP1"
      },
      "outputs": [],
      "source": [
        "# get each digit \n",
        "# - check\n",
        "# convert to integers\n",
        "# use formula to calculate"
      ]
    },
    {
      "cell_type": "markdown",
      "metadata": {
        "id": "pTcptXm2ZvuC"
      },
      "source": [
        "### Arabic number"
      ]
    },
    {
      "cell_type": "code",
      "execution_count": null,
      "metadata": {
        "id": "GeglrT7YEUas"
      },
      "outputs": [],
      "source": [
        "# Arabic numerals\n",
        "# create a list\n",
        "# get data from list\n",
        "# convert to str, see example"
      ]
    },
    {
      "cell_type": "markdown",
      "metadata": {
        "id": "qqMzVPe_ZyIO"
      },
      "source": [
        "### US Date"
      ]
    },
    {
      "cell_type": "code",
      "execution_count": null,
      "metadata": {
        "id": "4U9tAAAAEr-j"
      },
      "outputs": [],
      "source": [
        "# US Date\n",
        "# get keyboard input -> date, month, year\n",
        "# convert month -> month name using list, see Arabic number as example\n",
        "# combine result and display\n"
      ]
    },
    {
      "cell_type": "markdown",
      "metadata": {
        "id": "CScmGYfnZ2Gd"
      },
      "source": [
        "### Prefix"
      ]
    },
    {
      "cell_type": "code",
      "execution_count": null,
      "metadata": {
        "id": "WTzqcMywFBaw"
      },
      "outputs": [],
      "source": [
        "# prefix with 0\n",
        "# get input and find to length of it\n",
        "# find number of digit to be displayed, k (without using if)\n",
        "#   hint: using math function\n",
        "# add '0's in front of it\n",
        "# show k digits "
      ]
    },
    {
      "cell_type": "markdown",
      "metadata": {
        "id": "PmzQDuOPZ65O"
      },
      "source": []
    },
    {
      "cell_type": "markdown",
      "metadata": {
        "id": "Sq44nXmGZ357"
      },
      "source": [
        "### Vector"
      ]
    },
    {
      "cell_type": "code",
      "execution_count": null,
      "metadata": {
        "id": "Q6gQAW4TJehZ"
      },
      "outputs": [],
      "source": [
        "# ผลบวกเวคเตอร์\n",
        "# รับข้อมูลมาเป็นสตริง \n",
        "#   '[จำนวน, จำนวน, จำนวน]' \n",
        "#    => 'จำนวน, จำนวน, จำนวน'\n",
        "#.   => ['จำนวน' 'จำนวน' จำนวน']\n",
        "#  แปลงให้เป็น จำนวน จำนวน จำนวน\n",
        "# แปลงให้เป็นลิสต์ของจำนวน [u0, u1, u2], [v0, v1, v2]\n",
        "# คำนวณ w = u + v -> [u0+v0, u1+v1, u2+v2]\n",
        "# แสดงผลการคำนวณ\n",
        "# [P P [PP] [PP] [PP]], [PP] ถึงจะถือว่าถูก [P-], [-P], [--]"
      ]
    },
    {
      "cell_type": "markdown",
      "metadata": {
        "id": "7MWSxQfyrx1L"
      },
      "source": [
        "## Decimal2Fraction"
      ]
    },
    {
      "cell_type": "code",
      "execution_count": null,
      "metadata": {
        "id": "0IsEB4pAr1RS"
      },
      "outputs": [],
      "source": [
        "# "
      ]
    }
  ],
  "metadata": {
    "colab": {
      "collapsed_sections": [
        "6xOXtkvzF6aU",
        "opkwyYgrA6hi",
        "kv7Z0cEUgkDM",
        "qRG_PjyOgx9R",
        "_DFZlCuSi1ee",
        "V3RLbAv-jdAF",
        "pwlMY45-jn7U",
        "ShGcwPeUfYGk",
        "AZ__1H_1lGQ_",
        "h327YNDqmZIf",
        "jyxIf3ipRgnA",
        "pHS1eMCo1G6B",
        "x8f6bL8atnii",
        "VnJZhFPFhTAL",
        "G6uDu_O8jVxi",
        "rvNsdI_jRyZa",
        "4GFFwWuXrxyN",
        "K8lI26t_0C0c",
        "cIOJsCLf4c7Z",
        "o8s8zJN2Bikw",
        "bhx2-pDCZtAp",
        "pTcptXm2ZvuC",
        "qqMzVPe_ZyIO",
        "CScmGYfnZ2Gd",
        "Sq44nXmGZ357",
        "7MWSxQfyrx1L"
      ],
      "name": "2190101-02_StrList.ipynb",
      "provenance": []
    },
    "kernelspec": {
      "display_name": "Python 3.10.5 64-bit",
      "language": "python",
      "name": "python3"
    },
    "language_info": {
      "codemirror_mode": {
        "name": "ipython",
        "version": 3
      },
      "file_extension": ".py",
      "mimetype": "text/x-python",
      "name": "python",
      "nbconvert_exporter": "python",
      "pygments_lexer": "ipython3",
      "version": "3.10.5"
    },
    "vscode": {
      "interpreter": {
        "hash": "369f2c481f4da34e4445cda3fffd2e751bd1c4d706f27375911949ba6bb62e1c"
      }
    }
  },
  "nbformat": 4,
  "nbformat_minor": 0
}

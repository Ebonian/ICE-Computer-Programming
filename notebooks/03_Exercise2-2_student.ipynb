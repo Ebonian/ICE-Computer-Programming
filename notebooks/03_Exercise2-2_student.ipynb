{
 "cells": [
  {
   "cell_type": "markdown",
   "metadata": {
    "id": "rvNsdI_jRyZa"
   },
   "source": [
    "**Question 1**\n",
    "v1 and v2 are given lists, each with 3 slots. Each of them represents a vector. \n",
    "\n",
    "Show the dot product of v1 and v2."
   ]
  },
  {
   "cell_type": "code",
   "execution_count": null,
   "metadata": {
    "id": "z86vGlaqRzJZ"
   },
   "outputs": [],
   "source": [
    "v1 = [2,3,4]\n",
    "v2 = [5,6,7]\n",
    "\n"
   ]
  },
  {
   "cell_type": "markdown",
   "metadata": {
    "id": "Dtsh8fA5S1Ii"
   },
   "source": [
    "**Question 2**\n",
    "\n",
    "x is given, it is a list of integer. Write the followings (without changing values in x):\n",
    "\n",
    "- a is the sum of 5th, 8th, and the last two number in x.\n",
    "\n",
    "- b is a list that stores data from positions in x that can be divided by 3.\n",
    "\n",
    "- c is a reverse of x.\n",
    "- d stores x that has been shifted right, for example, if x is [1,2,3,4], then d will be [4,1,2,3]."
   ]
  },
  {
   "cell_type": "code",
   "execution_count": null,
   "metadata": {
    "id": "G5KU_hzuUscr"
   },
   "outputs": [],
   "source": [
    "x = [1,2,3,4,5,6,7,8,9,10,11,12]\n",
    "\n"
   ]
  },
  {
   "cell_type": "markdown",
   "metadata": {
    "id": "z4QKV_WEXg33"
   },
   "source": [
    "**Question 3**\n",
    "\n",
    "Let v1, v2, v3 be given lists of real numbers. Each has 3 slots and represents a vector.\n",
    "\n",
    "Make v3 the sum of v1 and v2."
   ]
  },
  {
   "cell_type": "code",
   "execution_count": null,
   "metadata": {
    "id": "3pwu0zn-X-XB"
   },
   "outputs": [],
   "source": [
    "v1 = [1.2,2.3,3.4]\n",
    "v2 = [5.6,8.3,4.8]\n",
    "v3 = [0,0,0]\n",
    "\n",
    "\n",
    "           "
   ]
  }
 ],
 "metadata": {
  "colab": {
   "authorship_tag": "ABX9TyNS+MEt+Ga9gTBawYS+xSkR",
   "collapsed_sections": [],
   "name": "Exercise2-2_student.ipynb",
   "provenance": []
  },
  "kernelspec": {
   "display_name": "Python 3 (ipykernel)",
   "language": "python",
   "name": "python3"
  },
  "language_info": {
   "codemirror_mode": {
    "name": "ipython",
    "version": 3
   },
   "file_extension": ".py",
   "mimetype": "text/x-python",
   "name": "python",
   "nbconvert_exporter": "python",
   "pygments_lexer": "ipython3",
   "version": "3.9.6"
  }
 },
 "nbformat": 4,
 "nbformat_minor": 1
}

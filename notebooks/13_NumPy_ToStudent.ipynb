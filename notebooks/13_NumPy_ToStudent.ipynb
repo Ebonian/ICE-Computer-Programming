{
  "nbformat": 4,
  "nbformat_minor": 0,
  "metadata": {
    "kernelspec": {
      "display_name": "Python 3",
      "language": "python",
      "name": "python3"
    },
    "language_info": {
      "codemirror_mode": {
        "name": "ipython",
        "version": 3
      },
      "file_extension": ".py",
      "mimetype": "text/x-python",
      "name": "python",
      "nbconvert_exporter": "python",
      "pygments_lexer": "ipython3",
      "version": "3.7.9"
    },
    "toc": {
      "base_numbering": 1,
      "nav_menu": {},
      "number_sections": true,
      "sideBar": true,
      "skip_h1_title": false,
      "title_cell": "Table of Contents",
      "title_sidebar": "Contents",
      "toc_cell": false,
      "toc_position": {},
      "toc_section_display": true,
      "toc_window_display": true
    },
    "colab": {
      "name": "NumPy_ToStudent.ipynb",
      "provenance": []
    }
  },
  "cells": [
    {
      "cell_type": "markdown",
      "metadata": {
        "id": "LgB9JUbMlAeC"
      },
      "source": [
        "# Numpy\n"
      ]
    },
    {
      "cell_type": "markdown",
      "metadata": {
        "id": "5PxfHtrTlAeG"
      },
      "source": [
        "## Topics\n",
        "* Recap about flowchart\n",
        "* while loop\n",
        "* for loop\n",
        "    -  for k in range(…)\n",
        "    -  for ch in setting\n",
        "    -  for elem in a_list\n",
        "* break\n",
        "* nested loop"
      ]
    },
    {
      "cell_type": "markdown",
      "metadata": {
        "id": "80xP_oi9lAeH"
      },
      "source": [
        "## Examples and Pratices"
      ]
    },
    {
      "cell_type": "markdown",
      "metadata": {
        "id": "nJg7mMfplAeH"
      },
      "source": [
        "### List vs. Numpy Array: all pair distances"
      ]
    },
    {
      "cell_type": "code",
      "metadata": {
        "id": "0tTOH_aUlAeI"
      },
      "source": [
        "# All pair distance using List\n",
        "\n",
        "def all_pair_distances(points):\n",
        "    # points are nested list, e.g., [[0,0],[0,3],[4,0]]\n",
        "    n = len(points)\n",
        "    D = [[0.0] * n for i in range(n)]\n",
        "    for i in range(n):        \n",
        "        for j in range(i+1, n):   \n",
        "            dx = points[i][0] - points[j][0]\n",
        "            dy = points[i][1] - points[j][1]           \n",
        "            D[i][j] = D[j][i] = (dx**2+dy**2)**0.5 \n",
        "            \n",
        "    return D\n",
        " "
      ],
      "execution_count": null,
      "outputs": []
    },
    {
      "cell_type": "code",
      "metadata": {
        "colab": {
          "base_uri": "https://localhost:8080/"
        },
        "id": "02umXnZvlAeJ",
        "outputId": "b0923507-b9aa-4b98-f920-2753640ffef3"
      },
      "source": [
        "points = [[0,0],[0,3],[4,0]]\n",
        "print(all_pair_distances(points))"
      ],
      "execution_count": null,
      "outputs": [
        {
          "output_type": "stream",
          "name": "stdout",
          "text": [
            "[[0.0, 3.0, 4.0], [3.0, 0.0, 5.0], [4.0, 5.0, 0.0]]\n"
          ]
        }
      ]
    },
    {
      "cell_type": "code",
      "metadata": {
        "id": "hvYn-yAmlAeK"
      },
      "source": [
        "# All pair distance using NumPy\n",
        "import numpy as np\n",
        "\n",
        "def all_pair_distances_numpy(points):\n",
        "\t# points are array\n",
        "    n = len(points)\n",
        "    npoints = np.array(points)\n",
        "    X = npoints[:, 0]\n",
        "    Y = npoints[:, 1]\n",
        "    dx = X - X.reshape(n, 1)\n",
        "    dy = Y - Y.reshape(n, 1)\n",
        "    D = (dx**2+dy**2)**0.5\n",
        "    return D"
      ],
      "execution_count": null,
      "outputs": []
    },
    {
      "cell_type": "code",
      "metadata": {
        "colab": {
          "base_uri": "https://localhost:8080/"
        },
        "id": "F37Tuhr0lAeL",
        "outputId": "42aaa231-5be8-4970-89e2-8b1552d6b005"
      },
      "source": [
        "points = [[0,0],[0,3],[4,0]]\n",
        "print(all_pair_distances_numpy(points))"
      ],
      "execution_count": null,
      "outputs": [
        {
          "output_type": "stream",
          "name": "stdout",
          "text": [
            "[[0. 3. 4.]\n",
            " [3. 0. 5.]\n",
            " [4. 5. 0.]]\n"
          ]
        }
      ]
    },
    {
      "cell_type": "markdown",
      "metadata": {
        "id": "NezaebVClAeM"
      },
      "source": [
        "### Array constructions"
      ]
    },
    {
      "cell_type": "code",
      "metadata": {
        "colab": {
          "base_uri": "https://localhost:8080/"
        },
        "id": "OmcqRFKulAeM",
        "outputId": "c0b33ac1-e1e1-4da8-f025-a1c6d4185b08"
      },
      "source": [
        "import numpy as np\n",
        "\n",
        "a = np.array([1,2,3,4])     # constructed from list\n",
        "b = np.array([[1,2],[3,4]])   # constructed from list\n",
        "c = np.ndarray((2,3))       # constructed by size \n",
        "#cc = np.ndarray((1,2))  \n",
        "d = np.ndarray((2,3), int)\n",
        "e = np.zeros((2,3), int)    # constructed by size with all 0\n",
        "f = np.ones((2,3), int)     # constructed by size with all 1\n",
        "g = np.zeros_like(f, float) # constructed as f with all 0 float\n",
        "h = np.ones_like(e, float)  # constructed as e with all 1 float\n",
        "I = np.identity(4, int)     # constructed an identity matrix \n",
        "                            # with size 4 x 4\n",
        "x = np.arange(0.0,1.0,0.1) # [0.0,0.1,…, 1.0] \n",
        "\n",
        "print(\"a=\", a)\n",
        "print(\"b=\", b)\n",
        "print(\"c=\", c)\n",
        "#print(\"cc=\", cc)\n",
        "print(\"d=\", d)\n",
        "print(\"e=\", e)\n",
        "print(\"f=\", f)\n",
        "print(\"g=\", g)\n",
        "print(\"h=\", h)\n",
        "print(\"I=\", I)\n",
        "print(\"x=\", x)\n"
      ],
      "execution_count": null,
      "outputs": [
        {
          "output_type": "stream",
          "name": "stdout",
          "text": [
            "a= [1 2 3 4]\n",
            "b= [[1 2]\n",
            " [3 4]]\n",
            "c= [[5.e-324 5.e-324 5.e-324]\n",
            " [5.e-324 5.e-324 5.e-324]]\n",
            "d= [[0 0 0]\n",
            " [0 0 0]]\n",
            "e= [[0 0 0]\n",
            " [0 0 0]]\n",
            "f= [[1 1 1]\n",
            " [1 1 1]]\n",
            "g= [[0. 0. 0.]\n",
            " [0. 0. 0.]]\n",
            "h= [[1. 1. 1.]\n",
            " [1. 1. 1.]]\n",
            "I= [[1 0 0 0]\n",
            " [0 1 0 0]\n",
            " [0 0 1 0]\n",
            " [0 0 0 1]]\n",
            "x= [0.  0.1 0.2 0.3 0.4 0.5 0.6 0.7 0.8 0.9]\n"
          ]
        }
      ]
    },
    {
      "cell_type": "markdown",
      "metadata": {
        "id": "EZx8n4zFlAeN"
      },
      "source": [
        "### Array shapes"
      ]
    },
    {
      "cell_type": "code",
      "metadata": {
        "id": "yzeFuyjvlAeN",
        "outputId": "09471496-46e0-45ab-edf8-ab57af7c0ab8"
      },
      "source": [
        "a = np.arange(8)\n",
        "print(\"a=\", a)\n",
        "b = a.reshape((2,4))\n",
        "print(\"b=\", b)\n",
        "c = b.reshape((4,2))\n",
        "print(\"c=\", c)\n",
        "d = c.reshape(8)\n",
        "print(\"d=\", d)\n",
        "d = c.reshape((2,3))\n",
        "print(\"d=\", d)   # ERROR"
      ],
      "execution_count": null,
      "outputs": [
        {
          "name": "stdout",
          "output_type": "stream",
          "text": [
            "a= [0 1 2 3 4 5 6 7]\n",
            "b= [[0 1 2 3]\n",
            " [4 5 6 7]]\n",
            "c= [[0 1]\n",
            " [2 3]\n",
            " [4 5]\n",
            " [6 7]]\n",
            "d= [0 1 2 3 4 5 6 7]\n"
          ]
        },
        {
          "ename": "ValueError",
          "evalue": "cannot reshape array of size 8 into shape (2,3)",
          "output_type": "error",
          "traceback": [
            "\u001b[0;31m---------------------------------------------------------------------------\u001b[0m",
            "\u001b[0;31mValueError\u001b[0m                                Traceback (most recent call last)",
            "\u001b[0;32m<ipython-input-53-c9ed5ef85a7d>\u001b[0m in \u001b[0;36m<module>\u001b[0;34m\u001b[0m\n\u001b[1;32m      7\u001b[0m \u001b[0md\u001b[0m \u001b[0;34m=\u001b[0m \u001b[0mc\u001b[0m\u001b[0;34m.\u001b[0m\u001b[0mreshape\u001b[0m\u001b[0;34m(\u001b[0m\u001b[0;36m8\u001b[0m\u001b[0;34m)\u001b[0m\u001b[0;34m\u001b[0m\u001b[0;34m\u001b[0m\u001b[0m\n\u001b[1;32m      8\u001b[0m \u001b[0mprint\u001b[0m\u001b[0;34m(\u001b[0m\u001b[0;34m\"d=\"\u001b[0m\u001b[0;34m,\u001b[0m \u001b[0md\u001b[0m\u001b[0;34m)\u001b[0m\u001b[0;34m\u001b[0m\u001b[0;34m\u001b[0m\u001b[0m\n\u001b[0;32m----> 9\u001b[0;31m \u001b[0md\u001b[0m \u001b[0;34m=\u001b[0m \u001b[0mc\u001b[0m\u001b[0;34m.\u001b[0m\u001b[0mreshape\u001b[0m\u001b[0;34m(\u001b[0m\u001b[0;34m(\u001b[0m\u001b[0;36m2\u001b[0m\u001b[0;34m,\u001b[0m\u001b[0;36m3\u001b[0m\u001b[0;34m)\u001b[0m\u001b[0;34m)\u001b[0m\u001b[0;34m\u001b[0m\u001b[0;34m\u001b[0m\u001b[0m\n\u001b[0m\u001b[1;32m     10\u001b[0m \u001b[0mprint\u001b[0m\u001b[0;34m(\u001b[0m\u001b[0;34m\"d=\"\u001b[0m\u001b[0;34m,\u001b[0m \u001b[0md\u001b[0m\u001b[0;34m)\u001b[0m   \u001b[0;31m# ERROR\u001b[0m\u001b[0;34m\u001b[0m\u001b[0;34m\u001b[0m\u001b[0m\n",
            "\u001b[0;31mValueError\u001b[0m: cannot reshape array of size 8 into shape (2,3)"
          ]
        }
      ]
    },
    {
      "cell_type": "markdown",
      "metadata": {
        "id": "p_PeARYxlAeN"
      },
      "source": [
        "### Array Transpose"
      ]
    },
    {
      "cell_type": "code",
      "metadata": {
        "id": "_W-Y580tlAeO",
        "outputId": "be129a84-fd08-4547-fe75-466d6f1718f2"
      },
      "source": [
        "a = np.arange(8)\n",
        "print(\"a = \", a)\n",
        "print(\"a.T = \", a.T)\n",
        "b = a.reshape((2,4))\n",
        "print(\"b = \", b)\n",
        "print(\"b.T = \", b.T)\n",
        "c = a.reshape((1,8))\n",
        "print(\"c = \", c)\n",
        "print(\"c.T = \", c.T)"
      ],
      "execution_count": null,
      "outputs": [
        {
          "name": "stdout",
          "output_type": "stream",
          "text": [
            "a =  [0 1 2 3 4 5 6 7]\n",
            "a.T =  [0 1 2 3 4 5 6 7]\n",
            "b =  [[0 1 2 3]\n",
            " [4 5 6 7]]\n",
            "b.T =  [[0 4]\n",
            " [1 5]\n",
            " [2 6]\n",
            " [3 7]]\n",
            "c =  [[0 1 2 3 4 5 6 7]]\n",
            "c.T =  [[0]\n",
            " [1]\n",
            " [2]\n",
            " [3]\n",
            " [4]\n",
            " [5]\n",
            " [6]\n",
            " [7]]\n"
          ]
        }
      ]
    },
    {
      "cell_type": "markdown",
      "metadata": {
        "id": "hzekrfV3lAeO"
      },
      "source": [
        "### Indexing"
      ]
    },
    {
      "cell_type": "code",
      "metadata": {
        "id": "UD9LXJGclAeO"
      },
      "source": [
        "import numpy as np\n",
        "\n",
        "def count_ones(A):\n",
        "    c = 0\n",
        "    for i in range(A.shape[0]):\n",
        "        for j in range(A.shape[1]):\n",
        "            if A[i,j] == 1:\n",
        "                c += 1\n",
        "    return c "
      ],
      "execution_count": null,
      "outputs": []
    },
    {
      "cell_type": "code",
      "metadata": {
        "id": "VnmoSeJvlAeP"
      },
      "source": [
        "a = np.array([[1,2,1],[4,1,6],[7,1,9],[1,11,12]])"
      ],
      "execution_count": null,
      "outputs": []
    },
    {
      "cell_type": "code",
      "metadata": {
        "id": "XVVpkKD0lAeP",
        "outputId": "c7403fbb-276a-4121-cda1-37168470362f"
      },
      "source": [
        "print(count_ones(a))"
      ],
      "execution_count": null,
      "outputs": [
        {
          "name": "stdout",
          "output_type": "stream",
          "text": [
            "5\n"
          ]
        }
      ]
    },
    {
      "cell_type": "markdown",
      "metadata": {
        "id": "1u2a56b8lAeP"
      },
      "source": [
        "### Slicing : start: stop: step"
      ]
    },
    {
      "cell_type": "code",
      "metadata": {
        "id": "bQXlzZMElAeP",
        "outputId": "50fba520-1503-43a4-9f88-574365d7c90d"
      },
      "source": [
        "# a as nested list\n",
        "print('----- a as list -----')\n",
        "a = np.array([[1,2,3],[4,5,6],[7,8,9],[10,11,12]])\n",
        "print(a[::2])\n",
        "print(a[::2][::2])\n",
        "\n",
        "# A as NumPy array\n",
        "print('----- A as NumPy array -----')\n",
        "A = np.array(a)\n",
        "print(A[::2])\n",
        "print(A[::2][::2])\n",
        "print(A[::2,::2])\n",
        "print(A[::-1,::-1])"
      ],
      "execution_count": null,
      "outputs": [
        {
          "name": "stdout",
          "output_type": "stream",
          "text": [
            "----- a as list -----\n",
            "[[1 2 3]\n",
            " [7 8 9]]\n",
            "[[1 2 3]]\n",
            "----- A as NumPy array -----\n",
            "[[1 2 3]\n",
            " [7 8 9]]\n",
            "[[1 2 3]]\n",
            "[[1 3]\n",
            " [7 9]]\n",
            "[[12 11 10]\n",
            " [ 9  8  7]\n",
            " [ 6  5  4]\n",
            " [ 3  2  1]]\n"
          ]
        }
      ]
    },
    {
      "cell_type": "markdown",
      "metadata": {
        "id": "pXC7gRs1lAeQ"
      },
      "source": [
        "### Fancy Indexing"
      ]
    },
    {
      "cell_type": "code",
      "metadata": {
        "id": "6KUZ4RB9lAeQ",
        "outputId": "01e8edfd-9df1-4cce-be61-ff6b13f9b1ce"
      },
      "source": [
        "a = np.arange(0, 100, 10)\n",
        "print(a)\n",
        "b = a[0::2]\n",
        "print(b)\n",
        "c = a[[8, 1, 9, 0]]\n",
        "print(c)\n",
        "d = c[[True,False,False,True]]\n",
        "print(d)\n",
        "\n",
        "A = np.array([[1,2,3],[4,5,6],[7,8,9],[0,1,0]])\n",
        "print(A)\n",
        "B = A[[1,3,2], [2,0,1]]\n",
        "print(B)"
      ],
      "execution_count": null,
      "outputs": [
        {
          "name": "stdout",
          "output_type": "stream",
          "text": [
            "[ 0 10 20 30 40 50 60 70 80 90]\n",
            "[ 0 20 40 60 80]\n",
            "[80 10 90  0]\n",
            "[80  0]\n",
            "[[1 2 3]\n",
            " [4 5 6]\n",
            " [7 8 9]\n",
            " [0 1 0]]\n",
            "[6 0 8]\n"
          ]
        }
      ]
    },
    {
      "cell_type": "markdown",
      "metadata": {
        "id": "h2qUVnfDlAeQ"
      },
      "source": [
        "### *** Practice #1 ***\n",
        "A is a 2D array\n",
        "Fill in the following functions"
      ]
    },
    {
      "cell_type": "code",
      "metadata": {
        "id": "D2mXF42RlAeR"
      },
      "source": [
        "A = np.array([[1,2,3],[4,5,6],[7,8,9],[10,11,12]])"
      ],
      "execution_count": null,
      "outputs": []
    },
    {
      "cell_type": "code",
      "metadata": {
        "id": "QGxKLYI4lAeR"
      },
      "source": [
        "#***** Write youtr codes here *****#\n",
        "\n",
        "def get_column_from_bottom_to_top(A, c): # one line of code\n",
        "    return       \n",
        "\n",
        "def get_odd_rows(A): # one line of code\n",
        "    return \n",
        "\n",
        "def get_even_rows_last_column(A): # one line of code\n",
        "    return \n",
        "\n",
        "def get_diagonal1(A): # A is a square matrix; two lines of code\n",
        "    return \n",
        "\n",
        "def get_diagonal2(A): # A is a square matrix; two lines of code\n",
        "    return \n"
      ],
      "execution_count": null,
      "outputs": []
    },
    {
      "cell_type": "markdown",
      "metadata": {
        "id": "Z1PKGPGOlAeR"
      },
      "source": [
        "### Assign scalar value into array"
      ]
    },
    {
      "cell_type": "code",
      "metadata": {
        "id": "ny-cz60MlAeR",
        "outputId": "1ead0f9b-9c5a-44df-ec11-1136999d3bd0"
      },
      "source": [
        "A = np.zeros(8)\n",
        "A[2:5] = 9 \n",
        "print(A)\n",
        "A"
      ],
      "execution_count": null,
      "outputs": [
        {
          "name": "stdout",
          "output_type": "stream",
          "text": [
            "[0. 0. 9. 9. 9. 0. 0. 0.]\n"
          ]
        },
        {
          "data": {
            "text/plain": [
              "array([0., 0., 9., 9., 9., 0., 0., 0.])"
            ]
          },
          "execution_count": 87,
          "metadata": {},
          "output_type": "execute_result"
        }
      ]
    },
    {
      "cell_type": "code",
      "metadata": {
        "id": "L3LLStzglAeR",
        "outputId": "e01733cd-50a3-4b15-a8d5-9002a17545c3"
      },
      "source": [
        "A = np.ndarray((4,4), int) \n",
        "A[:,:] = 9\n",
        "print(A)\n",
        "A"
      ],
      "execution_count": null,
      "outputs": [
        {
          "name": "stdout",
          "output_type": "stream",
          "text": [
            "[[9 9 9 9]\n",
            " [9 9 9 9]\n",
            " [9 9 9 9]\n",
            " [9 9 9 9]]\n"
          ]
        },
        {
          "data": {
            "text/plain": [
              "array([[9, 9, 9, 9],\n",
              "       [9, 9, 9, 9],\n",
              "       [9, 9, 9, 9],\n",
              "       [9, 9, 9, 9]])"
            ]
          },
          "execution_count": 91,
          "metadata": {},
          "output_type": "execute_result"
        }
      ]
    },
    {
      "cell_type": "code",
      "metadata": {
        "id": "rtzLfwwMlAeS",
        "outputId": "56e71faa-c162-4f2f-95c9-bc208aace389"
      },
      "source": [
        "B = np.zeros((4,4), int)\n",
        "B[:,0::2] = 1\n",
        "B[1::2,:] = 2              \n",
        "print(B)\n",
        "B"
      ],
      "execution_count": null,
      "outputs": [
        {
          "name": "stdout",
          "output_type": "stream",
          "text": [
            "[[1 0 1 0]\n",
            " [2 2 2 2]\n",
            " [1 0 1 0]\n",
            " [2 2 2 2]]\n"
          ]
        },
        {
          "data": {
            "text/plain": [
              "array([[1, 0, 1, 0],\n",
              "       [2, 2, 2, 2],\n",
              "       [1, 0, 1, 0],\n",
              "       [2, 2, 2, 2]])"
            ]
          },
          "execution_count": 92,
          "metadata": {},
          "output_type": "execute_result"
        }
      ]
    },
    {
      "cell_type": "markdown",
      "metadata": {
        "id": "j5xgrFuzlAeS"
      },
      "source": [
        "### Calculation using Array data with scalar!"
      ]
    },
    {
      "cell_type": "code",
      "metadata": {
        "id": "IDN0MSS5lAeS",
        "outputId": "0d285541-2b59-4eb4-9030-655419997a5b"
      },
      "source": [
        "a = np.array([1,2,3,4,5])\n",
        "print(a)\n",
        "b = a + 1 \n",
        "print(b)\n",
        "c = a**2 + 1      \n",
        "print(c)\n",
        "d = a/2       \n",
        "print(d)"
      ],
      "execution_count": null,
      "outputs": [
        {
          "name": "stdout",
          "output_type": "stream",
          "text": [
            "[1 2 3 4 5]\n",
            "[2 3 4 5 6]\n",
            "[ 2  5 10 17 26]\n",
            "[0.5 1.  1.5 2.  2.5]\n"
          ]
        }
      ]
    },
    {
      "cell_type": "code",
      "metadata": {
        "id": "75yKZN1nlAeS",
        "outputId": "3ff01f9b-b608-46e5-d1a5-86fc50038b61"
      },
      "source": [
        "def toCM(inches):\n",
        "\treturn inches * 2.54\n",
        "\n",
        "d = np.array([0, 10, 12, 100])\n",
        "print(toCM(d))"
      ],
      "execution_count": null,
      "outputs": [
        {
          "name": "stdout",
          "output_type": "stream",
          "text": [
            "[  0.    25.4   30.48 254.  ]\n"
          ]
        }
      ]
    },
    {
      "cell_type": "markdown",
      "metadata": {
        "id": "wZiSB3kXlAeS"
      },
      "source": [
        "### Several math functions in NumPy"
      ]
    },
    {
      "cell_type": "code",
      "metadata": {
        "id": "uyax-tAilAeT",
        "outputId": "32807a62-bd5f-4ed7-e103-c1fd929ff157"
      },
      "source": [
        "a = np.array([10,100,1000,10000])\n",
        "print(a)\n",
        "b = np.log10(a)   \t# [1. 2. 3. 4.]\n",
        "print(b)\n",
        "\n",
        "c = np.array([np.pi, 2*np.pi, 3*np.pi])\n",
        "print(c)\n",
        "d = np.sin(c/2)\n",
        "print(d)"
      ],
      "execution_count": null,
      "outputs": [
        {
          "name": "stdout",
          "output_type": "stream",
          "text": [
            "[   10   100  1000 10000]\n",
            "[1. 2. 3. 4.]\n",
            "[3.14159265 6.28318531 9.42477796]\n",
            "[ 1.0000000e+00  1.2246468e-16 -1.0000000e+00]\n"
          ]
        }
      ]
    },
    {
      "cell_type": "markdown",
      "metadata": {
        "id": "nRkEomHClAeT"
      },
      "source": [
        "### Array and scalar comparison"
      ]
    },
    {
      "cell_type": "code",
      "metadata": {
        "id": "5ZL5QXg4lAeT",
        "outputId": "9db1783b-9403-4282-f71a-60205b8a498f"
      },
      "source": [
        "a = np.array([1,2,3,4])\n",
        "b = a > 3\n",
        "print(\"b=\", b)\n",
        "c = a%2==1\n",
        "print(\"c=\", c)"
      ],
      "execution_count": null,
      "outputs": [
        {
          "name": "stdout",
          "output_type": "stream",
          "text": [
            "b= [False False False  True]\n",
            "c= [ True False  True False]\n"
          ]
        }
      ]
    },
    {
      "cell_type": "code",
      "metadata": {
        "id": "FV0l6g99lAeT"
      },
      "source": [
        "def count_odds(a):\n",
        "    return sum(a%2==1)\n",
        "def get_odds(a):\n",
        "    return a[a%2==1] # select only True elements\n",
        "def get_odd_positions(a):\n",
        "    pos = np.arange(a.shape[0])\n",
        "    return pos[a%2==1]"
      ],
      "execution_count": null,
      "outputs": []
    },
    {
      "cell_type": "markdown",
      "metadata": {
        "id": "zevNHOqrlAeT"
      },
      "source": [
        "### *** Practice#2 ***"
      ]
    },
    {
      "cell_type": "code",
      "metadata": {
        "id": "otf1fqZglAeT"
      },
      "source": [
        "#***** Write youtr codes here *****#\n",
        "\n",
        "def toCelsius(f):\n",
        "    # f = [temperature in Fahrenheit, …]\n",
        "    return\n",
        "\n",
        "def BMI(wh):\n",
        "    # [[w1,h1],[w2,h2], …]\n",
        "    return \n",
        "\n",
        "\n",
        "def distanceTo(P, p):\n",
        "    # distance from p to al points in P\n",
        "    return "
      ],
      "execution_count": null,
      "outputs": []
    },
    {
      "cell_type": "markdown",
      "metadata": {
        "id": "kl1MJiBplAeU"
      },
      "source": [
        "### *** Practice#3 : Logistic Regression ***\n",
        "\n",
        "The probability p(x) that a student x  will pass the subject, based on the \n",
        "number of exercises he/she practiced and his/her GPAX is calculated\n",
        "as follows:  \n",
        "<img src=\"https://drive.google.com/uc?id=1ddC6zKylvAvMacFGOY7X5Cu8VqEcDojH\" width=\"300px\" />\n",
        "\n",
        "You task: write a python program to read the number of done exercises and \n",
        "GPAX of a set of students and print out the p(x) for each student.\n"
      ]
    },
    {
      "cell_type": "code",
      "metadata": {
        "id": "p7akeZV3lAeU"
      },
      "source": [
        "# Write your code for Practice#3 here. You can use the following x as your input data\n",
        "x = np.array([[7, 3.4],[8,3.7],[2,2.3],[10,3.6],[1, 3.7],[2,2.2]])"
      ],
      "execution_count": null,
      "outputs": []
    },
    {
      "cell_type": "markdown",
      "metadata": {
        "id": "TjSsHcBKlAeU"
      },
      "source": [
        "### Element-wise Operations"
      ]
    },
    {
      "cell_type": "code",
      "metadata": {
        "id": "clHqlLJ5lAeU",
        "outputId": "d3bd7d73-151f-4131-c4fd-0ca7242be099"
      },
      "source": [
        "x = [1,2,3]\n",
        "y = [4,5,6]\n",
        "z = x + y   # plus operator here works as concatenation\n",
        "print(z)"
      ],
      "execution_count": null,
      "outputs": [
        {
          "name": "stdout",
          "output_type": "stream",
          "text": [
            "[1, 2, 3, 4, 5, 6]\n"
          ]
        }
      ]
    },
    {
      "cell_type": "code",
      "metadata": {
        "id": "sYzcGUO2lAeU",
        "outputId": "004704c5-7068-4023-d662-32bb137ce47d"
      },
      "source": [
        "u = np.array([1,2,3])\n",
        "v = np.array([4,5,6])\n",
        "w = u + v  # element-wise addition\n",
        "print(w)\n"
      ],
      "execution_count": null,
      "outputs": [
        {
          "name": "stdout",
          "output_type": "stream",
          "text": [
            "[5 7 9]\n"
          ]
        }
      ]
    },
    {
      "cell_type": "code",
      "metadata": {
        "id": "DPLEpne3lAeU",
        "outputId": "0e211836-75d7-4823-aa18-7bb1fab1163c"
      },
      "source": [
        "A = np.array([[1,2,3],[4,5,6],[7,8,9]])\n",
        "I = np.identity(A.shape[0], int) \n",
        "B = I*A  # element-wise multiplication\n",
        "\n",
        "print(B)"
      ],
      "execution_count": null,
      "outputs": [
        {
          "name": "stdout",
          "output_type": "stream",
          "text": [
            "[[1 0 0]\n",
            " [0 5 0]\n",
            " [0 0 9]]\n"
          ]
        }
      ]
    },
    {
      "cell_type": "markdown",
      "metadata": {
        "id": "yvvHbLi_lAeV"
      },
      "source": [
        "### Element-wise Logical Operators"
      ]
    },
    {
      "cell_type": "code",
      "metadata": {
        "id": "beQUew4flAeV",
        "outputId": "b6f1df5d-42f4-4854-8504-70e76f94a147"
      },
      "source": [
        "a = np.array([9,3,0,2,6])\n",
        "b = a[a<5]\n",
        "b = a[[False,True,True,True,False]]\n",
        "print(b)"
      ],
      "execution_count": null,
      "outputs": [
        {
          "name": "stdout",
          "output_type": "stream",
          "text": [
            "[3 0 2]\n"
          ]
        }
      ]
    },
    {
      "cell_type": "code",
      "metadata": {
        "id": "NEDEMYfPlAeV",
        "outputId": "75414197-c7bb-4651-c7ce-f7ffca396075"
      },
      "source": [
        "b = a[(2 < a) & (a < 5)]\n",
        "print(b)\n",
        "\n",
        "#a[[T,T,F,F,T] & [F,T,T,T,F]]\n",
        "#a[[F,T,F,F,F]]\n",
        "# [3]"
      ],
      "execution_count": null,
      "outputs": [
        {
          "name": "stdout",
          "output_type": "stream",
          "text": [
            "[3]\n"
          ]
        }
      ]
    },
    {
      "cell_type": "markdown",
      "metadata": {
        "id": "f-wl8dwFlAeV"
      },
      "source": [
        "### Matrix translation"
      ]
    },
    {
      "cell_type": "markdown",
      "metadata": {
        "id": "dBczEXHAlAeV"
      },
      "source": [
        "<img src=\"https://drive.google.com/uc?id=1XicKAfNL1WYDxIgFghu0DG_p_pZ8l_SB\" width=\"500px\" />\n",
        "We would like to move all points to the right 7 steps and to downward\n",
        "3 steps. Hence, we need to add all points with [7, -3]"
      ]
    },
    {
      "cell_type": "code",
      "metadata": {
        "id": "QxIYqgBPlAeV",
        "outputId": "ae9df012-2597-4516-9bdb-e555e32a7ed4"
      },
      "source": [
        "M1 = np.array([[-7,2],[-5,7],[-1,0]])\n",
        "T  = np.array([[7,-3],[7,-3],[7,-3]])\n",
        "M2 = M1+T\n",
        "print(M2)"
      ],
      "execution_count": null,
      "outputs": [
        {
          "name": "stdout",
          "output_type": "stream",
          "text": [
            "[[ 0 -1]\n",
            " [ 2  4]\n",
            " [ 6 -3]]\n"
          ]
        }
      ]
    },
    {
      "cell_type": "markdown",
      "metadata": {
        "id": "KiA6SetClAeV"
      },
      "source": [
        "### *** Practice#4 : Sum sub matrices *** "
      ]
    },
    {
      "cell_type": "markdown",
      "metadata": {
        "id": "NCruyG7RlAeW"
      },
      "source": [
        "<img src=\"https://drive.google.com/uc?id=1rTnYwrbiosADrJ8GnFQ5jZtRPFKb6nij\" width=\"400px\" />"
      ]
    },
    {
      "cell_type": "code",
      "metadata": {
        "id": "mAL-U2zklAeW"
      },
      "source": [
        "# Given a matrix with teh following values\n",
        "M = np.array([[1,2,3,4,5,6],[7,8,9,10,11,12],[13,14,15,16,17,18],[19,20,21,22,23,24],[25,26,27,28,29,30],[31,32,33,34,35,36]])"
      ],
      "execution_count": null,
      "outputs": []
    },
    {
      "cell_type": "code",
      "metadata": {
        "id": "MdwPe15IlAeW"
      },
      "source": [
        "# Write your code for \n",
        "def sum_2_rows(M):\n",
        "    return"
      ],
      "execution_count": null,
      "outputs": []
    },
    {
      "cell_type": "code",
      "metadata": {
        "id": "own53403lAeW"
      },
      "source": [
        "# Write your code for \n",
        "def sum_left_right(M):\n",
        "    return"
      ],
      "execution_count": null,
      "outputs": []
    },
    {
      "cell_type": "code",
      "metadata": {
        "id": "juVAjiWTlAeW"
      },
      "source": [
        "# Write your code for \n",
        "def sum_upper_low(M):\n",
        "    return"
      ],
      "execution_count": null,
      "outputs": []
    },
    {
      "cell_type": "code",
      "metadata": {
        "id": "mX9Rd-JPlAeW"
      },
      "source": [
        "# Write your code for \n",
        "def sum_4_quadrants(M):\n",
        "    return"
      ],
      "execution_count": null,
      "outputs": []
    },
    {
      "cell_type": "code",
      "metadata": {
        "id": "fF6ZkAIIlAeW"
      },
      "source": [
        "# Write your code for \n",
        "def sum_4_cells(M):\n",
        "    return"
      ],
      "execution_count": null,
      "outputs": []
    },
    {
      "cell_type": "markdown",
      "metadata": {
        "id": "wAS3tqKzlAeX"
      },
      "source": [
        "### Broadcasting"
      ]
    },
    {
      "cell_type": "markdown",
      "metadata": {
        "id": "Zn9f0D7ClAeX"
      },
      "source": [
        "<img src=\"https://drive.google.com/uc?id=1XicKAfNL1WYDxIgFghu0DG_p_pZ8l_SB\" width=\"500px\" />\n",
        "We would like to move all points to the right 7 steps and to downward\n",
        "3 steps. Hence, we need to add all points with [7, -3]\n",
        "\n",
        "Redo matrix translation using brodcasting\n"
      ]
    },
    {
      "cell_type": "code",
      "metadata": {
        "id": "Ad0npyeYlAeX",
        "outputId": "630564c8-80be-4161-ae4c-464a8490b3c2"
      },
      "source": [
        "# Previous code\n",
        "\n",
        "#M1 = np.array([[-7,2],[-5,7,[-1,0])\n",
        "#T  = np.array([7,-3],[7,-3],[7,-3])\n",
        "#M2 = M1+T\n",
        "\n",
        "# New code using broadcasting\n",
        "M2 = M1 + np.array([7,-3])\n",
        "print(M2)"
      ],
      "execution_count": null,
      "outputs": [
        {
          "name": "stdout",
          "output_type": "stream",
          "text": [
            "[[ 0 -1]\n",
            " [ 2  4]\n",
            " [ 6 -3]]\n"
          ]
        }
      ]
    },
    {
      "cell_type": "markdown",
      "metadata": {
        "id": "poBmWDY7lAeX"
      },
      "source": [
        "### Broadcast smaller dimension size to a bigger one (1)\n",
        "<img src=\"https://drive.google.com/uc?id=1JUns6zCrAZCUhiOwbrzFzEzT_ADAwsu9\" width=\"250px\" />"
      ]
    },
    {
      "cell_type": "code",
      "metadata": {
        "id": "buIpKGdGlAeX",
        "outputId": "1bbf9c3b-1d48-43b3-e7e7-a67a20a43725"
      },
      "source": [
        "x = np.array([[1,2],[3,4],[5,6]])\n",
        "u = np.array([2]) + x\n",
        "print(u)"
      ],
      "execution_count": null,
      "outputs": [
        {
          "name": "stdout",
          "output_type": "stream",
          "text": [
            "[[3 4]\n",
            " [5 6]\n",
            " [7 8]]\n"
          ]
        }
      ]
    },
    {
      "cell_type": "markdown",
      "metadata": {
        "id": "tEC_FscOlAeX"
      },
      "source": [
        "### Broadcast smaller dimension size to a bigger one (2)\n",
        "<img src=\"https://drive.google.com/uc?id=1zZCJIfvFmQUOUH4GXhHgYWFD6GTnARS5\" width=\"250px\"/>"
      ]
    },
    {
      "cell_type": "code",
      "metadata": {
        "id": "FlnTBWiYlAeX",
        "outputId": "784d55cc-1531-4559-a94a-04a3b0678e45"
      },
      "source": [
        "x = np.array([[1,2],[3,4],[5,6]])\n",
        "u = np.array([10,20]) + x\n",
        "print(u)"
      ],
      "execution_count": null,
      "outputs": [
        {
          "name": "stdout",
          "output_type": "stream",
          "text": [
            "[[11 22]\n",
            " [13 24]\n",
            " [15 26]]\n"
          ]
        }
      ]
    },
    {
      "cell_type": "markdown",
      "metadata": {
        "id": "DCi7tqZclAeY"
      },
      "source": [
        "### broadcast smaller dimension size to a bigger one (3)\n",
        "<img src=\"https://drive.google.com/uc?id=15YakckBLo1YmB5ME0QLgKuBf7AQH4h3P\" width=\"250px\"/>"
      ]
    },
    {
      "cell_type": "code",
      "metadata": {
        "id": "gkjlJCz5lAeY",
        "outputId": "3033f5e0-1f9c-4c10-c56d-9cfc57e712f9"
      },
      "source": [
        "x = np.array([[1,2],[3,4],[5,6]])\n",
        "u = np.array([[10],[20],[30]]) + x\n",
        "print(u)"
      ],
      "execution_count": null,
      "outputs": [
        {
          "name": "stdout",
          "output_type": "stream",
          "text": [
            "[[11 12]\n",
            " [23 24]\n",
            " [35 36]]\n"
          ]
        }
      ]
    },
    {
      "cell_type": "markdown",
      "metadata": {
        "id": "1zPxZrXXlAeY"
      },
      "source": [
        "### *** Practices#5 : Multiplication Table***\n",
        "Write a program to construct a multiplication table using NumPy array\n",
        "and not using any loops.\n",
        "<img src=\"https://drive.google.com/uc?id=16C0dBclY9OrP6mgDyeUm0qyNLJZ-SHaw\" width=\"450px\"/>"
      ]
    },
    {
      "cell_type": "code",
      "metadata": {
        "id": "kOsaLnvYlAeY"
      },
      "source": [
        "# Write your code here!!"
      ],
      "execution_count": null,
      "outputs": []
    },
    {
      "cell_type": "markdown",
      "metadata": {
        "id": "786lr3PxlAeY"
      },
      "source": [
        "### Interesting functions in NumPy\n"
      ]
    },
    {
      "cell_type": "markdown",
      "metadata": {
        "id": "YhdK2rNNlAeY"
      },
      "source": [
        "#### np.sum \n",
        "<img src=\"https://drive.google.com/uc?id=1z-tkHaMMmuPEoh0NgOWEXSXiI-shTL1x\" width=\"400px\"/>"
      ]
    },
    {
      "cell_type": "code",
      "metadata": {
        "id": "S3YpwfAGlAeY"
      },
      "source": [
        "a = np.array([[1,2,3,4,5],[10,9,8,7,6],[11,12,13,14,15],[20,19,18,17,16]])"
      ],
      "execution_count": null,
      "outputs": []
    },
    {
      "cell_type": "code",
      "metadata": {
        "id": "kZZQz-nslAeZ",
        "outputId": "7e69822e-6e20-4e80-e073-14a97c6d7901"
      },
      "source": [
        "np.sum(a,axis=1)"
      ],
      "execution_count": null,
      "outputs": [
        {
          "data": {
            "text/plain": [
              "array([15, 40, 65, 90])"
            ]
          },
          "execution_count": 149,
          "metadata": {},
          "output_type": "execute_result"
        }
      ]
    },
    {
      "cell_type": "code",
      "metadata": {
        "id": "WbZodL6ElAeZ",
        "outputId": "3639bf9d-3980-4820-d5fa-c5c0b0464f9b"
      },
      "source": [
        "np.sum(a,axis=0)"
      ],
      "execution_count": null,
      "outputs": [
        {
          "data": {
            "text/plain": [
              "array([42, 42, 42, 42, 42])"
            ]
          },
          "execution_count": 150,
          "metadata": {},
          "output_type": "execute_result"
        }
      ]
    },
    {
      "cell_type": "code",
      "metadata": {
        "id": "nr4qDDHtlAeZ",
        "outputId": "85c3f9cd-2edf-4d99-84c3-dfc05973fe80"
      },
      "source": [
        "np.sum(a)"
      ],
      "execution_count": null,
      "outputs": [
        {
          "data": {
            "text/plain": [
              "210"
            ]
          },
          "execution_count": 151,
          "metadata": {},
          "output_type": "execute_result"
        }
      ]
    },
    {
      "cell_type": "markdown",
      "metadata": {
        "id": "Gg2Qv6LZlAeZ"
      },
      "source": [
        "#### np.min\n",
        "<img src=\"https://drive.google.com/uc?id=18bkuG_JwB0z317Zz2EmdDY-tUF4F7ap8\" width=\"400px\"/>"
      ]
    },
    {
      "cell_type": "code",
      "metadata": {
        "id": "FgJ6X5wVlAeZ",
        "outputId": "d528710f-ba7e-45db-a9ab-2b1fd35b2254"
      },
      "source": [
        "np.min(a,axis=1)"
      ],
      "execution_count": null,
      "outputs": [
        {
          "data": {
            "text/plain": [
              "array([ 1,  6, 11, 16])"
            ]
          },
          "execution_count": 152,
          "metadata": {},
          "output_type": "execute_result"
        }
      ]
    },
    {
      "cell_type": "code",
      "metadata": {
        "id": "ByKFHZdqlAeZ",
        "outputId": "9bf77527-a526-4147-dd43-b90c8ec8a886"
      },
      "source": [
        "np.min(a,axis=0)"
      ],
      "execution_count": null,
      "outputs": [
        {
          "data": {
            "text/plain": [
              "array([1, 2, 3, 4, 5])"
            ]
          },
          "execution_count": 153,
          "metadata": {},
          "output_type": "execute_result"
        }
      ]
    },
    {
      "cell_type": "code",
      "metadata": {
        "id": "RNnsceD6lAeZ",
        "outputId": "02de8240-5e0e-4f9b-fbed-6902b9a87ff9"
      },
      "source": [
        "np.min(a)"
      ],
      "execution_count": null,
      "outputs": [
        {
          "data": {
            "text/plain": [
              "1"
            ]
          },
          "execution_count": 154,
          "metadata": {},
          "output_type": "execute_result"
        }
      ]
    },
    {
      "cell_type": "markdown",
      "metadata": {
        "id": "lnxR4HGqlAea"
      },
      "source": [
        "#### How about np.max?"
      ]
    },
    {
      "cell_type": "code",
      "metadata": {
        "id": "6i8ZiRIolAea",
        "outputId": "1d652785-b626-4bd8-8bae-c7d682bf65c0"
      },
      "source": [
        "np.max(a,axis=1)"
      ],
      "execution_count": null,
      "outputs": [
        {
          "data": {
            "text/plain": [
              "array([ 5, 10, 15, 20])"
            ]
          },
          "execution_count": 157,
          "metadata": {},
          "output_type": "execute_result"
        }
      ]
    },
    {
      "cell_type": "code",
      "metadata": {
        "id": "Yk1APrBolAea",
        "outputId": "9f519549-74a6-4c1b-a1d2-40f2828c6b7e"
      },
      "source": [
        "np.max(a,axis=0)"
      ],
      "execution_count": null,
      "outputs": [
        {
          "data": {
            "text/plain": [
              "array([20, 19, 18, 17, 16])"
            ]
          },
          "execution_count": 158,
          "metadata": {},
          "output_type": "execute_result"
        }
      ]
    },
    {
      "cell_type": "code",
      "metadata": {
        "id": "Xf-JClEmlAea",
        "outputId": "eeb5d962-ec9e-4b8a-c449-93a76c560633"
      },
      "source": [
        "np.max(a)"
      ],
      "execution_count": null,
      "outputs": [
        {
          "data": {
            "text/plain": [
              "20"
            ]
          },
          "execution_count": 159,
          "metadata": {},
          "output_type": "execute_result"
        }
      ]
    },
    {
      "cell_type": "markdown",
      "metadata": {
        "id": "tzW9vJKdlAea"
      },
      "source": [
        "#### np.argmin\n",
        "<img src=\"https://drive.google.com/uc?id=1KqNdLfg9_KxBRae2JdPGVH2qwmQSIoVa\" width=\"400px\"/>"
      ]
    },
    {
      "cell_type": "code",
      "metadata": {
        "id": "Ym7tfaHblAeb",
        "outputId": "90fe7d36-9a13-4f00-d4d2-a31ebec139c2"
      },
      "source": [
        "np.argmin(a,axis=1)"
      ],
      "execution_count": null,
      "outputs": [
        {
          "data": {
            "text/plain": [
              "array([0, 4, 0, 4])"
            ]
          },
          "execution_count": 160,
          "metadata": {},
          "output_type": "execute_result"
        }
      ]
    },
    {
      "cell_type": "code",
      "metadata": {
        "id": "B6GyfQYmlAeb",
        "outputId": "99c8fb72-7502-4845-d4ef-cf186128d98d"
      },
      "source": [
        "np.argmin(a,axis=0)"
      ],
      "execution_count": null,
      "outputs": [
        {
          "data": {
            "text/plain": [
              "array([0, 0, 0, 0, 0])"
            ]
          },
          "execution_count": 161,
          "metadata": {},
          "output_type": "execute_result"
        }
      ]
    },
    {
      "cell_type": "code",
      "metadata": {
        "id": "pjl7ceCzlAeb",
        "outputId": "2f7ded51-dfa1-4431-8993-13fd01f2ce0a"
      },
      "source": [
        "np.argmin(a)"
      ],
      "execution_count": null,
      "outputs": [
        {
          "data": {
            "text/plain": [
              "0"
            ]
          },
          "execution_count": 162,
          "metadata": {},
          "output_type": "execute_result"
        }
      ]
    },
    {
      "cell_type": "markdown",
      "metadata": {
        "id": "OT-wqW8elAeb"
      },
      "source": [
        "#### How about np.argmax?"
      ]
    },
    {
      "cell_type": "code",
      "metadata": {
        "id": "HnDTXB5-lAec",
        "outputId": "1f737686-a7c2-4575-d74f-84db6828e4a9"
      },
      "source": [
        "np.argmax(a,axis=1)"
      ],
      "execution_count": null,
      "outputs": [
        {
          "data": {
            "text/plain": [
              "array([4, 0, 4, 0])"
            ]
          },
          "execution_count": 169,
          "metadata": {},
          "output_type": "execute_result"
        }
      ]
    },
    {
      "cell_type": "code",
      "metadata": {
        "id": "lPr_uYmZlAec",
        "outputId": "f84f12b4-de96-4630-e2c4-4b305e343157"
      },
      "source": [
        "np.argmax(a,axis=0)"
      ],
      "execution_count": null,
      "outputs": [
        {
          "data": {
            "text/plain": [
              "array([3, 3, 3, 3, 3])"
            ]
          },
          "execution_count": 165,
          "metadata": {},
          "output_type": "execute_result"
        }
      ]
    },
    {
      "cell_type": "code",
      "metadata": {
        "id": "fCQoV6uTlAec",
        "outputId": "6f5209a5-2366-487e-9ea3-5f81cc815c77"
      },
      "source": [
        "np.argmax(a)"
      ],
      "execution_count": null,
      "outputs": [
        {
          "data": {
            "text/plain": [
              "15"
            ]
          },
          "execution_count": 166,
          "metadata": {},
          "output_type": "execute_result"
        }
      ]
    },
    {
      "cell_type": "markdown",
      "metadata": {
        "id": "-Mul0vb5lAec"
      },
      "source": [
        "#### np.mean\n",
        "<img src=\"https://drive.google.com/uc?id=1ja9_QB1VvMOZ4TWZqUfMjPvVer-Cxnnd\" width=\"400px\"/>"
      ]
    },
    {
      "cell_type": "code",
      "metadata": {
        "id": "wl756jfxlAec",
        "outputId": "2ff02987-bcb7-47ee-adb9-7724e6f4c154"
      },
      "source": [
        "np.mean(a,axis=1)"
      ],
      "execution_count": null,
      "outputs": [
        {
          "data": {
            "text/plain": [
              "array([ 3.,  8., 13., 18.])"
            ]
          },
          "execution_count": 170,
          "metadata": {},
          "output_type": "execute_result"
        }
      ]
    },
    {
      "cell_type": "code",
      "metadata": {
        "id": "qjiA6vDzlAec",
        "outputId": "1720f35f-6a54-48dd-d484-15a6cc7df571"
      },
      "source": [
        "np.mean(a,axis=0)"
      ],
      "execution_count": null,
      "outputs": [
        {
          "data": {
            "text/plain": [
              "array([10.5, 10.5, 10.5, 10.5, 10.5])"
            ]
          },
          "execution_count": 171,
          "metadata": {},
          "output_type": "execute_result"
        }
      ]
    },
    {
      "cell_type": "code",
      "metadata": {
        "id": "rqiREqH_lAed",
        "outputId": "3aea299a-2304-4e2c-a7da-ee6eb1116d72"
      },
      "source": [
        "np.mean(a)"
      ],
      "execution_count": null,
      "outputs": [
        {
          "data": {
            "text/plain": [
              "10.5"
            ]
          },
          "execution_count": 172,
          "metadata": {},
          "output_type": "execute_result"
        }
      ]
    },
    {
      "cell_type": "markdown",
      "metadata": {
        "id": "iVsO-I91lAed"
      },
      "source": [
        "#### How about np.std?"
      ]
    },
    {
      "cell_type": "code",
      "metadata": {
        "id": "JhLMVmHQlAed",
        "outputId": "9c550566-4f42-4b39-8a11-1ee0a19e3e4e"
      },
      "source": [
        "np.std(a,axis=1)"
      ],
      "execution_count": null,
      "outputs": [
        {
          "data": {
            "text/plain": [
              "array([1.41421356, 1.41421356, 1.41421356, 1.41421356])"
            ]
          },
          "execution_count": 173,
          "metadata": {},
          "output_type": "execute_result"
        }
      ]
    },
    {
      "cell_type": "code",
      "metadata": {
        "id": "3COvnp8nlAed",
        "outputId": "4a9319b6-c9c5-4434-e240-7c59be1ebd43"
      },
      "source": [
        "np.std(a,axis=0)"
      ],
      "execution_count": null,
      "outputs": [
        {
          "data": {
            "text/plain": [
              "array([6.72681202, 6.10327781, 5.59016994, 5.22015325, 5.02493781])"
            ]
          },
          "execution_count": 175,
          "metadata": {},
          "output_type": "execute_result"
        }
      ]
    },
    {
      "cell_type": "code",
      "metadata": {
        "id": "IRTq2HsWlAed",
        "outputId": "0acca2fe-95bb-4922-9334-b41862635896"
      },
      "source": [
        "np.std(a)"
      ],
      "execution_count": null,
      "outputs": [
        {
          "data": {
            "text/plain": [
              "5.766281297335398"
            ]
          },
          "execution_count": 176,
          "metadata": {},
          "output_type": "execute_result"
        }
      ]
    },
    {
      "cell_type": "markdown",
      "metadata": {
        "id": "JioHuBo0lAed"
      },
      "source": [
        "#### np.dot\n",
        "1. np.dot(vector, vector) \n",
        "2. np.dot(vector, matrix)\n",
        "3. np.dot(matrix, matrix) : matrix multiplication"
      ]
    },
    {
      "cell_type": "code",
      "metadata": {
        "id": "sbLCz65YlAee",
        "outputId": "01bef070-d77b-4a0b-ace8-2216c28cc87a"
      },
      "source": [
        "# 1 np.dot(vector, vector)\n",
        "x = np.array([1,2,3])\n",
        "y = np.array([4,5,6])\n",
        "np.dot(x,y)"
      ],
      "execution_count": null,
      "outputs": [
        {
          "data": {
            "text/plain": [
              "32"
            ]
          },
          "execution_count": 190,
          "metadata": {},
          "output_type": "execute_result"
        }
      ]
    },
    {
      "cell_type": "code",
      "metadata": {
        "id": "2YPVmuiylAee",
        "outputId": "fb7f1675-a3a2-44dc-8bf6-bf10f9fd30e2"
      },
      "source": [
        "# 2.1 np.dot(vector, matrix)\n",
        "x = np.array([1,2,3])\n",
        "y = np.array([[4,7],[5,8],[6,9]])\n",
        "np.dot(x,y)"
      ],
      "execution_count": null,
      "outputs": [
        {
          "data": {
            "text/plain": [
              "array([32, 50])"
            ]
          },
          "execution_count": 195,
          "metadata": {},
          "output_type": "execute_result"
        }
      ]
    },
    {
      "cell_type": "code",
      "metadata": {
        "id": "63Ns0CdRlAef",
        "outputId": "4b102f96-3612-4e36-fd75-9fc56a7c56f0"
      },
      "source": [
        "# 2.2 np.dot(vector, matrix)\n",
        "x = np.array([[1,2],[3,4],[5,6]])\n",
        "y = np.array([2,3])\n",
        "np.dot(x,y)"
      ],
      "execution_count": null,
      "outputs": [
        {
          "data": {
            "text/plain": [
              "array([ 8, 18, 28])"
            ]
          },
          "execution_count": 196,
          "metadata": {},
          "output_type": "execute_result"
        }
      ]
    },
    {
      "cell_type": "code",
      "metadata": {
        "id": "BqM4MlkYlAef",
        "outputId": "febf5ce6-4684-44d7-8e94-ee3524051e5f"
      },
      "source": [
        "# 3 np.dot(matrix, matrix) : matrix multiplication\n",
        "x = np.array([[1,2,3],[4,5,6]])\n",
        "y = np.array([[7,8],[9,10],[11,12]])\n",
        "np.dot(x,y)"
      ],
      "execution_count": null,
      "outputs": [
        {
          "data": {
            "text/plain": [
              "array([[ 58,  64],\n",
              "       [139, 154]])"
            ]
          },
          "execution_count": 197,
          "metadata": {},
          "output_type": "execute_result"
        }
      ]
    },
    {
      "cell_type": "markdown",
      "metadata": {
        "id": "Uq6DQOh2lAef"
      },
      "source": [
        "#### Either np.???(a,b) or a.???(b) is fine"
      ]
    },
    {
      "cell_type": "code",
      "metadata": {
        "id": "sE61slBQlAeg"
      },
      "source": [
        "x = np.array([[1,2,3],[4,5,6]])\n",
        "y = np.array([[7,8],[9,10],[11,12]])"
      ],
      "execution_count": null,
      "outputs": []
    },
    {
      "cell_type": "code",
      "metadata": {
        "id": "35luJTaRlAeg",
        "outputId": "9a9b63e0-c78e-4484-f026-6402640a0f09"
      },
      "source": [
        "a = np.dot(x,y)\n",
        "print(a)\n",
        "a = x.dot(y)\n",
        "print(a)"
      ],
      "execution_count": null,
      "outputs": [
        {
          "name": "stdout",
          "output_type": "stream",
          "text": [
            "[[ 58  64]\n",
            " [139 154]]\n",
            "[[ 58  64]\n",
            " [139 154]]\n"
          ]
        }
      ]
    },
    {
      "cell_type": "code",
      "metadata": {
        "id": "mNZ9vvdVlAeg",
        "outputId": "1fa38618-2057-42c6-9d20-c3c9fa809861"
      },
      "source": [
        "b = np.sum(x,axis=0)\n",
        "print(b)\n",
        "b = x.sum(axis=0)\n",
        "print(b)"
      ],
      "execution_count": null,
      "outputs": [
        {
          "name": "stdout",
          "output_type": "stream",
          "text": [
            "[5 7 9]\n",
            "[5 7 9]\n"
          ]
        }
      ]
    },
    {
      "cell_type": "code",
      "metadata": {
        "id": "ZFICGpxRlAeg",
        "outputId": "a043b3c3-30a9-4373-95e6-27cd75e6e826"
      },
      "source": [
        "c = np.mean(x,axis=1)\n",
        "print(c)\n",
        "c = x.mean(axis=1)\n",
        "print(c)"
      ],
      "execution_count": null,
      "outputs": [
        {
          "name": "stdout",
          "output_type": "stream",
          "text": [
            "[2. 5.]\n",
            "[2. 5.]\n"
          ]
        }
      ]
    },
    {
      "cell_type": "markdown",
      "metadata": {
        "id": "GW5l98U9lAeg"
      },
      "source": [
        "### Total Weekly Income\n",
        "<img src=\"https://drive.google.com/uc?id=1SMOfef_jtSpSSpNA63DKCNRyd5MzbLom\" width=\"600px\"/>\n"
      ]
    },
    {
      "cell_type": "code",
      "metadata": {
        "id": "kLWOeBxqlAeg"
      },
      "source": [
        "prices = np.array([25,30,45])\n",
        "dailysales = np.array([[75,120,70,90,80],[80,90,100,70,50],[50,45,70,65,50]])"
      ],
      "execution_count": null,
      "outputs": []
    },
    {
      "cell_type": "code",
      "metadata": {
        "id": "CkmVFOMglAeh",
        "outputId": "a46a8982-31d4-42c0-84bb-6e0da255a53d"
      },
      "source": [
        "dailyincomes = np.dot(prices, dailysales)\n",
        "print(dailyincomes)"
      ],
      "execution_count": null,
      "outputs": [
        {
          "name": "stdout",
          "output_type": "stream",
          "text": [
            "[6525 7725 7900 7275 5750]\n"
          ]
        }
      ]
    },
    {
      "cell_type": "code",
      "metadata": {
        "id": "fGrlrD-4lAeh",
        "outputId": "37b710a7-66f5-4116-e081-3f018c7adefd"
      },
      "source": [
        "weeklyincome = np.sum(dailyincomes)\n",
        "print(weeklyincome)"
      ],
      "execution_count": null,
      "outputs": [
        {
          "name": "stdout",
          "output_type": "stream",
          "text": [
            "35175\n"
          ]
        }
      ]
    },
    {
      "cell_type": "code",
      "metadata": {
        "id": "9bBHGMo1lAeh",
        "outputId": "2a17344a-945f-4833-e5bd-974e0ebe4923"
      },
      "source": [
        "dailyaverage = np.average(dailyincomes)\n",
        "print(dailyaverage)"
      ],
      "execution_count": null,
      "outputs": [
        {
          "name": "stdout",
          "output_type": "stream",
          "text": [
            "7035.0\n"
          ]
        }
      ]
    },
    {
      "cell_type": "code",
      "metadata": {
        "id": "UuteHzgzlAeh",
        "outputId": "9c0f2723-09fe-4c48-963c-a954ff0c8c0f"
      },
      "source": [
        "best_day_index = np.argmax(dailyincomes)\n",
        "print(best_day_index)"
      ],
      "execution_count": null,
      "outputs": [
        {
          "name": "stdout",
          "output_type": "stream",
          "text": [
            "2\n"
          ]
        }
      ]
    },
    {
      "cell_type": "markdown",
      "metadata": {
        "id": "u0uIkPh0lAeh"
      },
      "source": [
        "<img src=\"https://drive.google.com/uc?id=1ynsOa74zOyDqjIodw9YRJx0fLZDHmPYr\" width=\"250px\"/>"
      ]
    },
    {
      "cell_type": "code",
      "metadata": {
        "id": "R3-a1pOYlAeh"
      },
      "source": [
        "def report(prices,dailysales,breakeven):\n",
        "    days = [\"MO\", \"TU\", \"WE\", \"TH\", \"FR\"]\n",
        "    menus = [\"M1\", \"M2\", \"M3\"]\n",
        "    dailyincomes = np.dot(prices,dailysales)\n",
        "    for i in range(len(days)):\n",
        "        print(days[i], \"-->\", dailyincomes[i])\n",
        "    print(\"weekly income = \", np.sum(dailyincomes))\n",
        "    print(\"daily average = \", np.mean(dailyincomes))\n",
        "    print(\"best sales day = \", days[np.argmax(dailyincomes)])\n",
        "    loss = np.array(days)[dailyincomes < breakeven]\n",
        "    print(\"Sales loss on:\", \", \".join(loss))\n",
        "    print(\"---------------------\")\n",
        "    menuincomes = np.sum(dailysales,axis=1) * prices\n",
        "    for i in range(len(menus)):\n",
        "        print(menus[i], \"-->\", menuincomes[i])\n",
        "    print(\"Best menu =\", menus[np.argmax(menuincomes)])"
      ],
      "execution_count": null,
      "outputs": []
    },
    {
      "cell_type": "code",
      "metadata": {
        "id": "cwYYdJ5HlAei",
        "outputId": "e16bf841-1510-45a3-daff-e6e867e2b3f9"
      },
      "source": [
        "breakeven = 7500\n",
        "report(prices, dailysales, breakeven)"
      ],
      "execution_count": null,
      "outputs": [
        {
          "name": "stdout",
          "output_type": "stream",
          "text": [
            "MO --> 6525\n",
            "TU --> 7725\n",
            "WE --> 7900\n",
            "TH --> 7275\n",
            "FR --> 5750\n",
            "weekly income =  35175\n",
            "daily average =  7035.0\n",
            "best sales day =  WE\n",
            "Sales loss on: MO, TH, FR\n",
            "---------------------\n",
            "M1 --> 10875\n",
            "M2 --> 11700\n",
            "M3 --> 12600\n",
            "Best menu = M3\n"
          ]
        }
      ]
    },
    {
      "cell_type": "markdown",
      "metadata": {
        "id": "VdkD2NhNlAei"
      },
      "source": [
        "### *** Practice#6 ***\n",
        "Which students got the total scores less than the average total score of all students? "
      ]
    },
    {
      "cell_type": "code",
      "metadata": {
        "id": "0vPSt9mBlAei",
        "outputId": "12057565-4084-42fd-acba-0568ebc42f4a"
      },
      "source": [
        "data = np.array([[610011, 80, 90, 70],\n",
        "                [610022, 50, 80, 68],\n",
        "                [610033, 70, 85, 80],\n",
        "                [610044, 60, 50, 90],\n",
        "                [610055, 90, 74, 70]])\n",
        "print(data)\n",
        "weight = np.array([0.3, 0.5, 0.2])\n",
        "print(weight)"
      ],
      "execution_count": null,
      "outputs": [
        {
          "name": "stdout",
          "output_type": "stream",
          "text": [
            "[[610011     80     90     70]\n",
            " [610022     50     80     68]\n",
            " [610033     70     85     80]\n",
            " [610044     60     50     90]\n",
            " [610055     90     74     70]]\n",
            "[0.3 0.5 0.2]\n"
          ]
        }
      ]
    },
    {
      "cell_type": "code",
      "metadata": {
        "id": "Vr2GSh3dlAei"
      },
      "source": [
        "# Write your code here!!!"
      ],
      "execution_count": null,
      "outputs": []
    },
    {
      "cell_type": "markdown",
      "metadata": {
        "id": "teEeyIO3lAei"
      },
      "source": [
        "## Activities"
      ]
    },
    {
      "cell_type": "markdown",
      "metadata": {
        "id": "n9wJbVVelAej"
      },
      "source": [
        "### Array creation and reshaping"
      ]
    },
    {
      "cell_type": "markdown",
      "metadata": {
        "id": "eS0yLpVOlAej"
      },
      "source": [
        "#### Use NumPy to create the following arrays withour loop \n",
        "   1. a0 : read a line of integers, each is separated by a space, from keyboard, and create a 1D array\n",
        "   2. a1 : 3x4 array with all 0.0\n",
        "   3. a2 : 4x2 array with all 1\n",
        "   4. a3 : a vector with 4 elements containing values 2, 13, 4, 9\n",
        "   5. a4 : 1x4 array with values 2, 13, 4, 9 \n",
        "   6. a5 : a vector with 100 elements containing values 1.00, 1.01, 1.02, ..., 1.99\n",
        "   7. a6 : an identity matrix of size 10x10\n",
        "   8. a7 : a 10x7 array of float datatype without setting any initial values\n"
      ]
    },
    {
      "cell_type": "code",
      "metadata": {
        "id": "FOLJzGXTlAej"
      },
      "source": [
        "# Write your code here\n",
        "import numpy as np\n",
        "\n",
        "\n"
      ],
      "execution_count": null,
      "outputs": []
    },
    {
      "cell_type": "markdown",
      "metadata": {
        "id": "CnpxdI67lAej"
      },
      "source": [
        "#### Write functions : \n",
        "1. number_of_rows(M)\n",
        "2. number_of_cols(M) \n",
        "Which gets a matrix M and returns number of rows and columns, respectively. "
      ]
    },
    {
      "cell_type": "code",
      "metadata": {
        "id": "-0YCx21wlAej"
      },
      "source": [
        "# Write your code here\n",
        "import numpy as np\n",
        "\n",
        "def number_of_rows(M):\n",
        "    return\n",
        "def number_of_cols(M):\n",
        "    return"
      ],
      "execution_count": null,
      "outputs": []
    },
    {
      "cell_type": "markdown",
      "metadata": {
        "id": "Tw8JF0M2lAej"
      },
      "source": [
        "#### Write function:\n",
        "Normally, if A in a 1D array, e.g., A = np.array([1,2,3]), A.T will get the same result. \n",
        "However, in this activity, you are asked to write a transpose() function as described below. \n",
        "1. transpose(A) gets a 1D array and returns an array that is a transpose of A, as follows:\n",
        "transpose(np.array([1,2,3]) will get np.array([[1],[2],[3]]). Note, you must not use loops. "
      ]
    },
    {
      "cell_type": "code",
      "metadata": {
        "id": "RKWfMgehlAek"
      },
      "source": [
        "# Write your code here\n",
        "import numpy as np\n",
        "\n",
        "def transpose(A):\n",
        "    return"
      ],
      "execution_count": null,
      "outputs": []
    },
    {
      "cell_type": "markdown",
      "metadata": {
        "id": "sMqjs1VtlAek"
      },
      "source": [
        "#### Write a function\n",
        "Create a 20x10 array, which keep integers, where a[k] has values [10k, 10k+1, 10k+2,..., 10k+9]. Note, you must not use loops. "
      ]
    },
    {
      "cell_type": "code",
      "metadata": {
        "id": "GNbuY12ZlAek"
      },
      "source": [
        "# Write your code here\n",
        "\n"
      ],
      "execution_count": null,
      "outputs": []
    },
    {
      "cell_type": "markdown",
      "metadata": {
        "id": "0voLSkuilAem"
      },
      "source": [
        "### Array indexes and slices"
      ]
    },
    {
      "cell_type": "markdown",
      "metadata": {
        "id": "b77dkqG2lAem"
      },
      "source": [
        "#### Create a 2D array A from the following input from keyboard. \n",
        "1. The first line contains number of row and column of the matrix, separarted by a space. \n",
        "2. There are r more lines, each consists of c values, separated by space. "
      ]
    },
    {
      "cell_type": "code",
      "metadata": {
        "id": "0c-yVJ_LlAem"
      },
      "source": [
        "# Write your code here\n",
        "import numpy as np\n",
        "\n"
      ],
      "execution_count": null,
      "outputs": []
    },
    {
      "cell_type": "markdown",
      "metadata": {
        "id": "4CWxUlrhlAem"
      },
      "source": [
        "#### Given A as a 2D array with the even number of both rows and columns, create a new array from array A with the following conditions. Note, you must not use loops. \n",
        "\n",
        "1. a0 contains only the bottom right value of A\n",
        "2. a1 contains all columns of the even rows of A\n",
        "3. a2 contains only odd columns of all rows of A\n",
        "4. a3 contains only even columns of the first row of A\n",
        "5. a4 contains only column 1 of all odd rows of A\n",
        "6. a5 contains all values in quadrant 2 of A, assuming that A can be equally divided into quadrants\n",
        "7. a6 contains all values in quadrant 4 of A, assuming that A can be equally divided into quadrants\n",
        "8. a7 contains all columns of the first and last rows of A\n",
        "9. a8 contains only the first and last columns of all rows of A\n",
        "10.a9 contains all rows and columns of A except row 4"
      ]
    },
    {
      "cell_type": "code",
      "metadata": {
        "id": "y64iNmD8lAem"
      },
      "source": [
        "# Write your code here\n",
        "import numpy as np\n",
        "\n"
      ],
      "execution_count": null,
      "outputs": []
    },
    {
      "cell_type": "markdown",
      "metadata": {
        "id": "vtGA_Hz9lAem"
      },
      "source": [
        "#### Write a function submatrix(M, i, j), where M is a matrix, i and i are indexes. \n",
        "This function will return a sub-matrix within M that does NOT include all columns in row i and all rows of column j of M.\n",
        "For example, submatrix(np.array([[1,2,3,4],[5,6,7,8],[4,3,2,1],[8,7,6,5]]), 1, 2) will generate np.array([[1,2,4], [4,3,1], [8,7,5]]) Note that loops are not allowed."
      ]
    },
    {
      "cell_type": "code",
      "metadata": {
        "id": "pj3XxFfVlAen"
      },
      "source": [
        "# Write your code here. \n",
        "\n",
        "import numpy as np\n",
        "\n",
        "def submatrix(M, i, j):\n",
        "    return"
      ],
      "execution_count": null,
      "outputs": []
    },
    {
      "cell_type": "markdown",
      "metadata": {
        "id": "DfWmMZg1lAen"
      },
      "source": [
        "### Scalar operations"
      ]
    },
    {
      "cell_type": "markdown",
      "metadata": {
        "id": "XufsQTn6lAen"
      },
      "source": [
        "#### Assign the value to variable y so that \n",
        "\n",
        "yi = 2(xi)**2 - 5 for all i. Note that you need to change only the ..... in the following given code. "
      ]
    },
    {
      "cell_type": "code",
      "metadata": {
        "id": "Gbb54vZwlAen",
        "outputId": "292c58a4-efc6-4204-e4e4-e18d51e8ed9f"
      },
      "source": [
        "# Complete the following code\n",
        "\n",
        "import matplotlib.pyplot as plt\n",
        "import numpy as np\n",
        "\n",
        "x = np.arange(-5.0, 5.0, 0.1)\n",
        "y = .....\n",
        "\n",
        "plt.plot(x, y)\n",
        "plt.show()"
      ],
      "execution_count": null,
      "outputs": [
        {
          "ename": "SyntaxError",
          "evalue": "invalid syntax (<ipython-input-241-b9c05f86e43b>, line 7)",
          "output_type": "error",
          "traceback": [
            "\u001b[0;36m  File \u001b[0;32m\"<ipython-input-241-b9c05f86e43b>\"\u001b[0;36m, line \u001b[0;32m7\u001b[0m\n\u001b[0;31m    y = .....\u001b[0m\n\u001b[0m            ^\u001b[0m\n\u001b[0;31mSyntaxError\u001b[0m\u001b[0;31m:\u001b[0m invalid syntax\n"
          ]
        }
      ]
    },
    {
      "cell_type": "markdown",
      "metadata": {
        "id": "o-l5whXElAen"
      },
      "source": [
        "#### Assign the value to variables x and y in the following code.\n",
        "Where x contains the angles 0, 1, 2, ..., 360, and y contains the sin(x), i.e., yi = sin(xi) for all values of i.\n",
        "Note that you need to change only the two lines of codes with ..... in the following given code. "
      ]
    },
    {
      "cell_type": "code",
      "metadata": {
        "id": "bKlCzjFDlAen"
      },
      "source": [
        "# Complete the following code\n",
        "\n",
        "import matplotlib.pyplot as plt\n",
        "import numpy as np\n",
        "\n",
        "x = .....\n",
        "y = .....\n",
        "\n",
        "plt.plot(x, y)\n",
        "plt.show()"
      ],
      "execution_count": null,
      "outputs": []
    },
    {
      "cell_type": "markdown",
      "metadata": {
        "id": "WIPrEBrSlAeo"
      },
      "source": [
        "#### Write instructions to create an array with the following conditions (Loops are not allowed)\n",
        "1. a1 is a 10x10 array, with all values as -3.\n",
        "2. a2 is a 10x10 array, where all columns of even rows contain 2 and all columns of the odd rows contain 7. \n",
        "3. a3 is a 10x10 array, where the diagonal values are 9 while all other cells are 0. \n"
      ]
    },
    {
      "cell_type": "code",
      "metadata": {
        "id": "EF5FhWbQlAeo"
      },
      "source": [
        "# Write your code here\n",
        "import numpy as np\n",
        "\n"
      ],
      "execution_count": null,
      "outputs": []
    },
    {
      "cell_type": "markdown",
      "metadata": {
        "id": "QWydC5y_lAeo"
      },
      "source": [
        "#### Given A in a 1D array, write the instructions to create a new array from A as follows. (Loops are not allowed)\n",
        "1. a1 contains the number of values that are negative in A.\n",
        "2. a2 is the array containing all negative values from A. Order of the values are the same as of. \n",
        "3. a3 is the array containing the indexes of all negative values in A. Order of the values are the same as of A.\n",
        "4. a4 is the array containing all values between -5 and 5 in A. Order of the values are the same as of A.\n"
      ]
    },
    {
      "cell_type": "code",
      "metadata": {
        "id": "GJ9BRRVUlAeo"
      },
      "source": [
        "# Write your code here. \n",
        "import numpy as np\n",
        "\n",
        "\n"
      ],
      "execution_count": null,
      "outputs": []
    },
    {
      "cell_type": "markdown",
      "metadata": {
        "id": "SRl29rRBlAeo"
      },
      "source": [
        "#### Write function clip_to(x, e), where x is a 1D array and e is a number. (Loops are not allowed)\n",
        "This function will change the value of e to x if x is greater than e. \n",
        "This function does not return anything. \n"
      ]
    },
    {
      "cell_type": "code",
      "metadata": {
        "id": "b1CZQTI-lAeo",
        "outputId": "509e6f4d-9e79-4ed0-b6b0-e65c488900f7"
      },
      "source": [
        "# Write your code here. \n",
        "import numpy as np\n",
        "\n",
        "def clip_to(x,e):\n",
        "    \n",
        "    "
      ],
      "execution_count": null,
      "outputs": [
        {
          "ename": "SyntaxError",
          "evalue": "unexpected EOF while parsing (<ipython-input-246-b893c355046b>, line 4)",
          "output_type": "error",
          "traceback": [
            "\u001b[0;36m  File \u001b[0;32m\"<ipython-input-246-b893c355046b>\"\u001b[0;36m, line \u001b[0;32m4\u001b[0m\n\u001b[0;31m    def clip_to(x,e):\u001b[0m\n\u001b[0m                     ^\u001b[0m\n\u001b[0;31mSyntaxError\u001b[0m\u001b[0;31m:\u001b[0m unexpected EOF while parsing\n"
          ]
        }
      ]
    },
    {
      "cell_type": "markdown",
      "metadata": {
        "id": "0w83zAjKlAeo"
      },
      "source": [
        "#### Write functon to_second(hms).\n",
        "This function get hms as a nx3 array, where each row contains 3 values of hours, minutes, and seconds, and returns \n",
        "a 1D array with n integer values, where the kth value will keep the total seconds, calculated from the kth row of the hms. \n",
        "Note that loops are not allowed. "
      ]
    },
    {
      "cell_type": "code",
      "metadata": {
        "id": "fViLhhrKlAeo"
      },
      "source": [
        "# Write your code here\n",
        "import numpy as np\n",
        "\n",
        "def to_second(hms):\n",
        "    \n",
        "    \n",
        "    return"
      ],
      "execution_count": null,
      "outputs": []
    },
    {
      "cell_type": "markdown",
      "metadata": {
        "id": "gEJHbU_-lAep"
      },
      "source": [
        "#### Write function to_hms(seconds) \n",
        "This function gets second as a 1D array of size n, where each cell contains the number of seconds. \n",
        "This function returns a nx3 array where each row contains three values in the order of hours, minutes, and seconds,\n",
        "translated from each value in the seconds. \n",
        "For example, 3661 seconds is translated into 1 hour, 1 minute and 1 second. \n",
        "Note that loops are not allowes. "
      ]
    },
    {
      "cell_type": "code",
      "metadata": {
        "id": "pouyYgV0lAep"
      },
      "source": [
        "# Write your code here\n",
        "\n",
        "import numpy as np\n",
        "\n",
        "def to_hms(second):\n",
        "    \n",
        "    \n",
        "    return"
      ],
      "execution_count": null,
      "outputs": []
    },
    {
      "cell_type": "markdown",
      "metadata": {
        "id": "rGTRdL0llAep"
      },
      "source": [
        "### Element-wise operations"
      ]
    },
    {
      "cell_type": "markdown",
      "metadata": {
        "id": "94uPvWmxlAep"
      },
      "source": [
        "#### Given the 2D arrays  A, B, C and D where all arrays have the same dimensions, write the instructions to create an array E with the same dimensions as of those four arrays, where Ei,j is equal to (Ai,j + Bi,jCi,j) / Di,j. Loops are not allowed. "
      ]
    },
    {
      "cell_type": "code",
      "metadata": {
        "id": "UgYq9eHNlAep"
      },
      "source": [
        "# Write your code here. \n",
        "\n"
      ],
      "execution_count": null,
      "outputs": []
    },
    {
      "cell_type": "markdown",
      "metadata": {
        "id": "raCQ9nrMlAep"
      },
      "source": [
        "#### Given a 1D array A containing integers, create the following arrays. Loops are not allowed\n",
        "\n",
        "1. B contains the values of A, which are between 10 and 20. Values in B are ordered as of A. \n",
        "2. C contains the values of A, which are divisable by 3 or 7. Values in C are ordered as of A.  \n",
        "\n"
      ]
    },
    {
      "cell_type": "code",
      "metadata": {
        "id": "6iQXOF-ylAeq"
      },
      "source": [
        "# Write your code here.\n",
        "\n"
      ],
      "execution_count": null,
      "outputs": []
    },
    {
      "cell_type": "markdown",
      "metadata": {
        "id": "gQRZyLdflAeq"
      },
      "source": [
        "#### Write function asterisk(A) \n",
        "This function gets a nxn array A (where n is an odd number) and returns an array with the same size of A. \n",
        "This new array must have the same values of A in the two diagonals, the middle row, and middle column shown as the white cells of the below figure. All other cells must be 0. Note that loops are not allowed. \n",
        "\n",
        "<img src=\"https://drive.google.com/uc?id=1Y9wtCJ5gUIqo9OMbt_5qgphuVvu8SKfx\" width=\"250px\"/>"
      ]
    },
    {
      "cell_type": "code",
      "metadata": {
        "id": "hDRLx5ztlAeq"
      },
      "source": [
        "# Write your code here\n",
        "import numpy as np\n",
        "\n",
        "def asterisk(A):\n",
        "    \n",
        "    return\n"
      ],
      "execution_count": null,
      "outputs": []
    },
    {
      "cell_type": "markdown",
      "metadata": {
        "id": "TMTJh7LalAeq"
      },
      "source": [
        "### Broadcasting"
      ]
    },
    {
      "cell_type": "markdown",
      "metadata": {
        "id": "Ek5syPXylAeq"
      },
      "source": [
        "#### Write function translate(P, d)\n",
        "where P is a nx2 array and d is a 1D array with two elements. \n",
        "This function creates and returns a 2D arary Q with the same size as P, where Qk,0 = Pk,0 + d0 and Qk,1 = Pk,1 + d1 for all rows k of P. Loops are not allowed. "
      ]
    },
    {
      "cell_type": "code",
      "metadata": {
        "id": "5nldsQy1lAeq"
      },
      "source": [
        "# Write your code here.\n",
        "import numpy as np\n",
        "\n",
        "def translate(P, d):\n",
        "    \n",
        "    return"
      ],
      "execution_count": null,
      "outputs": []
    },
    {
      "cell_type": "markdown",
      "metadata": {
        "id": "qeHJYhExlAer"
      },
      "source": [
        "#### Write function translate(P, d)\n",
        "where P is a 2xn array and d is a 1D array with two elements. This function creates and returns a 2D array Q with the same size as P, where  \n",
        "Q0,k = P0,k + d0 และ Q1,k = P1,k + d1 for all columns k of P. Loops are not allowed. "
      ]
    },
    {
      "cell_type": "code",
      "metadata": {
        "id": "4dRlQv0HlAer"
      },
      "source": [
        "# write your code here\n",
        "import numpy as np\n",
        "\n",
        "def translate(P, d):\n",
        "    \n",
        "    return"
      ],
      "execution_count": null,
      "outputs": []
    },
    {
      "cell_type": "markdown",
      "metadata": {
        "id": "cFYZDwZ9lAer"
      },
      "source": [
        "#### Create an array A with the same size and values as shown below using broadcasting. Loops are not allowed\n",
        "<img src=\"https://drive.google.com/uc?id=1w_hHGMbkqdNsPoTUARf7VGubq0Xk1bzX\" width=\"150px\"/>"
      ]
    },
    {
      "cell_type": "code",
      "metadata": {
        "id": "NPICQFZ2lAer"
      },
      "source": [
        "# Write your code here\n",
        "\n"
      ],
      "execution_count": null,
      "outputs": []
    },
    {
      "cell_type": "markdown",
      "metadata": {
        "id": "VdJZ50jTlAer"
      },
      "source": [
        "#### Create an array A with the same size and values as shown below using broadcasting. Loops are not allowed\n",
        "<img src=\"https://drive.google.com/uc?id=1w4M5pdHKxhD02D_6P1d0hyfu5kiIkOw2\" width=\"150px\"/>\n",
        "\n"
      ]
    },
    {
      "cell_type": "code",
      "metadata": {
        "id": "mJzA7CFIlAer"
      },
      "source": [
        "# Write your code here\n",
        "\n"
      ],
      "execution_count": null,
      "outputs": []
    },
    {
      "cell_type": "markdown",
      "metadata": {
        "id": "ZFjySM4HlAer"
      },
      "source": [
        "#### Create an array A with the same size and values as shown below using broadcasting. Loops are not allowed\n",
        "<img src=\"https://drive.google.com/uc?id=1ph2HXjizer12y_bOF-J6e9495-_5eMVy\" width=\"250px\"/>"
      ]
    },
    {
      "cell_type": "code",
      "metadata": {
        "id": "jrSWB4RplAes"
      },
      "source": [
        "# Write your code here\n",
        "\n"
      ],
      "execution_count": null,
      "outputs": []
    },
    {
      "cell_type": "markdown",
      "metadata": {
        "id": "ol6xeBW2lAes"
      },
      "source": [
        "#### Write function upper_tri_true(n)\n",
        "This function gets an integer n to create and return a nxn array, which contains True (T) values in all cells with the indexed row not greater than the indexed column. Other all cells will be False (F). For example,  upper_tri_true(7) will return the array as shown below. Loops are not allowed. \n",
        "\n",
        "<img src=\"https://drive.google.com/uc?id=1IvLbi0vw0WD-v8KN4OXRWv3wzy08Z6_Q\" width=\"250px\"/>"
      ]
    },
    {
      "cell_type": "code",
      "metadata": {
        "id": "pvqOfub9lAes"
      },
      "source": [
        "# Write your code here\n",
        "\n"
      ],
      "execution_count": null,
      "outputs": []
    },
    {
      "cell_type": "markdown",
      "metadata": {
        "id": "_durXgcZlAes"
      },
      "source": [
        "### Basic NumPy statistical functions"
      ]
    },
    {
      "cell_type": "markdown",
      "metadata": {
        "id": "TCIT2VYhlAes"
      },
      "source": [
        "#### Given A as a 10x8 array of integers, write the instructions to assign the values for the following variables. Loops are not allowed. \n",
        "1. s1 is summation of all values in A. \n",
        "2. s2 is a 1D array with 8 elements, where each is the summation of the same columns across all rows in A. \n",
        "3. m3 is a 1D array with 10 elements, which each is the maximum value of each row in A. \n",
        "4. m4 is a 1D array with 8 elements, where each is the index of row with the maximum value in each column of A. \n",
        "5. a5 is the 1D array with 10 elements, where each is the average of all values within each row of A. "
      ]
    },
    {
      "cell_type": "code",
      "metadata": {
        "id": "XkVX5RXtlAes"
      },
      "source": [
        "# Write your code here\n",
        "\n"
      ],
      "execution_count": null,
      "outputs": []
    },
    {
      "cell_type": "markdown",
      "metadata": {
        "id": "VY0SqlcJlAes"
      },
      "source": [
        "#### Write function eq_array(A, B)\n",
        "which gets arrays A and B and checks if the two arrays are the same or not \n",
        "The \"same\" in this context means the two arrays have the same size and all values within the two arrays are the same. Loops are not allowed. Note that we cannot use only A==B, why?\n"
      ]
    },
    {
      "cell_type": "code",
      "metadata": {
        "id": "6FGmfLxOlAes"
      },
      "source": [
        "import numpy as np\n",
        "\n",
        "def eq_array(A, B):\n",
        "\n",
        "    return \n"
      ],
      "execution_count": null,
      "outputs": []
    },
    {
      "cell_type": "markdown",
      "metadata": {
        "id": "PDJZvwHalAet"
      },
      "source": [
        "#### Write function z_scores(x)\n",
        "which gets a 1D array x containing the scores and returns a 1D array containing the z-score where \n",
        "zi = (xi - μ)/σ, μ and σ is mean and standard deviation of x. Note that loops are not allowed. "
      ]
    },
    {
      "cell_type": "code",
      "metadata": {
        "id": "MJZoHuCblAet"
      },
      "source": [
        "# Write your code here\n",
        "import numpy as np\n",
        "\n",
        "def z_scores(x):\n",
        "\n",
        "    return \n"
      ],
      "execution_count": null,
      "outputs": []
    },
    {
      "cell_type": "markdown",
      "metadata": {
        "id": "n6kNhgYOlAet"
      },
      "source": [
        "#### Write function nearest(x,e)\n",
        "which gets a 1D array x and e is a number. \n",
        "This function will return x that is closest to e. For example,\n",
        "nearest(np.array([10, 30, 3, 4, 9]), 28) will return 30. Loops are not allowed. "
      ]
    },
    {
      "cell_type": "code",
      "metadata": {
        "id": "FVWfRfLElAeu"
      },
      "source": [
        "# Write your code here.\n",
        "\n",
        "import numpy as np\n",
        "\n",
        "def nearest(x,e):\n",
        "\n",
        "    return \n"
      ],
      "execution_count": null,
      "outputs": []
    },
    {
      "cell_type": "markdown",
      "metadata": {
        "id": "_WUDuamClAeu"
      },
      "source": [
        "#### Write function common_items(x1, x2)\n",
        "which gets 1D arrays x1 and x2, where each data elements in each array are distinct. \n",
        "This function will return a 1D array containing the values that are found in both arrays in the order of values\n",
        "in x1. For example, common_items(np.array([1,2,3,4]), np.array([0,4,2])) will return np.array([2,4]). \n",
        "Loops, set, and dict are not allowed."
      ]
    },
    {
      "cell_type": "code",
      "metadata": {
        "id": "74tV0DAilAeu"
      },
      "source": [
        "# Write your code here\n",
        "\n",
        "import numpy as np\n",
        "\n",
        "def common_items(x1,x2):\n",
        "    \n",
        "    return "
      ],
      "execution_count": null,
      "outputs": []
    },
    {
      "cell_type": "markdown",
      "metadata": {
        "id": "h0d1OxP2lAeu"
      },
      "source": [
        "### Dot method"
      ]
    },
    {
      "cell_type": "markdown",
      "metadata": {
        "id": "g2bjJbRLlAeu"
      },
      "source": [
        "#### Write function orthogonal_to_u(vectors, u)\n",
        "which gets vectors as a 2D array, where each row represents a vector while u is a 1D array with the number of data elements equal to the number of columns in vectors.  \n",
        "This function will return a 2D array where each row contains a vector from vectors that is perpendicular to u. The values in this array will in the same order as of the vectors. \n",
        "For example, orthogonal_to_u(np.array([[1,0,0], [0,1,0], [1,1,1]]), np.array([0,0,-2])) will return np.array([[1,0,0], [0,1,0]]). Loops are not allowed. "
      ]
    },
    {
      "cell_type": "code",
      "metadata": {
        "id": "B1ViWUfXlAeu"
      },
      "source": [
        "# Write your code here\n",
        "import numpy as np\n",
        "\n",
        "def orthogonal_to_u(vectors, u):\n",
        "    \n",
        "    return"
      ],
      "execution_count": null,
      "outputs": []
    },
    {
      "cell_type": "markdown",
      "metadata": {
        "id": "BVmKtF7clAeu"
      },
      "source": [
        "#### Write function to_points(grades) and gpa(grades, credits) \n",
        "\n",
        "Function to_points(grades) gets grades as a 1D array that a student obtained for each subject. Note that grade is represented as a letter including\n",
        "A, B+, B, C+, C, D+, D and F. \n",
        "This function will tranform the 1D array grades into another 1D of grading scale, where each letter grade\n",
        "A, B+, B, C+, C, D+, D and F will be mapped to the grading scale 4, 3.5, 3, 2.5, 2, 1.5, 1 and 0, respectively.\n",
        "For example, to_points(np.array([\"A\", \"B+\", \"D\", \"F\"])) will return np.array([4.0, 3.5, 1.0, 0.0]). Loops are not allowed. \n",
        "\n",
        "Then, write function gpa(grades, credits), which gets grades ( the same input as of the to_points(grades)), \n",
        "and credits, a 1D array with the same size as of grades, containing the number of credits of each subject in the same\n",
        "order as of grade. This function will return the average grade, calculated from all subjects. For example, \n",
        "gpa(np.array([\"B+\", \"B\", \"D\", \"C+\"]), np.array([3, 3, 3, 2])) will be calculated as (3.5x3 + 3x3 + 1x3 + 2.5x2)/(3+3+3+2) and returns 2.5. Note that \n",
        "Loops are not allowed."
      ]
    },
    {
      "cell_type": "code",
      "metadata": {
        "id": "kiQLB06xlAeu"
      },
      "source": [
        "# Write your code here\n",
        "\n",
        "import numpy as np\n",
        "\n",
        "def to_points(grades):\n",
        "    \n",
        "    return\n",
        "\n",
        "def gpa(grades, credits):\n",
        "    \n",
        "    return"
      ],
      "execution_count": null,
      "outputs": []
    }
  ]
}
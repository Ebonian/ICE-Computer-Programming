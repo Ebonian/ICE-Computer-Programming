{
  "nbformat": 4,
  "nbformat_minor": 0,
  "metadata": {
    "colab": {
      "name": "08-basic_dict.ipynb",
      "provenance": [],
      "collapsed_sections": [],
      "toc_visible": true
    },
    "kernelspec": {
      "name": "python3",
      "display_name": "Python 3"
    },
    "language_info": {
      "name": "python"
    }
  },
  "cells": [
    {
      "cell_type": "markdown",
      "metadata": {
        "id": "uzhi951KTPwB"
      },
      "source": [
        "# 08-Basic dict"
      ]
    },
    {
      "cell_type": "markdown",
      "metadata": {
        "id": "WZXFoONwIx8Z"
      },
      "source": [
        "## list vs dict\n",
        "\n",
        "A `list` is a collection of items in particular order from left to right.  List uses integer number as an index to access the data.<br>\n",
        "\n",
        "A `dict` is a collection of `key:value` pairs. Each `key` is connected to a `value`."
      ]
    },
    {
      "cell_type": "code",
      "metadata": {
        "id": "caZaHmreI64A",
        "colab": {
          "base_uri": "https://localhost:8080/"
        },
        "outputId": "12588632-373b-4225-e066-050971c2857c"
      },
      "source": [
        "x = [\"MONDAY\", \"TUESDAY\", \"WEDNESDAY\", \"THURSDAY\", \\\n",
        "     \"FRIDAY\", \"SATURDAY\", \"SUNDAY\"]\n",
        "print(type(x), x)\n",
        "print(x[0], x[4], x[-1])"
      ],
      "execution_count": null,
      "outputs": [
        {
          "output_type": "stream",
          "name": "stdout",
          "text": [
            "<class 'list'> ['MONDAY', 'TUESDAY', 'WEDNESDAY', 'THURSDAY', 'FRIDAY', 'SATURDAY', 'SUNDAY']\n",
            "MONDAY FRIDAY SUNDAY\n"
          ]
        }
      ]
    },
    {
      "cell_type": "code",
      "metadata": {
        "id": "g_N_d7n4YZOj",
        "colab": {
          "base_uri": "https://localhost:8080/"
        },
        "outputId": "a1073b19-2e78-4a7a-8f79-0e2a914dcff6"
      },
      "source": [
        "d = {\"MO\":\"MONDAY\", \"TU\":\"TUESDAY\", \"WE\":\"WEDNESDAY\", \"TH\":\"THURSDAY\", \\\n",
        "     \"FR\":\"FRIDAY\", \"SA\":\"SATURDAY\", \"SU\":\"SUNDAY\"}\n",
        "print(type(d), d)\n",
        "print(d[\"MO\"], d[\"WE\"], d[\"SU\"])"
      ],
      "execution_count": null,
      "outputs": [
        {
          "output_type": "stream",
          "name": "stdout",
          "text": [
            "<class 'dict'> {'MO': 'MONDAY', 'TU': 'TUESDAY', 'WE': 'WEDNESDAY', 'TH': 'THURSDAY', 'FR': 'FRIDAY', 'SA': 'SATURDAY', 'SU': 'SUNDAY'}\n",
            "MONDAY WEDNESDAY SUNDAY\n"
          ]
        }
      ]
    },
    {
      "cell_type": "code",
      "metadata": {
        "id": "Zh__9XQOYh_2"
      },
      "source": [
        "d"
      ],
      "execution_count": null,
      "outputs": []
    },
    {
      "cell_type": "markdown",
      "metadata": {
        "id": "63AtdYRYaFwj"
      },
      "source": [
        "## creating a dict\n",
        "\n",
        "dict works like a mapping function from key to its value. <br>\n",
        "`{ key1:value1, key2:value2, ... }`\n",
        "\n",
        "keys must be uniqued. Values can be duplicated. <br>\n",
        "\n",
        "Key can be string, int.  Value can be any data type.\n",
        "\n",
        "####**Important!!**\n",
        "\n",
        "Even though, in Python 3.7 the order of the keys stored are the same as when created, but it does not guarantee that this behavior will remain in the future. When we work with `dict`, the order of the keys might be different each time the program is running.  If we need to guarantee the sequence in some order, we have to move the data to a list and sort in the order that we want.\n",
        "\n",
        "Try \n",
        "https://www.jdoodle.com/python3-programming-online/ and change Python runtime to 3.5.1 to see this behavior."
      ]
    },
    {
      "cell_type": "code",
      "metadata": {
        "id": "aGbWMjZ7KAJz",
        "colab": {
          "base_uri": "https://localhost:8080/"
        },
        "outputId": "8a2ffdc8-6b50-4f74-c67b-193c0a6cc975"
      },
      "source": [
        "!python --version"
      ],
      "execution_count": null,
      "outputs": [
        {
          "output_type": "stream",
          "name": "stdout",
          "text": [
            "Python 3.7.12\n"
          ]
        }
      ]
    },
    {
      "cell_type": "code",
      "metadata": {
        "id": "FLz9FyU6RKfA",
        "colab": {
          "base_uri": "https://localhost:8080/"
        },
        "outputId": "82a55051-dfe9-40b3-d55d-11c502fabd39"
      },
      "source": [
        "grades = {\"1001\": \"A\", \"1002\": \"A\",\n",
        "         \"1003\": \"B\", \"1004\": \"C\",\n",
        "         \"1005\": \"B\", \"1006\": \"A\"}\n",
        "\n",
        "for k in grades:\n",
        "  print(k, grades[k])"
      ],
      "execution_count": null,
      "outputs": [
        {
          "output_type": "stream",
          "name": "stdout",
          "text": [
            "1001 A\n",
            "1002 A\n",
            "1003 B\n",
            "1004 C\n",
            "1005 B\n",
            "1006 A\n"
          ]
        }
      ]
    },
    {
      "cell_type": "markdown",
      "metadata": {
        "id": "BPgeDsj8cx44"
      },
      "source": [
        "key can be float, but may have something unexpected due to approximation."
      ]
    },
    {
      "cell_type": "code",
      "metadata": {
        "id": "H8AW-u7wcKXF",
        "colab": {
          "base_uri": "https://localhost:8080/",
          "height": 35
        },
        "outputId": "e4722dc9-c821-4a47-e00f-00826cb13a45"
      },
      "source": [
        "d = {0.1:'a', 0.2:'b', 0.3:'c', 0.4:'d', 0.5:'3'}\n",
        "x = 0.1\n",
        "d[x]"
      ],
      "execution_count": null,
      "outputs": [
        {
          "output_type": "execute_result",
          "data": {
            "application/vnd.google.colaboratory.intrinsic+json": {
              "type": "string"
            },
            "text/plain": [
              "'a'"
            ]
          },
          "metadata": {},
          "execution_count": 1
        }
      ]
    },
    {
      "cell_type": "code",
      "metadata": {
        "id": "BVfVvbnRdPwU",
        "colab": {
          "base_uri": "https://localhost:8080/",
          "height": 35
        },
        "outputId": "8a7abd99-56a7-40b4-e885-f0dd53e2fc67"
      },
      "source": [
        "x += 0.1\n",
        "d[x]"
      ],
      "execution_count": null,
      "outputs": [
        {
          "output_type": "execute_result",
          "data": {
            "application/vnd.google.colaboratory.intrinsic+json": {
              "type": "string"
            },
            "text/plain": [
              "'b'"
            ]
          },
          "metadata": {},
          "execution_count": 2
        }
      ]
    },
    {
      "cell_type": "code",
      "metadata": {
        "id": "3dDxxYmedR9N",
        "colab": {
          "base_uri": "https://localhost:8080/",
          "height": 185
        },
        "outputId": "38ee41db-b50b-49ce-c480-8c611294c600"
      },
      "source": [
        "x += 0.1\n",
        "d[x]"
      ],
      "execution_count": null,
      "outputs": [
        {
          "output_type": "error",
          "ename": "KeyError",
          "evalue": "ignored",
          "traceback": [
            "\u001b[0;31m---------------------------------------------------------------------------\u001b[0m",
            "\u001b[0;31mKeyError\u001b[0m                                  Traceback (most recent call last)",
            "\u001b[0;32m<ipython-input-3-a2b594bff502>\u001b[0m in \u001b[0;36m<module>\u001b[0;34m()\u001b[0m\n\u001b[1;32m      1\u001b[0m \u001b[0mx\u001b[0m \u001b[0;34m+=\u001b[0m \u001b[0;36m0.1\u001b[0m\u001b[0;34m\u001b[0m\u001b[0;34m\u001b[0m\u001b[0m\n\u001b[0;32m----> 2\u001b[0;31m \u001b[0md\u001b[0m\u001b[0;34m[\u001b[0m\u001b[0mx\u001b[0m\u001b[0;34m]\u001b[0m\u001b[0;34m\u001b[0m\u001b[0;34m\u001b[0m\u001b[0m\n\u001b[0m",
            "\u001b[0;31mKeyError\u001b[0m: 0.30000000000000004"
          ]
        }
      ]
    },
    {
      "cell_type": "markdown",
      "metadata": {
        "id": "gtrWPtg2aBSP"
      },
      "source": [
        "empty list & empty dict"
      ]
    },
    {
      "cell_type": "code",
      "metadata": {
        "id": "KD-ytIsIaSwE",
        "colab": {
          "base_uri": "https://localhost:8080/"
        },
        "outputId": "98bf1d24-2218-4209-f970-ed975a0d28a8"
      },
      "source": [
        "empty_list = []\n",
        "another_empty_list = list()\n",
        "empty_dict = {}\n",
        "another_empty_dict = dict()\n",
        "\n",
        "print(type(empty_list), empty_list)\n",
        "print(type(another_empty_list), another_empty_list)\n",
        "print(type(empty_dict), empty_dict)\n",
        "print(type(another_empty_dict), another_empty_dict)"
      ],
      "execution_count": null,
      "outputs": [
        {
          "output_type": "stream",
          "name": "stdout",
          "text": [
            "<class 'list'> []\n",
            "<class 'list'> []\n",
            "<class 'dict'> {}\n",
            "<class 'dict'> {}\n"
          ]
        }
      ]
    },
    {
      "cell_type": "markdown",
      "metadata": {
        "id": "NuNmVL1ddJXU"
      },
      "source": [
        "### Example: creating a dict\n",
        "Create a variable named `d236` to be a `dict` that has three key, value pairs which are \"TWO\", \"THREE\", and \"SIX\" for keys and the corresponding values are 2, 3, and 6. \n",
        "\n"
      ]
    },
    {
      "cell_type": "code",
      "metadata": {
        "id": "8l556PoHj1D4",
        "colab": {
          "base_uri": "https://localhost:8080/"
        },
        "outputId": "93a35d3b-51e4-4e82-c7eb-d6153cf69a90"
      },
      "source": [
        "d236 = { \"TWO\":2, \"THREE\":3, \"SIX\":6}\n",
        "d236"
      ],
      "execution_count": null,
      "outputs": [
        {
          "output_type": "execute_result",
          "data": {
            "text/plain": [
              "{'SIX': 6, 'THREE': 3, 'TWO': 2}"
            ]
          },
          "metadata": {},
          "execution_count": 4
        }
      ]
    },
    {
      "cell_type": "markdown",
      "metadata": {
        "id": "LCxoDznxNNZC"
      },
      "source": [
        "d236x = { 2:\"two\", 3:\"three\", 6:\"six\"}\n",
        "d236x.keys()"
      ]
    },
    {
      "cell_type": "markdown",
      "metadata": {
        "id": "ZMbI2soihpiS"
      },
      "source": [
        "### Exercise 8-1\n",
        "\n",
        "Write a program that reads one line of input as airport code and province name separated by space to create a dict airports = {\"BKK\":\"Bangkok\", \"DMK\":\"Bangkok\", \"HKT\":\"Phuket\", \"CNX\":\"Chiangmai\" } \n"
      ]
    },
    {
      "cell_type": "code",
      "metadata": {
        "id": "vYfrxnPIexT_"
      },
      "source": [
        "x = input()\n",
        "# BKK Bangkok DMK Bangkok HKT Phuket CNX Chiangmai\n",
        "x = x.split()\n",
        "airports = { x[0]:x[1], x[2]:x[3], x[4]:x[5], x[6]:x[7]}"
      ],
      "execution_count": null,
      "outputs": []
    },
    {
      "cell_type": "code",
      "metadata": {
        "colab": {
          "base_uri": "https://localhost:8080/"
        },
        "id": "l2KjGkMiOBlR",
        "outputId": "2077d125-faf4-413d-fab0-33226729ca5a"
      },
      "source": [
        "airports"
      ],
      "execution_count": null,
      "outputs": [
        {
          "output_type": "execute_result",
          "data": {
            "text/plain": [
              "{'BKK': 'Bangkok', 'CNX': 'Chiangmai', 'DMK': 'Bangkok', 'HKT': 'Phuket'}"
            ]
          },
          "metadata": {},
          "execution_count": 4
        }
      ]
    },
    {
      "cell_type": "markdown",
      "metadata": {
        "id": "F0paH0CwSDCE"
      },
      "source": [
        "## Access data in dict\n",
        "\n",
        "We can access data in a dict via its key.  If the key is valid, the value will be returned.  If the key is invalid (not in the dict), there will be an error, \"KeyError\". <br>\n",
        "\n",
        "We can only get from key -> value. <br>\n",
        "There is no value -> key."
      ]
    },
    {
      "cell_type": "code",
      "metadata": {
        "id": "tOQYPexqaRfX"
      },
      "source": [
        "grades = {\"6130186221\": \"A\", \"6230221221\": \"A\",\n",
        "          \"6231009821\": \"B\", \"6230543921\": \"C\",\n",
        "          \"6230431521\": \"B\", \"6230276821\": \"A\"}\n"
      ],
      "execution_count": null,
      "outputs": []
    },
    {
      "cell_type": "code",
      "metadata": {
        "id": "3x3sDqo-RshT",
        "colab": {
          "base_uri": "https://localhost:8080/",
          "height": 35
        },
        "outputId": "015c37c4-d642-4972-8044-5b2d1f829d46"
      },
      "source": [
        "# access data in dict via key\n",
        "grades['6130186221']"
      ],
      "execution_count": null,
      "outputs": [
        {
          "output_type": "execute_result",
          "data": {
            "application/vnd.google.colaboratory.intrinsic+json": {
              "type": "string"
            },
            "text/plain": [
              "'A'"
            ]
          },
          "metadata": {},
          "execution_count": 18
        }
      ]
    },
    {
      "cell_type": "code",
      "metadata": {
        "id": "9OTLhWJwZikI",
        "colab": {
          "base_uri": "https://localhost:8080/",
          "height": 35
        },
        "outputId": "0708cdc7-b4aa-4cac-9384-86762325ccf8"
      },
      "source": [
        "grades['6230431521']"
      ],
      "execution_count": null,
      "outputs": [
        {
          "output_type": "execute_result",
          "data": {
            "application/vnd.google.colaboratory.intrinsic+json": {
              "type": "string"
            },
            "text/plain": [
              "'B'"
            ]
          },
          "metadata": {},
          "execution_count": 19
        }
      ]
    },
    {
      "cell_type": "code",
      "metadata": {
        "id": "-E7FBR7xZjEO",
        "colab": {
          "base_uri": "https://localhost:8080/",
          "height": 185
        },
        "outputId": "9c8a1567-91b1-4973-c237-b8fa36af0f23"
      },
      "source": [
        "# what happen when key is not in dict\n",
        "grades['6231010921']"
      ],
      "execution_count": null,
      "outputs": [
        {
          "output_type": "error",
          "ename": "NameError",
          "evalue": "ignored",
          "traceback": [
            "\u001b[0;31m---------------------------------------------------------------------------\u001b[0m",
            "\u001b[0;31mNameError\u001b[0m                                 Traceback (most recent call last)",
            "\u001b[0;32m<ipython-input-1-d25040940b3f>\u001b[0m in \u001b[0;36m<module>\u001b[0;34m()\u001b[0m\n\u001b[1;32m      1\u001b[0m \u001b[0;31m# what happen when key is not in dict\u001b[0m\u001b[0;34m\u001b[0m\u001b[0;34m\u001b[0m\u001b[0;34m\u001b[0m\u001b[0m\n\u001b[0;32m----> 2\u001b[0;31m \u001b[0mgrades\u001b[0m\u001b[0;34m[\u001b[0m\u001b[0;34m'6231010921'\u001b[0m\u001b[0;34m]\u001b[0m\u001b[0;34m\u001b[0m\u001b[0;34m\u001b[0m\u001b[0m\n\u001b[0m",
            "\u001b[0;31mNameError\u001b[0m: name 'grades' is not defined"
          ]
        }
      ]
    },
    {
      "cell_type": "code",
      "metadata": {
        "id": "4K0Oh_rxeXgB"
      },
      "source": [
        "ID = input()\n",
        "while ID != \"q\":\n",
        "    print(ID, \"-->\", grades[ID])\n",
        "    ID = input()"
      ],
      "execution_count": null,
      "outputs": []
    },
    {
      "cell_type": "markdown",
      "metadata": {
        "id": "MxJ_iyBXfqVu"
      },
      "source": [
        "### `if k in dict / if k not in dict`\n",
        "\n",
        "Before access the dict, you should make sure that the key to be accessed in in the dict."
      ]
    },
    {
      "cell_type": "code",
      "metadata": {
        "id": "jiJEFmMEf3eD",
        "colab": {
          "base_uri": "https://localhost:8080/"
        },
        "outputId": "270b9fa8-6fc7-47a8-cf4e-88f5f1e92691"
      },
      "source": [
        "grades = {\"6130186221\": \"A\", \"6230221221\": \"A\",\n",
        "          \"6231009821\": \"B\", \"6230543921\": \"C\",\n",
        "          \"6230431521\": \"B\", \"6230276821\": \"A\"}\n",
        "\n",
        "ID = input()\n",
        "while ID != \"q\":\n",
        "    if ID in grades:\n",
        "        print(ID, \"-->\", grades[ID])\n",
        "    else:\n",
        "        print(ID, \" not found\")\n",
        "    ID = input()"
      ],
      "execution_count": null,
      "outputs": [
        {
          "name": "stdout",
          "output_type": "stream",
          "text": [
            "6231009821\n",
            "6231009821 --> B\n",
            "6230543921\n",
            "6230543921 --> C\n",
            "64333333321\n",
            "64333333321  not found\n",
            "24523452\n",
            "24523452  not found\n",
            "q\n"
          ]
        }
      ]
    },
    {
      "cell_type": "markdown",
      "metadata": {
        "id": "zw3JiAYieDqJ"
      },
      "source": [
        "### Exercise 8-2\n",
        "\n",
        "Create a variable named `count_alpha` as a dict that has key as all English alphabets (upper and lower cases), and has all values as 0.\n"
      ]
    },
    {
      "cell_type": "code",
      "metadata": {
        "id": "qnxY3vTghULH",
        "colab": {
          "base_uri": "https://localhost:8080/"
        },
        "outputId": "946cdf00-062e-4071-edc4-354dbf2020cf"
      },
      "source": [
        "alphabets = 'abcdefghijklmnopqrstuvwxyz'\n",
        "alphabets += alphabets.upper()\n",
        "count_alpha = {}\n",
        "for c in alphabets:\n",
        "    count_alpha[c] = 0\n",
        "count_alpha"
      ],
      "execution_count": null,
      "outputs": [
        {
          "output_type": "execute_result",
          "data": {
            "text/plain": [
              "{'A': 0,\n",
              " 'B': 0,\n",
              " 'C': 0,\n",
              " 'D': 0,\n",
              " 'E': 0,\n",
              " 'F': 0,\n",
              " 'G': 0,\n",
              " 'H': 0,\n",
              " 'I': 0,\n",
              " 'J': 0,\n",
              " 'K': 0,\n",
              " 'L': 0,\n",
              " 'M': 0,\n",
              " 'N': 0,\n",
              " 'O': 0,\n",
              " 'P': 0,\n",
              " 'Q': 0,\n",
              " 'R': 0,\n",
              " 'S': 0,\n",
              " 'T': 0,\n",
              " 'U': 0,\n",
              " 'V': 0,\n",
              " 'W': 0,\n",
              " 'X': 0,\n",
              " 'Y': 0,\n",
              " 'Z': 0,\n",
              " 'a': 0,\n",
              " 'b': 0,\n",
              " 'c': 0,\n",
              " 'd': 0,\n",
              " 'e': 0,\n",
              " 'f': 0,\n",
              " 'g': 0,\n",
              " 'h': 0,\n",
              " 'i': 0,\n",
              " 'j': 0,\n",
              " 'k': 0,\n",
              " 'l': 0,\n",
              " 'm': 0,\n",
              " 'n': 0,\n",
              " 'o': 0,\n",
              " 'p': 0,\n",
              " 'q': 0,\n",
              " 'r': 0,\n",
              " 's': 0,\n",
              " 't': 0,\n",
              " 'u': 0,\n",
              " 'v': 0,\n",
              " 'w': 0,\n",
              " 'x': 0,\n",
              " 'y': 0,\n",
              " 'z': 0}"
            ]
          },
          "metadata": {},
          "execution_count": 2
        }
      ]
    },
    {
      "cell_type": "markdown",
      "metadata": {
        "id": "3xKD3Q__hUzu"
      },
      "source": [
        "### Exercise 8-3\n",
        "\n",
        "This program has a variable named `student1` stores a student's data.  Write read_data() function that reads keyboard input that has student_id, first-lastname, birthdate, birthmonth, birthyear (separated by comma and space) then store s in a dict that similar to `student1` and return that as function's result.  For example, <br>\n",
        "\n",
        "**Input**\n",
        "- 4230000021, Natalie P., 9, 6, 1981\n",
        "\n",
        "**Result from read_data**\n",
        "- `{\"ID\": \"4230000021\", \"Name\":\"Natalie P.\", \"Birthdate\": [9, 6, 1981]}`\n",
        "\n"
      ]
    },
    {
      "cell_type": "code",
      "metadata": {
        "id": "ubgdf0caho7L",
        "colab": {
          "base_uri": "https://localhost:8080/"
        },
        "outputId": "a750f606-7c6f-459e-a2b4-c91525b5a379"
      },
      "source": [
        "def read_data():\n",
        "    x = input().split(\", \")\n",
        "    d = {\"ID\": x[0],\n",
        "         \"Name\": x[1],\n",
        "         \"Birthdate\": [int(x[2]), int(x[3]), int(x[4])]}\n",
        "    return d\n",
        "\n",
        "student1 = {\"ID\": \"5830000021\", \n",
        "            \"Name\": \"Pranpriya M.\", \n",
        "            \"Birthdate\": [27, 3, 1997]}\n",
        "student2 = read_data()\n",
        "print(student2)"
      ],
      "execution_count": null,
      "outputs": [
        {
          "output_type": "stream",
          "name": "stdout",
          "text": [
            "123456, Aung, 4, 4, 1982\n",
            "{'ID': '123456', 'Name': 'Aung', 'Birthdate': [4, 4, 1982]}\n"
          ]
        }
      ]
    },
    {
      "cell_type": "markdown",
      "metadata": {
        "id": "IwKX2PB_YnbI"
      },
      "source": [
        "## Add/Update value in dict\n",
        "\n",
        "When you assign a data to a key, if the key is not in dict, `key:data` will be added to the dict. If the key is already in dict, the data will  replace the original value."
      ]
    },
    {
      "cell_type": "code",
      "metadata": {
        "id": "FEL9spqFiSuV",
        "colab": {
          "base_uri": "https://localhost:8080/"
        },
        "outputId": "9334f38e-cecb-48f7-bc25-b910af7986bc"
      },
      "source": [
        "d = {}\n",
        "d[2] = 'abc'\n",
        "d"
      ],
      "execution_count": null,
      "outputs": [
        {
          "output_type": "execute_result",
          "data": {
            "text/plain": [
              "{2: 'abc'}"
            ]
          },
          "metadata": {},
          "execution_count": 29
        }
      ]
    },
    {
      "cell_type": "code",
      "metadata": {
        "id": "LUQg5wsJibDI",
        "colab": {
          "base_uri": "https://localhost:8080/"
        },
        "outputId": "237ef408-dd4c-4775-b9fd-a8e3d7c1c3b2"
      },
      "source": [
        "d['x'] = 5\n",
        "d"
      ],
      "execution_count": null,
      "outputs": [
        {
          "output_type": "execute_result",
          "data": {
            "text/plain": [
              "{2: 'abc', 'x': 5}"
            ]
          },
          "metadata": {},
          "execution_count": 30
        }
      ]
    },
    {
      "cell_type": "code",
      "metadata": {
        "id": "5pqkFQ6Hiikd",
        "colab": {
          "base_uri": "https://localhost:8080/"
        },
        "outputId": "262b9fe6-e196-4114-beca-223c6f2542bf"
      },
      "source": [
        "d[3] = 0\n",
        "d"
      ],
      "execution_count": null,
      "outputs": [
        {
          "output_type": "execute_result",
          "data": {
            "text/plain": [
              "{2: 'abc', 3: 0, 'x': 5}"
            ]
          },
          "metadata": {},
          "execution_count": 31
        }
      ]
    },
    {
      "cell_type": "code",
      "metadata": {
        "id": "RyMcotk-io8C",
        "colab": {
          "base_uri": "https://localhost:8080/"
        },
        "outputId": "60a1a98b-3ae7-46cf-c728-45e1baf2226c"
      },
      "source": [
        "d[2] = '+++'\n",
        "d"
      ],
      "execution_count": null,
      "outputs": [
        {
          "output_type": "execute_result",
          "data": {
            "text/plain": [
              "{2: '+++', 3: 0, 'x': 5}"
            ]
          },
          "metadata": {},
          "execution_count": 32
        }
      ]
    },
    {
      "cell_type": "code",
      "metadata": {
        "id": "5mRDAGPSYsKw",
        "colab": {
          "base_uri": "https://localhost:8080/"
        },
        "outputId": "09d67be8-abf6-43b3-e86a-2396e01b7f86"
      },
      "source": [
        "grade = { }   # empty dict \n",
        "n = int(input())\n",
        "for k in range(n):\n",
        "  ID, g = input().split()\n",
        "  grade[ ID ] = g\n",
        "print(grade)\n"
      ],
      "execution_count": null,
      "outputs": [
        {
          "output_type": "stream",
          "name": "stdout",
          "text": [
            "4\n",
            "1 A\n",
            "2 B\n",
            "3 C\n",
            "4 E\n",
            "{'1': 'A', '2': 'B', '3': 'C', '4': 'E'}\n"
          ]
        }
      ]
    },
    {
      "cell_type": "markdown",
      "metadata": {
        "id": "1Z4rjIRMTZtr"
      },
      "source": [
        "### Example: Voting\n",
        "\n",
        "Have a list of names\n",
        "Input name votes\n",
        "```\n",
        "BLACKPINK = [\"Jisoo\", \"Jennie\", \"Rosé\", \"Lisa\"]\n",
        "Lisa Lisa Lisa Lisa Jennie Aum Jisoo Lisa\n",
        "```\n",
        "Show vote result\n"
      ]
    },
    {
      "cell_type": "code",
      "metadata": {
        "id": "kOnywxSQSm4q",
        "colab": {
          "base_uri": "https://localhost:8080/"
        },
        "outputId": "86ab3951-bc81-4eec-e8d3-612d295c48ad"
      },
      "source": [
        "BLACKPINK = [\"Jisoo\", \"Jennie\", \"Rosé\", \"Lisa\"]\n",
        "votes = {}               # create empty dict\n",
        "for name in BLACKPINK:\n",
        "  votes[name] = 0      # add new key: value into dict\n",
        "# {\"Jisoo\": 0, \"Jennie\": 0, \"Rosé\": 0, \"Lisa\": 0}\n",
        "\n",
        "votes"
      ],
      "execution_count": null,
      "outputs": [
        {
          "output_type": "execute_result",
          "data": {
            "text/plain": [
              "{'Jennie': 0, 'Jisoo': 0, 'Lisa': 0, 'Rosé': 0}"
            ]
          },
          "metadata": {},
          "execution_count": 35
        }
      ]
    },
    {
      "cell_type": "code",
      "metadata": {
        "id": "xEQoS1bSo4Rt",
        "colab": {
          "base_uri": "https://localhost:8080/"
        },
        "outputId": "52f39d6a-6907-4b64-e378-b89691793590"
      },
      "source": [
        "names = input().split()\n",
        "for name in names:\n",
        "  if name in BLACKPINK:\n",
        "    votes[name] += 1  # increment value\n",
        "\n",
        "votes"
      ],
      "execution_count": null,
      "outputs": [
        {
          "name": "stdout",
          "output_type": "stream",
          "text": [
            "Lisa Lisa Lisa Lisa Jennie Aum Jisoo Lisa\n"
          ]
        },
        {
          "output_type": "execute_result",
          "data": {
            "text/plain": [
              "{'Jennie': 1, 'Jisoo': 1, 'Lisa': 5, 'Rosé': 0}"
            ]
          },
          "metadata": {},
          "execution_count": 36
        }
      ]
    },
    {
      "cell_type": "code",
      "metadata": {
        "id": "6eoBqpU7qHQK",
        "colab": {
          "base_uri": "https://localhost:8080/"
        },
        "outputId": "bfc7b93a-4c52-4c2f-bddc-d83a3d47b8c7"
      },
      "source": [
        "for name in BLACKPINK:\n",
        "  print(name, \"-->\", votes[name]) # get value"
      ],
      "execution_count": null,
      "outputs": [
        {
          "output_type": "stream",
          "name": "stdout",
          "text": [
            "Jisoo --> 1\n",
            "Jennie --> 1\n",
            "Rosé --> 0\n",
            "Lisa --> 5\n"
          ]
        }
      ]
    },
    {
      "cell_type": "code",
      "metadata": {
        "colab": {
          "base_uri": "https://localhost:8080/"
        },
        "id": "k3Z9yb3BVK-E",
        "outputId": "95415644-8100-4832-f6bc-901a0b6902df"
      },
      "source": [
        "for name in BLACKPINK:\n",
        "    if votes[name] > 4:\n",
        "        print(name, \"-->\", votes[name])"
      ],
      "execution_count": null,
      "outputs": [
        {
          "output_type": "stream",
          "name": "stdout",
          "text": [
            "Lisa --> 5\n"
          ]
        }
      ]
    },
    {
      "cell_type": "markdown",
      "metadata": {
        "id": "e5SB20fWgt90"
      },
      "source": [
        "### Exercise 8-4\n",
        "\n",
        "Write a function `add(points, members, extra)` that takes\n",
        "- a dict,  `points` that stores the data in the formate { member_id:point } \n",
        "- a list, `members` that stores member ids\n",
        "- an integer, `extra` as reward points that will be added to dict `points` for each member specified in `members`\n",
        "\n",
        "This function only updates `points` and will return nothing.\n"
      ]
    },
    {
      "cell_type": "code",
      "metadata": {
        "id": "U8quDpCMoYTp",
        "colab": {
          "base_uri": "https://localhost:8080/"
        },
        "outputId": "8b2307a4-04c0-4f63-c8d2-487d3dc2151a"
      },
      "source": [
        "# points -> { 'X001':200, 'X002':100, 'X003':1000, 'X004': 150}\n",
        "# members -> ['X001', 'X003']\n",
        "# extra -> 30\n",
        "# points should be { 'X001':200+30, 'X002':100, 'X003':1000+30, 'X004': 150}\n",
        "def add(points, members, extra):\n",
        "    for member in members:\n",
        "        if member in points:\n",
        "            #points[member] = points[member] + extra\n",
        "            points[member] += extra\n",
        "\n",
        "x = { 'X001':200, 'X002':100, 'X003':1000, 'X004': 150}\n",
        "y = ['X001', 'X003', 'X002']\n",
        "z = 500\n",
        "print(x)\n",
        "add(x, y, z)\n",
        "print(x)\n"
      ],
      "execution_count": null,
      "outputs": [
        {
          "output_type": "stream",
          "name": "stdout",
          "text": [
            "{'X001': 200, 'X002': 100, 'X003': 1000, 'X004': 150}\n",
            "{'X001': 700, 'X002': 600, 'X003': 1500, 'X004': 150}\n"
          ]
        }
      ]
    },
    {
      "cell_type": "markdown",
      "metadata": {
        "id": "tbmg5FBfap8f"
      },
      "source": [
        "## Access every key in dict\n",
        "\n",
        "###`for each_key in a_dict`\n",
        "\n",
        "Note: If this program is running with Python 3.7, the order of keys will be the same as the order of creating but it does not guarantee that this behavior will remain in later version of Python. (Python in Grader also has random order of keys)\n"
      ]
    },
    {
      "cell_type": "code",
      "metadata": {
        "id": "-9u3upJKas8T",
        "colab": {
          "base_uri": "https://localhost:8080/"
        },
        "outputId": "6c56c61e-18a7-4aa2-929d-5e7ea77f1664"
      },
      "source": [
        "ordinal = {\"first\": 1, \"second\": 2, \"third\": 3, \n",
        "           \"fourth\": 4, \"fifth\": 5, \"sixth\": 6, \n",
        "           \"seventh\": 7, \"eighth\": 8,\n",
        "           \"ninth\": 9, \"tenth\": 10 }\n",
        "\n",
        "for key in ordinal:\n",
        "  print(key, \"-->\", ordinal[key] )"
      ],
      "execution_count": null,
      "outputs": [
        {
          "output_type": "stream",
          "name": "stdout",
          "text": [
            "first --> 1\n",
            "second --> 2\n",
            "third --> 3\n",
            "fourth --> 4\n",
            "fifth --> 5\n",
            "sixth --> 6\n",
            "seventh --> 7\n",
            "eighth --> 8\n",
            "ninth --> 9\n",
            "tenth --> 10\n"
          ]
        }
      ]
    },
    {
      "cell_type": "markdown",
      "metadata": {
        "id": "y4N_EqZXvLMa"
      },
      "source": [
        "### `dict.keys(), dict.values(), dict.items()`"
      ]
    },
    {
      "cell_type": "code",
      "metadata": {
        "id": "OJpBX8BBvTOp",
        "colab": {
          "base_uri": "https://localhost:8080/"
        },
        "outputId": "a7ac1aea-60b8-49b4-8158-802a1ef9b382"
      },
      "source": [
        "ordinal.keys()"
      ],
      "execution_count": null,
      "outputs": [
        {
          "output_type": "execute_result",
          "data": {
            "text/plain": [
              "dict_keys(['first', 'second', 'third', 'fourth', 'fifth', 'sixth', 'seventh', 'eighth', 'ninth', 'tenth'])"
            ]
          },
          "metadata": {},
          "execution_count": 9
        }
      ]
    },
    {
      "cell_type": "code",
      "metadata": {
        "colab": {
          "base_uri": "https://localhost:8080/"
        },
        "id": "H2fsD398dD7b",
        "outputId": "f741d30f-9a08-4018-bce8-9121abc3c5ad"
      },
      "source": [
        "print(ordinal.keys())\n",
        "print(sorted(ordinal.keys()))\n",
        "for key in sorted(ordinal.keys()):    \n",
        "    print(ordinal[key])"
      ],
      "execution_count": null,
      "outputs": [
        {
          "output_type": "stream",
          "name": "stdout",
          "text": [
            "dict_keys(['first', 'second', 'third', 'fourth', 'fifth', 'sixth', 'seventh', 'eighth', 'ninth', 'tenth'])\n",
            "['eighth', 'fifth', 'first', 'fourth', 'ninth', 'second', 'seventh', 'sixth', 'tenth', 'third']\n",
            "8\n",
            "5\n",
            "1\n",
            "4\n",
            "9\n",
            "2\n",
            "7\n",
            "6\n",
            "10\n",
            "3\n"
          ]
        }
      ]
    },
    {
      "cell_type": "code",
      "metadata": {
        "id": "wH2flEZjvaI4",
        "colab": {
          "base_uri": "https://localhost:8080/"
        },
        "outputId": "4dfaef8b-9bf2-472d-e3b8-85589f6ce13d"
      },
      "source": [
        "ordinal.values()"
      ],
      "execution_count": null,
      "outputs": [
        {
          "output_type": "execute_result",
          "data": {
            "text/plain": [
              "dict_values([1, 2, 3, 4, 5, 6, 7, 8, 9, 10])"
            ]
          },
          "metadata": {},
          "execution_count": 49
        }
      ]
    },
    {
      "cell_type": "code",
      "metadata": {
        "id": "NtsXxqx3vgHL",
        "colab": {
          "base_uri": "https://localhost:8080/"
        },
        "outputId": "c288e6a2-a0d0-4c7d-99a8-2c132b4d10ba"
      },
      "source": [
        "ordinal.items()"
      ],
      "execution_count": null,
      "outputs": [
        {
          "output_type": "execute_result",
          "data": {
            "text/plain": [
              "dict_items([('first', 1), ('second', 2), ('third', 3), ('fourth', 4), ('fifth', 5), ('sixth', 6), ('seventh', 7), ('eighth', 8), ('ninth', 9), ('tenth', 10)])"
            ]
          },
          "metadata": {},
          "execution_count": 50
        }
      ]
    },
    {
      "cell_type": "code",
      "metadata": {
        "colab": {
          "base_uri": "https://localhost:8080/"
        },
        "id": "1BmssM8idwDf",
        "outputId": "f2f78eb9-90d2-43c0-baf4-c33e833e5010"
      },
      "source": [
        "# create reverse_ordinal\n",
        "reverse_ordinal = {}\n",
        "for key, value in ordinal.items():\n",
        "    reverse_ordinal[value] = key\n",
        "reverse_ordinal"
      ],
      "execution_count": null,
      "outputs": [
        {
          "output_type": "execute_result",
          "data": {
            "text/plain": [
              "{1: 'first',\n",
              " 2: 'second',\n",
              " 3: 'third',\n",
              " 4: 'fourth',\n",
              " 5: 'fifth',\n",
              " 6: 'sixth',\n",
              " 7: 'seventh',\n",
              " 8: 'eighth',\n",
              " 9: 'ninth',\n",
              " 10: 'tenth'}"
            ]
          },
          "metadata": {},
          "execution_count": 53
        }
      ]
    },
    {
      "cell_type": "code",
      "metadata": {
        "colab": {
          "base_uri": "https://localhost:8080/"
        },
        "id": "flIzOwfAeiYo",
        "outputId": "9b776673-6bf9-4234-cf1d-837b195ef077"
      },
      "source": [
        "for key in sorted(reverse_ordinal.keys(), reverse=True):\n",
        "    print(key, reverse_ordinal[key])"
      ],
      "execution_count": null,
      "outputs": [
        {
          "output_type": "stream",
          "name": "stdout",
          "text": [
            "10 tenth\n",
            "9 ninth\n",
            "8 eighth\n",
            "7 seventh\n",
            "6 sixth\n",
            "5 fifth\n",
            "4 fourth\n",
            "3 third\n",
            "2 second\n",
            "1 first\n"
          ]
        }
      ]
    },
    {
      "cell_type": "code",
      "metadata": {
        "colab": {
          "base_uri": "https://localhost:8080/"
        },
        "id": "uu0r1ajTfVIb",
        "outputId": "09f6b414-182b-444d-9ac0-ac63de556419"
      },
      "source": [
        "#sorted([[len(e), e] for e in ordinal])\n",
        "print(ordinal)\n",
        "\n",
        "print(sorted([[len(e), e] for e in ordinal], reverse=True))\n",
        "\n",
        "for [x1, x2] in sorted([[len(e), e] for e in ordinal], reverse=True):\n",
        "    print(x2, ordinal[x2])\n"
      ],
      "execution_count": null,
      "outputs": [
        {
          "output_type": "stream",
          "name": "stdout",
          "text": [
            "{'first': 1, 'second': 2, 'third': 3, 'fourth': 4, 'fifth': 5, 'sixth': 6, 'seventh': 7, 'eighth': 8, 'ninth': 9, 'tenth': 10}\n",
            "[[7, 'seventh'], [6, 'second'], [6, 'fourth'], [6, 'eighth'], [5, 'third'], [5, 'tenth'], [5, 'sixth'], [5, 'ninth'], [5, 'first'], [5, 'fifth']]\n",
            "seventh 7\n",
            "second 2\n",
            "fourth 4\n",
            "eighth 8\n",
            "third 3\n",
            "tenth 10\n",
            "sixth 6\n",
            "ninth 9\n",
            "first 1\n",
            "fifth 5\n"
          ]
        }
      ]
    },
    {
      "cell_type": "markdown",
      "metadata": {
        "id": "kSSDAeB4pRn9"
      },
      "source": [
        "### Exercise 8-5\n",
        "\n",
        "Write a function `get_courseIDs(number_of_students, k)` where:\n",
        "- `number_of_students` is a dict that stores data in format  {course_id: total_student_registered}\n",
        "- `k` is an integer number\n",
        "\n",
        "This function returns a list of all course ids that has total number of students registered at least `k` people.  The course ids should be sorted in ascending order. "
      ]
    },
    {
      "cell_type": "code",
      "metadata": {
        "id": "b-wPuMfRreNJ",
        "colab": {
          "base_uri": "https://localhost:8080/"
        },
        "outputId": "7f226571-57dc-4f84-f5d2-d77d297f9ae1"
      },
      "source": [
        "def get_courseIDs(number_of_students, k):\n",
        "    courses = []\n",
        "    for key in number_of_students :\n",
        "      if int(number_of_students[key]) >= k :\n",
        "        courses.append(key)\n",
        "    return sorted(courses, reverse=False)\n",
        "\n",
        "d = {\"2190101\":\"55\", \"2190415\":\"60\", \"2190443\":\"25\"}\n",
        "print(get_courseIDs(d,55))"
      ],
      "execution_count": null,
      "outputs": [
        {
          "output_type": "stream",
          "name": "stdout",
          "text": [
            "['2190101', '2190415']\n"
          ]
        }
      ]
    },
    {
      "cell_type": "markdown",
      "metadata": {
        "id": "2cRbYI-TTUfA"
      },
      "source": [
        "## Examples"
      ]
    },
    {
      "cell_type": "markdown",
      "metadata": {
        "id": "J6372t5CuFHU"
      },
      "source": [
        "### Is a value in the dict?"
      ]
    },
    {
      "cell_type": "code",
      "metadata": {
        "id": "Pzj9lFcOueZW",
        "colab": {
          "base_uri": "https://localhost:8080/"
        },
        "outputId": "a775eda7-f306-4c6b-f151-54c78c230436"
      },
      "source": [
        "ordinal = {\"first\": 1, \"second\": 2, \"third\": 3, \n",
        "           \"fourth\": 4, \"fifth\": 5, \"sixth\": 6, \n",
        "           \"seventh\": 7, \"eighth\": 8,\n",
        "           \"ninth\": 9, \"tenth\": 10 }\n",
        "\n",
        "# is a key in dict?\n",
        "'third' in ordinal\n",
        "'forth' in ordinal.keys()"
      ],
      "execution_count": null,
      "outputs": [
        {
          "output_type": "execute_result",
          "data": {
            "text/plain": [
              "False"
            ]
          },
          "metadata": {},
          "execution_count": 7
        }
      ]
    },
    {
      "cell_type": "code",
      "metadata": {
        "id": "Xc6RpR5FwpLT",
        "colab": {
          "base_uri": "https://localhost:8080/"
        },
        "outputId": "9b7d80df-6f60-4870-cb17-9f369e8d4a40"
      },
      "source": [
        "# is 3 in the dict's value?\n",
        "3 in ordinal "
      ],
      "execution_count": null,
      "outputs": [
        {
          "output_type": "execute_result",
          "data": {
            "text/plain": [
              "False"
            ]
          },
          "metadata": {},
          "execution_count": 9
        }
      ]
    },
    {
      "cell_type": "code",
      "metadata": {
        "id": "ysgzsFmwwvS_",
        "colab": {
          "base_uri": "https://localhost:8080/"
        },
        "outputId": "76bcee83-63b2-437b-8380-d4ea0d222baf"
      },
      "source": [
        "3 in ordinal.values()"
      ],
      "execution_count": null,
      "outputs": [
        {
          "output_type": "execute_result",
          "data": {
            "text/plain": [
              "True"
            ]
          },
          "metadata": {},
          "execution_count": 72
        }
      ]
    },
    {
      "cell_type": "code",
      "metadata": {
        "id": "6dqPt5CFw7x3",
        "colab": {
          "base_uri": "https://localhost:8080/"
        },
        "outputId": "18b585ce-c7f0-478d-8012-1d36fd318bc6"
      },
      "source": [
        "12 in ordinal.values()"
      ],
      "execution_count": null,
      "outputs": [
        {
          "output_type": "execute_result",
          "data": {
            "text/plain": [
              "False"
            ]
          },
          "metadata": {},
          "execution_count": 73
        }
      ]
    },
    {
      "cell_type": "markdown",
      "metadata": {
        "id": "zFBT3ZruxNku"
      },
      "source": [
        "### What are the keys that has value x"
      ]
    },
    {
      "cell_type": "code",
      "metadata": {
        "id": "QkEWGUMhxhVf",
        "colab": {
          "base_uri": "https://localhost:8080/"
        },
        "outputId": "7ae24400-ef75-4745-c7bc-1935c5ffa202"
      },
      "source": [
        "d = {'a':3, 'b':2, 'c':3, 'd':1, 'e':1}\n",
        "x = 2\n",
        "result = []\n",
        "for k in d:\n",
        "    if d[k] == x:\n",
        "        result.append(k)\n",
        "print(result)"
      ],
      "execution_count": null,
      "outputs": [
        {
          "output_type": "stream",
          "name": "stdout",
          "text": [
            "['b']\n"
          ]
        }
      ]
    },
    {
      "cell_type": "code",
      "metadata": {
        "id": "WhOYoxcNyKYh",
        "colab": {
          "base_uri": "https://localhost:8080/"
        },
        "outputId": "aa93921f-118f-45b6-ac13-ed48fa017fc9"
      },
      "source": [
        "x = 6\n",
        "result = []\n",
        "for k, v in d.items():\n",
        "    if v == x:\n",
        "        result.append(k)\n",
        "print(result)"
      ],
      "execution_count": null,
      "outputs": [
        {
          "output_type": "stream",
          "name": "stdout",
          "text": [
            "[]\n"
          ]
        }
      ]
    },
    {
      "cell_type": "markdown",
      "metadata": {
        "id": "7wc1ZwBZc9vB"
      },
      "source": [
        "### Average value in a dict"
      ]
    },
    {
      "cell_type": "code",
      "metadata": {
        "id": "C75VmMLGdAli",
        "colab": {
          "base_uri": "https://localhost:8080/"
        },
        "outputId": "a76c16a2-f877-4c6c-ab10-6348cac3a8c4"
      },
      "source": [
        "def average( d ):   # d is a dict that have values as number\n",
        "    # sum of all values / number of value\n",
        "    total = 0\n",
        "    for k, v in d.items():\n",
        "        total += v\n",
        "    return round(total/len(d), 2)\n",
        "\n",
        "gpa = {\"6130186221\": 3.15, \"6230221221\": 2.85,\n",
        "       \"6231009821\": 2.90, \"6230543921\": 3.20,\n",
        "       \"6230431521\": 3.35, \"6230276821\": 3.42,\n",
        "       \"234234\": 3.05}\n",
        "\n",
        "print( average(gpa) ) # should be 3.145\n",
        "len(gpa)"
      ],
      "execution_count": null,
      "outputs": [
        {
          "output_type": "stream",
          "name": "stdout",
          "text": [
            "3.13\n"
          ]
        },
        {
          "output_type": "execute_result",
          "data": {
            "text/plain": [
              "7"
            ]
          },
          "metadata": {},
          "execution_count": 85
        }
      ]
    },
    {
      "cell_type": "markdown",
      "metadata": {
        "id": "5Cim1KhvZF2m"
      },
      "source": [
        "### Mapping x -> y, y -> x"
      ]
    },
    {
      "cell_type": "code",
      "metadata": {
        "colab": {
          "base_uri": "https://localhost:8080/"
        },
        "id": "SvG4QPtEZM2c",
        "outputId": "018115fc-d03d-46ee-b094-ec7506e7fa55"
      },
      "source": [
        "d1 = {'2':'two', '3':'three', '4':'four'}\n",
        "d2 = {'two':'2', 'three':'3', 'four':'4'}\n",
        "x = input()\n",
        "if x in d1:\n",
        "    print(d1[x])\n",
        "elif x in d2:\n",
        "    print(d2[x])\n",
        "else:\n",
        "    print('not found')"
      ],
      "execution_count": null,
      "outputs": [
        {
          "output_type": "stream",
          "name": "stdout",
          "text": [
            "two\n",
            "2\n"
          ]
        }
      ]
    },
    {
      "cell_type": "markdown",
      "metadata": {
        "id": "aTF3w0llYcMP"
      },
      "source": [
        "### Show dict result in different order"
      ]
    },
    {
      "cell_type": "code",
      "metadata": {
        "colab": {
          "base_uri": "https://localhost:8080/"
        },
        "id": "6S5t2wUrYqBe",
        "outputId": "e7d56a4e-4116-44a2-bad3-4fd4128521f7"
      },
      "source": [
        "d1 = {2:'two', 3:'three', 4:'four'}\n",
        "d2 = {'two':2, 'three':3, 'four':4}\n",
        "\n",
        "for k in sorted(d1.keys(), reverse=True):\n",
        "    print(k, d1[k])\n",
        "\n",
        "key_len = sorted([[len(e), e] for e in d2.keys()], reverse=True)\n",
        "key_len"
      ],
      "execution_count": null,
      "outputs": [
        {
          "output_type": "stream",
          "name": "stdout",
          "text": [
            "4 four\n",
            "3 three\n",
            "2 two\n"
          ]
        },
        {
          "output_type": "execute_result",
          "data": {
            "text/plain": [
              "[[5, 'three'], [4, 'four'], [3, 'two']]"
            ]
          },
          "metadata": {},
          "execution_count": 100
        }
      ]
    },
    {
      "cell_type": "markdown",
      "metadata": {
        "id": "A9UGQDC9l4fF"
      },
      "source": [
        "### dict access time"
      ]
    },
    {
      "cell_type": "code",
      "metadata": {
        "id": "XP2JmHehl9y2",
        "colab": {
          "base_uri": "https://localhost:8080/"
        },
        "outputId": "dec175d4-648d-43bc-a3d1-3ee97aec1db1"
      },
      "source": [
        "import time\n",
        "def search_all(X):\n",
        "  b = time.time()\n",
        "  n = len(X)\n",
        "  for i in range(n):\n",
        "    if i in X:     # True\n",
        "      pass\n",
        "  for i in range(n):\n",
        "    if (n+1) in X: # False\n",
        "      pass\n",
        "  print(time.time() - b)\n",
        "\n",
        "n = 10000\n",
        "L = []\n",
        "for i in range(n): \n",
        "  L.append(i)\n",
        "D = {}\n",
        "for i in range(n): \n",
        "  D[i] = i\n",
        "\n",
        "search_all(L)\n",
        "search_all(D)"
      ],
      "execution_count": null,
      "outputs": [
        {
          "output_type": "stream",
          "name": "stdout",
          "text": [
            "2.285677909851074\n",
            "0.0019452571868896484\n"
          ]
        }
      ]
    },
    {
      "cell_type": "markdown",
      "metadata": {
        "id": "98IhIFMFZ0dk"
      },
      "source": [
        "## Grader Exercises"
      ]
    },
    {
      "cell_type": "markdown",
      "metadata": {
        "id": "EIgjrFH3uJu3"
      },
      "source": [
        "### Using doctest() to run test cases\n",
        "\n",
        "```\n",
        "'''\n",
        ">>> function_name(arg1, arg2)\n",
        "expected_output1\n",
        ">>> function_name(arg3, arg4)\n",
        "expected_output2\n",
        "'''\n",
        "\n",
        "import doctest\n",
        "doctest.testmod() # to tess all functions\n",
        "doctest.run_docstring_examples(function_name, globals()) # to test a specific function\n",
        "```\n",
        "\n",
        "`doctest` **does not** work with `input()`.\n"
      ]
    },
    {
      "cell_type": "code",
      "metadata": {
        "id": "scCZdXTVikwl",
        "colab": {
          "base_uri": "https://localhost:8080/"
        },
        "outputId": "90b281f3-e999-483c-f754-4e3d52432e92"
      },
      "source": [
        "def add(x, y):\n",
        "    '''\n",
        "    >>> add(2, 3)  \n",
        "    5\n",
        "    >>> add(-2, 3)\n",
        "    1\n",
        "    '''\n",
        "    return x + y\n",
        "\n",
        "if __name__ == \"__main__\":\n",
        "    import doctest\n",
        "    #doctest.testmod()  # to test all functions\n",
        "    doctest.run_docstring_examples(add, globals()) # to test a specific function\n",
        "print('done')"
      ],
      "execution_count": null,
      "outputs": [
        {
          "output_type": "stream",
          "name": "stdout",
          "text": [
            "done\n"
          ]
        }
      ]
    },
    {
      "cell_type": "markdown",
      "metadata": {
        "id": "HuDCdjm_Z40C"
      },
      "source": [
        "### Alphabet count\n",
        "\n",
        "\n",
        "```\n",
        "Input: \n",
        "ABCabcABZ\n",
        "\n",
        "Output:\n",
        "a -> 3\n",
        "b -> 3\n",
        "c -> 3\n",
        "z -> 1\n",
        "```\n",
        "\n"
      ]
    },
    {
      "cell_type": "code",
      "metadata": {
        "id": "_kA0jy4QZ7Gf",
        "colab": {
          "base_uri": "https://localhost:8080/"
        },
        "outputId": "f40a5e1c-205b-4628-a516-0a53aceea57b"
      },
      "source": [
        "def show_dict(d):\n",
        "    '''\n",
        "    >>> show_dict(alphabet_count('ABCabcABZ'))\n",
        "    a -> 3\n",
        "    b -> 3\n",
        "    c -> 2\n",
        "    z -> 1\n",
        "    '''\n",
        "    for k, v in d.items():\n",
        "        print(k, '->', v)\n",
        "\n",
        "def alphabet_count(s):\n",
        "    '''\n",
        "    >>> alphabet_count('ABCabcABZ')\n",
        "    a -> 3\n",
        "    b -> 3\n",
        "    c -> 2\n",
        "    z -> 1\n",
        "    '''\n",
        "    alphabets = \"abcdefghijklmnopqrstuvwxyz\"\n",
        "    alphabet_counts = {}\n",
        "    for c in s.lower():\n",
        "        if c in alphabets:\n",
        "            # get something to count\n",
        "            if c not in alphabet_counts:\n",
        "                alphabet_counts[c] = 1\n",
        "            else:\n",
        "                alphabet_counts[c] += 1\n",
        "\n",
        "    return alphabet_counts\n",
        "\n",
        "import doctest\n",
        "doctest.run_docstring_examples(alphabet_count, globals())\n",
        "#doctest.run_docstring_examples(show_dict, globals())\n"
      ],
      "execution_count": null,
      "outputs": [
        {
          "output_type": "stream",
          "name": "stdout",
          "text": [
            "**********************************************************************\n",
            "File \"__main__\", line 14, in NoName\n",
            "Failed example:\n",
            "    alphabet_count('ABCabcABZ')\n",
            "Expected:\n",
            "    a -> 3\n",
            "    b -> 3\n",
            "    c -> 2\n",
            "    z -> 1\n",
            "Got:\n",
            "    {'a': 3, 'b': 3, 'c': 2, 'z': 1}\n"
          ]
        }
      ]
    },
    {
      "cell_type": "markdown",
      "metadata": {
        "id": "H--sI6T8fv8m"
      },
      "source": [
        "### Two functions"
      ]
    },
    {
      "cell_type": "code",
      "metadata": {
        "id": "IF1mDFUvfyjW"
      },
      "source": [
        "# input:  { \"A\": \"a\", \"B\": \"b\", \"C\": \"c\" }\n",
        "# result: { \"a\": \"A\", \"b\": \"B\", \"c\": \"C\" }\n",
        "def reverse(d) : # d is a dict that has unique values\n",
        "    r = {}\n",
        "\n",
        "    return r"
      ],
      "execution_count": null,
      "outputs": []
    },
    {
      "cell_type": "code",
      "metadata": {
        "id": "2kadB-PlgzKm"
      },
      "source": [
        "# find all keys that has same value, v\n",
        "# return list of keys that has value equals to v\n",
        "def keys( d, v ): \n",
        "    x = []\n",
        "\n",
        "    return x"
      ],
      "execution_count": null,
      "outputs": []
    },
    {
      "cell_type": "markdown",
      "metadata": {
        "id": "fcDKL6l3aucZ"
      },
      "source": [
        "### Nickname, Fullname\n",
        "Write a program that take nickname and display fullname or takes fullname and display nickname using dict\n"
      ]
    },
    {
      "cell_type": "code",
      "metadata": {
        "id": "Bs_D7Frua7U0"
      },
      "source": [
        "def find_name(d) : # d is a dict with pairs fullname:nickname\n",
        "    name = ''\n",
        "    return name\n",
        "\n",
        "names = {'Robert':'Dick', 'William':'Bill', 'James':'Jim', 'John':'Jack' \\\n",
        "         'Margaret':'Peggy', 'Edward':'Ed', 'Sarah':'Sally', \\\n",
        "         'Andrew':'Andy', 'Anthony':'Tony', 'Deborah':'Debbie'}\n",
        "\n",
        "print(find_name('Robert'))) # Dick\n",
        "print(find_name('Dick'))) # Robert\n",
        "print(find_name('Steve'))) # Not found\n",
        "'''\n",
        "Robert\t ⇔ \tDick\n",
        "William\t ⇔ \tBill\n",
        "James\t ⇔ \tJim\n",
        "John\t ⇔ \tJack\n",
        "Margaret\t ⇔ \tPeggy\n",
        "Edward\t ⇔ \tEd\n",
        "Sarah\t ⇔ \tSally\n",
        "Andrew\t ⇔ \tAndy\n",
        "Anthony\t ⇔ \tTony\n",
        "Deborah\t ⇔ \tDebbie \n",
        "'''"
      ],
      "execution_count": null,
      "outputs": []
    },
    {
      "cell_type": "markdown",
      "metadata": {
        "id": "ML_Md63CEOrv"
      },
      "source": [
        "### Ice cream sales\n",
        "```\n",
        "Input:\n",
        "- n, number of ice cream types, follows by n lines of\n",
        "- ice_creame_type item_price\n",
        "\n",
        "- n_sold, number of item sold, follows by n_sold lines of \n",
        "- ice_cream_type amount_sold\n",
        "\n",
        "Output:\n",
        "Total ice cream sales = ...\n",
        "```"
      ]
    },
    {
      "cell_type": "code",
      "metadata": {
        "id": "ntM5DjDPsD67"
      },
      "source": [
        "# get input and create an ice_cream_price dict {icecream_type:price}\n"
      ],
      "execution_count": null,
      "outputs": []
    }
  ]
}